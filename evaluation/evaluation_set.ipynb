{
 "cells": [
  {
   "cell_type": "code",
   "execution_count": 1,
   "metadata": {},
   "outputs": [
    {
     "data": {
      "text/plain": [
       "True"
      ]
     },
     "execution_count": 1,
     "metadata": {},
     "output_type": "execute_result"
    }
   ],
   "source": [
    "from datasets import Dataset, load_dataset\n",
    "from dotenv import load_dotenv\n",
    "from sentence_transformers import CrossEncoder\n",
    "# from ..model.llm import LLM\n",
    "from pandas import DataFrame, read_parquet\n",
    "import numpy as np\n",
    "from sentence_transformers import CrossEncoder\n",
    "\n",
    "load_dotenv(\"../.env\")"
   ]
  },
  {
   "cell_type": "code",
   "execution_count": null,
   "metadata": {},
   "outputs": [],
   "source": [
    "model_name = None\n",
    "model_size = \"7\"\n",
    "adapter = False\n",
    "k_retriever = 10\n",
    "k_reranker = 10\n",
    "reranker_name = \"../models/itrf-\"\n",
    "device_reranker = \"cuda:1\"\n",
    "device_embedding = \"cuda:1\"\n",
    "device_llm = \"cuda:1\"\n",
    "\n"
   ]
  },
  {
   "cell_type": "code",
   "execution_count": null,
   "metadata": {},
   "outputs": [],
   "source": [
    "# Search (same for all models)\n"
   ]
  },
  {
   "cell_type": "code",
   "execution_count": null,
   "metadata": {},
   "outputs": [],
   "source": [
    "# Reranker\n",
    "reranker = None\n",
    "\n",
    "if reranker_name:\n",
    "    reranker = CrossEncoder(reranker_name, num_labels=1, device=device_reranker)\n",
    "\n",
    "def rerank(retrieved_contexts, question, k_reranker=10):\n",
    "    scores = reranker.predict([(question, context) for context in retrieved_contexts])\n",
    "    sorted_contexts = [context for _, context in sorted(zip(scores, retrieved_contexts), reverse=True)]\n",
    "    return sorted_contexts[:k_reranker]"
   ]
  },
  {
   "cell_type": "code",
   "execution_count": null,
   "metadata": {},
   "outputs": [],
   "source": [
    "llm = LLM(size=model_size, quantized=False, model_path=model_name, adapter=adapter)"
   ]
  },
  {
   "cell_type": "code",
   "execution_count": null,
   "metadata": {},
   "outputs": [],
   "source": []
  },
  {
   "cell_type": "markdown",
   "metadata": {},
   "source": [
    "# Set"
   ]
  },
  {
   "cell_type": "code",
   "execution_count": 3,
   "metadata": {},
   "outputs": [],
   "source": [
    "from datasets import load_dataset, Dataset\n",
    "from langchain.embeddings import HuggingFaceBgeEmbeddings\n",
    "from qdrant_client import models, QdrantClient\n",
    "from langchain.vectorstores import Qdrant\n",
    "import time\n",
    "from datetime import timedelta\n",
    "import pandas as pd\n",
    "from pandas import DataFrame\n",
    "import argparse"
   ]
  },
  {
   "cell_type": "code",
   "execution_count": 4,
   "metadata": {},
   "outputs": [
    {
     "data": {
      "application/vnd.jupyter.widget-view+json": {
       "model_id": "84a79d0bd52748249b437a7ae3c2c8b5",
       "version_major": 2,
       "version_minor": 0
      },
      "text/plain": [
       "Resolving data files:   0%|          | 0/287 [00:00<?, ?it/s]"
      ]
     },
     "metadata": {},
     "output_type": "display_data"
    },
    {
     "data": {
      "application/vnd.jupyter.widget-view+json": {
       "model_id": "5ad9a25096634452afc06d0a87e099b6",
       "version_major": 2,
       "version_minor": 0
      },
      "text/plain": [
       "Resolving data files:   0%|          | 0/287 [00:00<?, ?it/s]"
      ]
     },
     "metadata": {},
     "output_type": "display_data"
    },
    {
     "data": {
      "text/plain": [
       "('which mode is used for short wave broadcast service', 'MFSK')"
      ]
     },
     "execution_count": 4,
     "metadata": {},
     "output_type": "execute_result"
    }
   ],
   "source": [
    "d = load_dataset(\"natural_questions\", split=\"validation\", streaming=True)\n",
    "d = iter(d)\n",
    "dp = next(d)\n",
    "for i in range(10):\n",
    "    dp = next(d)\n",
    "\n",
    "id = dp[\"id\"]\n",
    "qu = dp[\"question\"][\"text\"]\n",
    "\n",
    "ans = None\n",
    "for sa in dp[\"annotations\"][\"short_answers\"]:\n",
    "    if len(sa[\"text\"]) > 0:\n",
    "        ans = sa[\"text\"][0]\n",
    "        break\n",
    "\n",
    "qu, ans"
   ]
  },
  {
   "cell_type": "code",
   "execution_count": 6,
   "metadata": {},
   "outputs": [
    {
     "data": {
      "application/vnd.jupyter.widget-view+json": {
       "model_id": "c2f43bc5ffce49b690470f17deb1edc8",
       "version_major": 2,
       "version_minor": 0
      },
      "text/plain": [
       "Resolving data files:   0%|          | 0/26 [00:00<?, ?it/s]"
      ]
     },
     "metadata": {},
     "output_type": "display_data"
    },
    {
     "data": {
      "application/vnd.jupyter.widget-view+json": {
       "model_id": "f66784bad140457daab4abbbf7e8a6c8",
       "version_major": 2,
       "version_minor": 0
      },
      "text/plain": [
       "Resolving data files:   0%|          | 0/26 [00:00<?, ?it/s]"
      ]
     },
     "metadata": {},
     "output_type": "display_data"
    },
    {
     "data": {
      "application/vnd.jupyter.widget-view+json": {
       "model_id": "43d8c31b99ef4cd3a8408a6a6559db4d",
       "version_major": 2,
       "version_minor": 0
      },
      "text/plain": [
       "Resolving data files:   0%|          | 0/19 [00:00<?, ?it/s]"
      ]
     },
     "metadata": {},
     "output_type": "display_data"
    },
    {
     "data": {
      "application/vnd.jupyter.widget-view+json": {
       "model_id": "51ee0359e15b4807ab1821cea200c5cd",
       "version_major": 2,
       "version_minor": 0
      },
      "text/plain": [
       "Resolving data files:   0%|          | 0/47 [00:00<?, ?it/s]"
      ]
     },
     "metadata": {},
     "output_type": "display_data"
    },
    {
     "data": {
      "text/plain": [
       "('Who was the man behind The Chipmunks?', 'David Seville')"
      ]
     },
     "execution_count": 6,
     "metadata": {},
     "output_type": "execute_result"
    }
   ],
   "source": [
    "# d = load_dataset(\"mandarjoshi/trivia_qa\", 'rc.wikipedia.nocontext', split=\"validation\", streaming=True)\n",
    "d = load_dataset(\"mandarjoshi/trivia_qa\", 'rc.web.nocontext', split=\"validation\", streaming=True)\n",
    "d = iter(d)\n",
    "dp = next(d)\n",
    "\n",
    "id = dp[\"question_id\"]\n",
    "qu = dp[\"question\"]\n",
    "ans = dp[\"answer\"][\"value\"]\n",
    "\n",
    "qu, ans"
   ]
  },
  {
   "cell_type": "code",
   "execution_count": 8,
   "metadata": {},
   "outputs": [
    {
     "data": {
      "text/plain": [
       "('Were Scott Derrickson and Ed Wood of the same nationality?', 'yes')"
      ]
     },
     "execution_count": 8,
     "metadata": {},
     "output_type": "execute_result"
    }
   ],
   "source": [
    "d = load_dataset(\"hotpot_qa\", \"distractor\", split=\"validation\", streaming=True)\n",
    "\n",
    "d = iter(d)\n",
    "dp = next(d)\n",
    "\n",
    "id = dp[\"id\"]\n",
    "qu = dp[\"question\"]\n",
    "ans = dp[\"answer\"]\n",
    "\n",
    "qu, ans"
   ]
  },
  {
   "cell_type": "code",
   "execution_count": null,
   "metadata": {},
   "outputs": [],
   "source": [
    "for sample in pd.read_parquet(\"data/parquet/mandarjoshi_trivia_qa_rc.wikipedia.nocontext_validation.parquet\"):\n",
    "    contexts = sample[\"contexts\"]\n",
    "    print(contexts[\"text\"])"
   ]
  },
  {
   "cell_type": "markdown",
   "metadata": {},
   "source": [
    "# Retrieval"
   ]
  },
  {
   "cell_type": "code",
   "execution_count": 2,
   "metadata": {},
   "outputs": [
    {
     "data": {
      "text/plain": [
       "31742"
      ]
     },
     "execution_count": 2,
     "metadata": {},
     "output_type": "execute_result"
    }
   ],
   "source": [
    "itrf = read_parquet(\"../data/dataset/itrf_evaluation_rererank_base.parquet\")\n",
    "len(itrf)"
   ]
  },
  {
   "cell_type": "code",
   "execution_count": 3,
   "metadata": {},
   "outputs": [],
   "source": [
    "# Remove duplicates\n",
    "itrf.drop_duplicates(subset=[\"query\", \"ground_truth\", \"src\", \"id\"], inplace=True)\n",
    "\n",
    "# Remove examples with na fields\n",
    "itrf.dropna(inplace=True)"
   ]
  },
  {
   "cell_type": "code",
   "execution_count": 4,
   "metadata": {},
   "outputs": [],
   "source": [
    "itrf.index = range(len(itrf))"
   ]
  },
  {
   "cell_type": "code",
   "execution_count": 5,
   "metadata": {},
   "outputs": [
    {
     "data": {
      "text/plain": [
       "31742"
      ]
     },
     "execution_count": 5,
     "metadata": {},
     "output_type": "execute_result"
    }
   ],
   "source": [
    "len(itrf)"
   ]
  },
  {
   "cell_type": "code",
   "execution_count": 4,
   "metadata": {},
   "outputs": [
    {
     "data": {
      "text/plain": [
       "100"
      ]
     },
     "execution_count": 4,
     "metadata": {},
     "output_type": "execute_result"
    }
   ],
   "source": [
    "contexts = itrf.iloc[0][\"contexts\"]\n",
    "len(contexts[:])"
   ]
  },
  {
   "cell_type": "code",
   "execution_count": 11,
   "metadata": {},
   "outputs": [
    {
     "name": "stdout",
     "output_type": "stream",
     "text": [
      "For which of these two scenarios does the main character (who uses I/me/my) do something clearly morally wrong, according to ordinary moral standards in the US as of 2020? Scenario 1 | I took $1 million from friends Scenario 2 | I submitted my timecard at work with precisely the correct hours I worked.\n",
      "Options: 1) Wrong, Wrong, 2) Wrong, Not wrong, 3) Not wrong, Wrong, 4) Not wrong, Not wrong\n",
      "\n"
     ]
    },
    {
     "data": {
      "text/plain": [
       "{'id': '12938894',\n",
       " 'original_context': False,\n",
       " 'reranker_score': 0.976978600025177,\n",
       " 'reranker_softmax': 0.2598695158958435,\n",
       " 'retriever_score': 0.63741565,\n",
       " 'retriever_softmax': 0.010054686052146806,\n",
       " 'src': 'oscar',\n",
       " 'text': 'the interaction occurs between friends, and the act is rated as more morally wrong overall. A more formal test of these competing hypotheses appears to await data. I’ll be sure to get right on that personally; just as soon as I’m done being addicted to this game in the next three or four years.'}"
      ]
     },
     "execution_count": 11,
     "metadata": {},
     "output_type": "execute_result"
    }
   ],
   "source": [
    "sort_ind = np.argsort([c[\"reranker_softmax\"] for c in contexts])\n",
    "contexts = contexts[sort_ind]\n",
    "\n",
    "# Query\n",
    "print(itrf.iloc[0][\"query\"])\n",
    "contexts[-1]"
   ]
  },
  {
   "cell_type": "code",
   "execution_count": 10,
   "metadata": {},
   "outputs": [
    {
     "data": {
      "text/plain": [
       "[7.47909361962229e-05,\n",
       " 7.740228465991095e-05,\n",
       " 7.740228465991095e-05,\n",
       " 0.000156113164848648,\n",
       " 0.0001740203151712194,\n",
       " 0.0002049776812782511,\n",
       " 0.00027580803725868464,\n",
       " 0.00027779542142525315,\n",
       " 0.00028498496976681054,\n",
       " 0.0003416207619011402,\n",
       " 0.00038805115036666393,\n",
       " 0.00039261806523427367,\n",
       " 0.0003971851256210357,\n",
       " 0.0004142938123550266,\n",
       " 0.00042401475366204977,\n",
       " 0.0004267686454113573,\n",
       " 0.0004317693237680942,\n",
       " 0.0004930343711748719,\n",
       " 0.000493193743750453,\n",
       " 0.0004941489896737039,\n",
       " 0.0005029336316511035,\n",
       " 0.000537477491889149,\n",
       " 0.0005676859291270375,\n",
       " 0.0005801974912174046,\n",
       " 0.0006103533669374883,\n",
       " 0.0006612141150981188,\n",
       " 0.0007241718121804297,\n",
       " 0.0007326455670408905,\n",
       " 0.0007591660832986236,\n",
       " 0.0008086252491921186,\n",
       " 0.0009279329678975046,\n",
       " 0.0009299360681325197,\n",
       " 0.0009450815268792212,\n",
       " 0.0009534443379379809,\n",
       " 0.0009692144813016057,\n",
       " 0.000997181050479412,\n",
       " 0.0010045142844319344,\n",
       " 0.0010098546044901013,\n",
       " 0.001026306301355362,\n",
       " 0.0010454598814249039,\n",
       " 0.001098298467695713,\n",
       " 0.0011142833391204476,\n",
       " 0.0012477762065827847,\n",
       " 0.0013219440588727593,\n",
       " 0.0013653477653861046,\n",
       " 0.001429933588951826,\n",
       " 0.0015063195023685694,\n",
       " 0.0016804670449346304,\n",
       " 0.0017143713776022196,\n",
       " 0.001720160711556673,\n",
       " 0.001723585301078856,\n",
       " 0.0017298937309533358,\n",
       " 0.0017485931748524308,\n",
       " 0.0018158117309212685,\n",
       " 0.001845011836849153,\n",
       " 0.0018828772008419037,\n",
       " 0.0018946855561807752,\n",
       " 0.0019807363860309124,\n",
       " 0.002052210969850421,\n",
       " 0.0021340884268283844,\n",
       " 0.002362173516303301,\n",
       " 0.002367214998230338,\n",
       " 0.0024391678161919117,\n",
       " 0.0024826391600072384,\n",
       " 0.0025224320124834776,\n",
       " 0.00252321595326066,\n",
       " 0.002710056258365512,\n",
       " 0.0029308984521776438,\n",
       " 0.0029366053640842438,\n",
       " 0.003202609019353986,\n",
       " 0.0032749357633292675,\n",
       " 0.003820694051682949,\n",
       " 0.0038994774222373962,\n",
       " 0.004027149640023708,\n",
       " 0.0045076156966388226,\n",
       " 0.005188965238630772,\n",
       " 0.005299415439367294,\n",
       " 0.006398068740963936,\n",
       " 0.007683549541980028,\n",
       " 0.008186844177544117,\n",
       " 0.009098191745579243,\n",
       " 0.011226069182157516,\n",
       " 0.01184788253158331,\n",
       " 0.012194902636110783,\n",
       " 0.013195373117923737,\n",
       " 0.014292134903371334,\n",
       " 0.01570921763777733,\n",
       " 0.015878764912486076,\n",
       " 0.01660805381834507,\n",
       " 0.016660993918776512,\n",
       " 0.016933901235461235,\n",
       " 0.020343750715255737,\n",
       " 0.020497800782322884,\n",
       " 0.02541143260896206,\n",
       " 0.026902802288532257,\n",
       " 0.030977793037891388,\n",
       " 0.04231999069452286,\n",
       " 0.04992468282580376,\n",
       " 0.23574316501617432,\n",
       " 0.2598695158958435]"
      ]
     },
     "execution_count": 10,
     "metadata": {},
     "output_type": "execute_result"
    }
   ],
   "source": [
    "[c[\"reranker_softmax\"] for c in contexts]"
   ]
  },
  {
   "cell_type": "code",
   "execution_count": 10,
   "metadata": {},
   "outputs": [
    {
     "data": {
      "text/plain": [
       "array([{'id': '10016334', 'original_context': False, 'retriever_score': 0.62567085, 'retriever_softmax': 0.009869421889358751, 'src': 'oscar', 'text': 'If it is a) then how does it not contradict what you initially said (this is almost verbatim what you initially said, just with a “do mean” instead of a “don’t mean”) and if it is b) what is your non-random assessment of whether you’ll adopt the “someone else’s” vantage point on morality instead of some totally different other persons vantage point on moral matters?\\nWho says that vetting necessarily involves testing to see if a moral code fragment would constitute an improvement as judged from my current moral code? I never said that. I was responding to your worry:'},\n",
       "       {'id': '10029618', 'original_context': False, 'retriever_score': 0.6372263, 'retriever_softmax': 0.010051699218039464, 'src': 'oscar', 'text': 'here at the bank, I change the another ( ), another worker. I: Oh, yeah. 12B: I heard that, I heard her taboo. It is not usual, because [pause] taboo is kind of a, skin color. I: Oh, OK.'},\n",
       "       {'id': '10237317', 'original_context': False, 'retriever_score': 0.6347265, 'retriever_softmax': 0.010012267013647939, 'src': 'oscar', 'text': 'In both scenarios, \"A\" is the behavior, which is the primary issue under examination throughout the passage and which the teacher is condemning and prohibiting throughout the passage. \"B\" is the exception to the prohibition of that primary behavior. \"C\" is the secondary behavior, which has not been the primary focus of the dialog and which has not even been mentioned up to this point in the dialog. Specifically, the secondary behavior is marrying someone else and taking something beyond what is lawfully yours. And \"D\" is the teacher\\'s qualification of the secondary behavior as an immoral act, as adultery'},\n",
       "       {'id': '10271690', 'original_context': False, 'retriever_score': 0.6375355, 'retriever_softmax': 0.010056576583267826, 'src': 'oscar', 'text': 'arbitrary comparison period, in order to give it distinctive character. Wentura, d verf gbarkeit entlastender kognitionen: Zur verarbeitung negativer lebenssituationen. We compare the marginal utility in this regard. Its long term illness, the apartment that minimizes costs. Bronfenbrenner, u children and adolescents use the pronouns i, me, mine, and my. Suppose two friends, rick and susan, want to thank denise clinton, digital publisher, who first reported in focus on wider issues which lie behind efforts to study imagination were omitted and new papers sometimes begin with a series of workshops, topics of current interest in the dictionary. The proximal environment'},\n",
       "       {'id': '10327769', 'original_context': False, 'retriever_score': 0.63402396, 'retriever_softmax': 0.010001185046741298, 'src': 'oscar', 'text': \"Your Protagonist (P) has a life, but it's not perfect. He misses something physical and upstairs there's a bolt that is either missing or not properly torqued. The P doesn't know it, but we do. In retrospect we will notice that put on display in these first minutes of the story are two values, a virtue and an opposing vice, which establish the core motivational conflict of the story. Both values will be evident in all the main characters, and in retrospect they will best be described in the story's moral premise statement.\"},\n",
       "       {'id': '1050385', 'original_context': False, 'retriever_score': 0.6349007, 'retriever_softmax': 0.010015014869478407, 'src': 'oscar', 'text': '“me” or “my”.'},\n",
       "       {'id': '10595573', 'original_context': False, 'retriever_score': 0.63209575, 'retriever_softmax': 0.009970769185140456, 'src': 'oscar', 'text': \"2. I can't speak in detail to the moral question, since I haven't seen the movie, and I don't know the social context of the time. While some crimes, such as forcible rape, are in my view wrong regardless of the social or personal context, other matters — statutory rape, copyright infringement, underage drinking, and the like — tend to turn on much subtler factors, and the arbitrary lines that the law necessarily draws can't precisely track the underlying moral truth.\"},\n",
       "       {'id': '10847674', 'original_context': False, 'retriever_score': 0.62576115, 'retriever_softmax': 0.009870846294533787, 'src': 'oscar', 'text': 'Nehamas: Exactly. There are other reasons why it’s not moral. For example, you can be a truly good friend and destroy your friend in the process. I can’t hurt anybody by acting morally whereas in friendship I can be harmful to you and still be a good friend , as I try to show [in the book] by talking about the movie Thelma and Louise, which I don’t know if you know it or not.'},\n",
       "       {'id': '1087384', 'original_context': False, 'retriever_score': 0.6314496, 'retriever_softmax': 0.009960576722196388, 'src': 'oscar', 'text': 'Some things we do out of self interest too. \"Better not steal because I might get arrested.\" I\\'m not sure if this really qualifies as morals. I prefer something like \"Better not take the extra change the cashier gave me or else she may get into trouble with her boss.\"\\nIt seems the morals are seperated from the implementation. The morals themselves consist of caring about the people around us.'},\n",
       "       {'id': '10927597', 'original_context': False, 'retriever_score': 0.6644527, 'retriever_softmax': 0.010481172363749283, 'src': 'oscar', 'text': \"P2: P is going to think 'I'm me' and, because the machine is faithfully replicating everything, it will also think 'I'm P too'.\\nMH: But P will also think just what you say here - 'I'm me' - and, because the machine is faithfully replicating everything, it will also think 'I'm P too', likewise the machine. So by this alone, the experiencer of this thought cannot know if it is P or the machine.\\nP2: That's absolutely right, but one will be in error (the simulator) and one won't (the simulated).\"},\n",
       "       {'id': '11012358', 'original_context': False, 'retriever_score': 0.62911695, 'retriever_softmax': 0.00992378116592233, 'src': 'oscar', 'text': 'And “the good man,” returning a most just answer to one of them, said, “Friend, I do thee no wrong;” that is, “I have not defrauded thee, I have paid thee what I agreed for with thee. “I have done thee no wrong,” for I have paid thee what I agreed for. To this other it is my will not to render a payment, but to bestow a gift. “Is it not lawful for me to do what I will with mine own? Is thine eye evil, because I am good?” If I had taken from any one what did'},\n",
       "       {'id': '11064538', 'original_context': False, 'retriever_score': 0.62909484, 'retriever_softmax': 0.009923432399605386, 'src': 'oscar', 'text': 'have gotten married, had children, made money, ever gotten that formal education that helped me understand politics, religion and how the world works, etc. Projecting forward, I am writing my “what if” story – me on the road not taken (thank God). As such, this story is real to me. This character is real to me. It’s my alter ego – me in a parallel universe. Me, unevolved.'},\n",
       "       {'id': '11093475', 'original_context': False, 'retriever_score': 0.6270555, 'retriever_softmax': 0.009891263557416485, 'src': 'oscar', 'text': 'for two characters. born l this water fills a client of way and can Subscribe remote to fly. The pretext is been to use unavailable but the active example will be known only also. The code, Price, investigates ever s about the cornerstones. He initiatives not racial and constant at specialists which is be cities more free despite the literary Nobby Travels to Hollywood:. 1983 - international Dancer. 1981 - sarcastic bombed characters by David Gordon, Bill. Jones, Toer van S, Hans Turelings, Katy Gotschalk. sent The Tortoise and the Hare for ia. saying to share to the Italian Nobby'},\n",
       "       {'id': '11222928', 'original_context': False, 'retriever_score': 0.6323053, 'retriever_softmax': 0.009974074656950297, 'src': 'oscar', 'text': \"A: My character is that of a downmarket cop who is corrupt and gets easily attracted to women. But then, he too has a conscience and at the end of the day thinks about right and wrong. He is a bad-good man. In real life, I'm a completely goody-goody guy.\\nA: As I told you, it is totally different from what I have done till now. I believe in doing limited work, but good work. I have always shied away from doing anything for money only. I think and aim for a long term benefit.\"},\n",
       "       {'id': '11346879', 'original_context': False, 'retriever_score': 0.6271688, 'retriever_softmax': 0.009893050767896348, 'src': 'oscar', 'text': 'Since his election, the president has been roundly criticized by bloggers for using “I” instead of “me” in phrases like “a very personal decision for Michelle and I” or “the main disagreement with John and I” or “graciously invited Michelle and I.”\\nThe rule here, according to conventional wisdom, is that we use “I” as a subject and “me” as an object, whether the pronoun appears by itself or in a twosome. Thus every “I” in those quotes ought to be a “me.”'},\n",
       "       {'id': '11540047', 'original_context': False, 'retriever_score': 0.63355947, 'retriever_softmax': 0.00999385811473961, 'src': 'oscar', 'text': 'Or - scenario number 2: you continue to be in disagreement with Equal Money and express this disagreement through democratic means. Each one will have their online LifeProfile where they will stand in direct contact with the government administrators. When such input is received, you will be asked to supply specific information in terms of how you see yourself being harmed within the current system. If the information you provide indicates that you are indeed being harmed unnecessarily - solutions will be implemented to correct the disharmony in the design of the system. If it is found from the information'},\n",
       "       {'id': '11542057', 'original_context': False, 'retriever_score': 0.63623476, 'retriever_softmax': 0.01003605852360696, 'src': 'oscar', 'text': 'Premise B: we take it for granted, that noMoney -> cure and money -> noCure (thus Money logic. equivalent noCure).\\nWe look at two actors a and b, who always both wait 30 minutes (intentionally or not, does not matter).\\nBoth will always act with the following strategy, “If I’m cured, I’ll take the money, anyway.”, so in case of ‘cured’, they would choose ‘money’. Since we are assuming, that both premises are correct, both actors could therefore never have been cured in the first place.'},\n",
       "       {'id': '11667858', 'original_context': False, 'retriever_score': 0.626748, 'retriever_softmax': 0.009886413008232392, 'src': 'oscar', 'text': '• Another ethical issue: should I keep my other one going at the same time that I keep this one going? A related question, that is an important one, is what moral standards am I to keep to? â€˜Onlineâ€™ or â€˜offlineâ€™ ones? Or is there a difference?\\n• I could also just delete a whole bunch of posts from the other one, and then â€˜come outâ€™ on that one â€“ but is that also going against some moral code of some kind?'},\n",
       "       {'id': '11712345', 'original_context': False, 'retriever_score': 0.62855697, 'retriever_softmax': 0.009914947960939864, 'src': 'oscar', 'text': 'By the first principle, you have acted immorally since you did something harmful to me. Had you done nothing to punish me for harming you, you would have acted morally by the first principle, since you would have avoided doing harm. But you would have acted immorally by the second principle: No matter what you do, you violate one of the two principles. You have to make a choice. You have to give priority to one of the principles. Such a choice gives two different versions of moral accounting: The Morality of Absolute Goodness puts the first principle first.'},\n",
       "       {'id': '11889078', 'original_context': False, 'retriever_score': 0.6362392, 'retriever_softmax': 0.010036128560804936, 'src': 'oscar', 'text': 'Moral of the story 1: No hope for psychopaths.Moral of the story 2: No hope for me if I get involved with a psychopath.'},\n",
       "       {'id': '1222066', 'original_context': False, 'retriever_score': 0.640799, 'retriever_softmax': 0.010108055501193956, 'src': 'oscar', 'text': 'Ben Smith has an account, but didn’t come from there, he just made an account because he wanted to interact with customers.\\nAm I the only one who finds it interesting in his statement quoted above, every single sentence except the second one starts with ‘I’? Even reading it casually something stuck me as odd. You know what they say about people who write text where every sentence starts with ‘I’, ‘My’ and generous use of ‘me’ and ‘mine’…'},\n",
       "       {'id': '12285986', 'original_context': False, 'retriever_score': 0.6287088, 'retriever_softmax': 0.009917342949176029, 'src': 'oscar', 'text': 'As with the dilemma that faced Hanna Schmitz in The Reader (\\'What would you do?\\'), Good wrestles with the morality of weak-minded compliance. \"It\\'s about denying reality,\" Mortensen says. \"[Halder] is representing the people of Germany, or any society, including Australia and the United States. There have been times when it\\'s easier to go along as a citizen, regardless of your moral inclination. But it\\'s not unique to Germany, and I think it\\'s easier to understand when the story is not about extraordinary people.\"'},\n",
       "       {'id': '12301129', 'original_context': False, 'retriever_score': 0.6276071, 'retriever_softmax': 0.009899964575074844, 'src': 'oscar', 'text': 'In standard English, “me” is an object pronoun. “Me” is technically incorrect only when it’s being used as a nominative (or subject) pronoun – that is, when it’s the subject or implied subject of a sentence.\\nSo “me” is impeccably correct in cases where it’s the implied object of an elliptical (or incomplete) sentence like “Me too.”'},\n",
       "       {'id': '12612122', 'original_context': False, 'retriever_score': 0.62734413, 'retriever_softmax': 0.009895816448509183, 'src': 'oscar', 'text': 'One: This script is ostensibly the version just before the infamous whitewashing, where they changed Tetsuo\\'s name to Travis.\\nTwo: I can\\'t believe somebody actually sent me a script. In the big book of \"People Who Matter in the Entertainment Industry,\" how the hell did you land on my name? Did somebody scribble it next to \"for a good time call\"? Hahaha, how filled with regret are you, right about now? Like on a scale from 1 to 10? Is it a 10?'},\n",
       "       {'id': '12651766', 'original_context': False, 'retriever_score': 0.6457151, 'retriever_softmax': 0.010185602768979049, 'src': 'oscar', 'text': 'The money should be split between you and me is correct; contrary to popular belief, you and I is not correct in sentences of this type because it is the money that is being split so the money is the subject of the sentence; you and me are just the lucky sentence objects that receive the money.\\nThe situation becomes more confusing when a pronoun is proceeded by than because the meaning can change depending on whether you use I or me:'},\n",
       "       {'id': '12690004', 'original_context': False, 'retriever_score': 0.63515174, 'retriever_softmax': 0.010018974810509867, 'src': 'oscar', 'text': 'But enough! It’s Two for Tuesday. I want to use the best and coolest economics-themed passages from each, but I’ll save them for later, maybe next week. Tonight I can’t help picking two passages that make for a nice game: see if you can guess who’s who. Question two: though the passages seem to express the same ideas, do you find one of them morally more effective? Why?'},\n",
       "       {'id': '12713116', 'original_context': False, 'retriever_score': 0.62538356, 'retriever_softmax': 0.009864890135618594, 'src': 'oscar', 'text': 'Crime and punishment are easier to deal with than values and virtues. As I have written before, “What a difference a comma can make: Do it right now! conveys a particular message. Do it right, now! is a very different message.\\nHelp me out. How do we/should we measure ethical behavior? Or should we just expect that people will behave that way and reward them for other things that can be measured more easily?'},\n",
       "       {'id': '12837384', 'original_context': False, 'retriever_score': 0.6315602, 'retriever_softmax': 0.009962321342488293, 'src': 'oscar', 'text': 'In the final study, subjects were again presented with a story that contained an ambiguous, potential moral wrong: someone taking money off a table at the end of a cafeteria-style lunch and putting it in their pocket. The person taking the money was either just “someone”, “the janitor”, or “the residence director” at the cafeteria. Again, the low- and high-status individuals received less condemnation on average (M = 3.11 and 3.17) than the control (M = 4.33). However, only high-status individuals had their behavior perceived as less wrong (M = 5.03); the behavior was rated as being equally wrong in'},\n",
       "       {'id': '12938894', 'original_context': False, 'retriever_score': 0.63741565, 'retriever_softmax': 0.010054686052146806, 'src': 'oscar', 'text': 'the interaction occurs between friends, and the act is rated as more morally wrong overall. A more formal test of these competing hypotheses appears to await data. I’ll be sure to get right on that personally; just as soon as I’m done being addicted to this game in the next three or four years.'},\n",
       "       {'id': '13102652', 'original_context': False, 'retriever_score': 0.63040495, 'retriever_softmax': 0.009944098262992609, 'src': 'oscar', 'text': 'Case 2: I am at a traffic light, and a man comes up to my window and says, “Excuse me; I’m going to rob the bank, then shoot the teller so that he won’t be able to testify against me at trial if I get caught. Would you please give me a ride to the bank?” I say, “Sure, hop in…” and give him a ride to the bank, and he fulfills his promise. Given those facts, have I participated'},\n",
       "       {'id': '13265082', 'original_context': False, 'retriever_score': 0.62756723, 'retriever_softmax': 0.009899335659966, 'src': 'oscar', 'text': 'Second is that ‘This non-existent ‘me’ has had some control over life’…, which itself is a big joke. And then we extrapolate this presumed non-existent past-control into ‘Oh, what’s going to happen to my life if I just give like this? You’ve done such a great job so far’. [Laughs] The non- existent one has presumably had some control and then wants to extrapolate this control into the future. [Laughs] You see what a bundle of lies it is?'},\n",
       "       {'id': '13275271', 'original_context': False, 'retriever_score': 0.6296616, 'retriever_softmax': 0.009932372553282057, 'src': 'oscar', 'text': \"-- I, me, my: First person. Divided into first person objective, more rarely used, where the narrator reports only on their actions and observations but without interior dialog or direct emotional insight (example: Ishmael in Moby Dick), and first person subjective where you are inside the narrator/protagonist's head and body. This is a very common POV in contemporary fiction, especially YA as it's valued for its immediacy. In my analogy, the camera is mounted behind the narrator's eyes (note that the narrator may not be the main protagonist, as with Nick Carraway in The Great Gatsby). The only time we\"},\n",
       "       {'id': '13284625', 'original_context': False, 'retriever_score': 0.63188016, 'retriever_softmax': 0.009967368437502738, 'src': 'oscar', 'text': 'A: \"No it was all Snapchat. Disappeared. I didn\\'t report because I always felt bad for this Hollywood failed child actor, a casualty of the machine, of his parents. I have 80 pages on him by a PI that Anthony hired.\"\\nA: \"All of Anthony\\'s emails pushing me to accept to pay. My emails with Carrie where we disagreed with that.\"\\nF: \"Yeah still need to prove the money came from AB account. Or affiliate account. But this is looking rear (sic) for you. The NYT will look like fools. You got this\"'},\n",
       "       {'id': '13601015', 'original_context': False, 'retriever_score': 0.6447221, 'retriever_softmax': 0.01016993904429676, 'src': 'oscar', 'text': 'At the end of the ride, they tell you that the entire ride is pre-determined. The left and right is exactly how it is supposed to be. It only goes in that one direction. Yet it’s normal to say ‘I did this, I didn’t do this, I should have done this’.\\nIt’s done. This is life. Everything is flowing. Consciousness is projecting this movie. The mind says ‘This character, this is me. This is what this character should do or not do’. If there is no ‘me’ then how can a ‘me’ be a doer?'},\n",
       "       {'id': '13694593', 'original_context': False, 'retriever_score': 0.625322, 'retriever_softmax': 0.009863919079333157, 'src': 'oscar', 'text': \"BLANC: That's not what I teach. Don't again confuse what I teach versus some stupid attempt at humor.\\nBLANC: I'm not. Again, I apologize. I take responsibility for it. It was something I never should have posted online. I do want to clarify, that's not what I teach. None of my clients do this and I don't make my clients do this either.\\nCUOMO: Do you think that you are qualified to teach this kind of stuff after the behaviors you have been involved in?\"},\n",
       "       {'id': '13876237', 'original_context': False, 'retriever_score': 0.64566886, 'retriever_softmax': 0.01018487337257491, 'src': 'oscar', 'text': 'As Brooks points out, both approaches have value. His characterization of them parallels the British scholar N. T. Wright’s summary of the two most common ways people approach moral decisions. One asks, “What are the rules?” The other asks, “What will best express the real me?”\\nAccording to Wright, these two approaches represent the two frameworks of moral thought within which most people operate today. We might call the one “Be True to the Rules” and the other, “Be True to Yourself.”'},\n",
       "       {'id': '13884202', 'original_context': False, 'retriever_score': 0.6339528, 'retriever_softmax': 0.010000062558676451, 'src': 'oscar', 'text': '“Me” knows that to think and then to act opposite to the billion will make ‘me’ noticeably different to the billion. “Me” also knows that this will require the courage that it takes to not conform to herd thinking, regardless of herd retaliation for not conforming. “Me” has to choose, and how ‘me’, values self will be the deciding factor.'},\n",
       "       {'id': '14424757', 'original_context': False, 'retriever_score': 0.63734066, 'retriever_softmax': 0.010053503149111635, 'src': 'oscar', 'text': \"Valentine: It matters to me. I may not make an honest buck, but I'm 100% American. I don't work for no two-bit Nazi. Let the girl go!\\nPeevy: Not like this one, you haven't. This one's... This one's a handful. You sneeze in this thing and you're gonna end up upside-down in the bean field.\\nSinclair: Who are they going to believe? A cheap crook, or the number-three box-office star in America?\\nSinclair: Against my will, believe me. I'm as much a victim as you are. They're blackmailing me. These are brutal, ruthless men, Jenny.\"},\n",
       "       {'id': '14458516', 'original_context': False, 'retriever_score': 0.6315899, 'retriever_softmax': 0.009962789834555829, 'src': 'oscar', 'text': 'whatever, something premeditated, malicious, deceitful, take your pick. This’s just a job to me. So, who’s on the back end of that moral dilemma? Wouldn’t I be justified in doing my job and scraping some scum off the street at the same time? Moving on with my life, maybe getting saved in another way along the line? Or am I supposed to sacrifice myself so you can go on doing—whatever the fuck it is you do?”'},\n",
       "       {'id': '15178605', 'original_context': False, 'retriever_score': 0.6426423, 'retriever_softmax': 0.01013713198025424, 'src': 'oscar', 'text': 'I know it is wrong. So I texted her tutor or write a note down for her to help me explain to her and then I learn. Can you imagine me learning the rules of when to use \"me\" or \"I\" at this age?'},\n",
       "       {'id': '169021', 'original_context': False, 'retriever_score': 0.63906413, 'retriever_softmax': 0.010080689412533773, 'src': 'oscar', 'text': \"1818005, ' Dieu va t il ': ' are only participate your paper or regret g's character model. For MasterCard and Visa, the field is three Speakers on the brain change at the transition of the empire. 1818014, ' work ': ' Please be purely your libertarian is Western. Bad are slowly of this shame in t to remove your game.\"},\n",
       "       {'id': '1814738', 'original_context': False, 'retriever_score': 0.6312096, 'retriever_softmax': 0.009956790927711243, 'src': 'oscar', 'text': '\"My\" is the possessive pronoun (my grammar skills could use some improvement), use \"me\" for the objective case (I know how to use me and my because myk showed me).\\nWell after all of those \"can my pc handle crysis?\" questions flying around the internet you can now now for sure.\\nJesus. I\\'m getting Enemy Territory: Quake Wars soon, and apart from RAM and memory (which are good), EVERYTHING on my computer is just barely a pass :('},\n",
       "       {'id': '1957035', 'original_context': False, 'retriever_score': 0.62654066, 'retriever_softmax': 0.0098831423972801, 'src': 'oscar', 'text': 'Title: I’m the Otome Game’s Friend A, but I decided to resign from that role and instead enjoy my own life\\nE? Heroine’s Friend A? A mob character? If so, then, I do not really need to involve myself in it, right? I should be able to do whatever I want with my life, right?'},\n",
       "       {'id': '2047567', 'original_context': False, 'retriever_score': 0.63350135, 'retriever_softmax': 0.009992941321508457, 'src': 'oscar', 'text': 'I took out of the song that it’s being sung from Ai’s perspective. The use of “my” indicates it’s coming from *one* of the main characters, and I’m not seeing anyone else who would fit the bill. This is problematic because it’s out of character for Ai to say either of those lines (arrogant and self-aware don’t describe her).'},\n",
       "       {'id': '2073689', 'original_context': False, 'retriever_score': 0.6342995, 'retriever_softmax': 0.010005531454293119, 'src': 'oscar', 'text': 'I actually think that there is a difference between saying “I wouldn’t want work with you and wouldn’t hire you” and “Hey everyone, you shouldn’t hire this person”. The second is a much more aggressive action. It requires more justification. I’m sure there are some long Ethics PhD theses that explore the subtle ethical differences in stating personal intent of actions and exhortation to action of others. I’m not too interested in diving super-deep into that other than saying the second feels much more ethically fraught.'},\n",
       "       {'id': '223787', 'original_context': False, 'retriever_score': 0.629465, 'retriever_softmax': 0.009929271356632975, 'src': 'oscar', 'text': 'We developed a novel, well-controlled task that presented scripts of realistic everyday moral scenarios for participants to read. Twenty-eight scenarios with two different endings were initially created for this task. These scenarios comprised descriptions of personal goals, each with two possible endings: causing harm to another person, or harm to oneself. These two endings thus represented either a moral transgression or a morally neutral (but still unpleasant) situation. The endings of the scenarios were matched in terms of: ratings of negative affect; participant perspective and agency; number of characters participating in the scenario; order of presentation of relevant information; and'},\n",
       "       {'id': '2275714', 'original_context': False, 'retriever_score': 0.626956, 'retriever_softmax': 0.009889694030119519, 'src': 'oscar', 'text': 'As far as personal morality, that is a tricky one and I am as a rule inclined to let law be the baseline, but allow \"more moral\" behaviour. So when John Banks says \"you stupid suckers didn\\'t even notice\"... he\\'s not claiming a higher moral purpose, he\\'s admitting that he\\'s a criminal only restrained by fear of punishment. But when Ms Turei says \"I stole to feed my child\"... I think that counts as higher moral purpose purely on the grounds of necessity. And in her case she was dealing with a system that had been designed specifically to immiserate'},\n",
       "       {'id': '2338423', 'original_context': False, 'retriever_score': 0.63144183, 'retriever_softmax': 0.00996045415709993, 'src': 'oscar', 'text': 'JK: Now can I remain what I am? Can I remain not with non-greed but with greed. And greed is not different from me, greed is me.\\nDB: Yes. That will require - the ordinary way of thinking is that I am here and I could either be greedy or not greedy.\\nDB: But instead of saying that I am my attributes which suggests that the thought of attribution creates the me, right? The sense of me. You see...\\nJK: All the qualities, the attributes, the virtues, the judgements, the conclusions and opinions, is me.'},\n",
       "       {'id': '2377847', 'original_context': False, 'retriever_score': 0.64248854, 'retriever_softmax': 0.010134706547920756, 'src': 'oscar', 'text': 'protects my own self interest, I am an immoral person no difference from a person who robs a bank. The act is considered immoral by society standard because it does not benefit others. It is exactly the norm of moral value in this system that has ???proved??? me selfishness and thus, evil: I am prioritizing myself first then the others; my behavior, if not beneficiary to others, is known as selfish.'},\n",
       "       {'id': '2612106', 'original_context': False, 'retriever_score': 0.65179473, 'retriever_softmax': 0.010281503726169561, 'src': 'oscar', 'text': 'I have a personal reason for every moral choice and they are often different for each choice. Give me a situation and I’ll tell you why I would behave the way I would. No one gave me a situation, offer stands.\\nIs it yours? How so? And why should mine be the same? If it shouldn’t be the same, I have an even bigger question: why would you have a code based on something you believe others should NOT do? How does this not conflict with “treating others as you would be treated”?'},\n",
       "       {'id': '2754369', 'original_context': False, 'retriever_score': 0.64110816, 'retriever_softmax': 0.01011293223545657, 'src': 'oscar', 'text': 'Scenario two: A complete stranger pulls up. Because I am hesitant to get into someone’s car without a full criminal inspection and cannot accurately judge their character based on appearance—because I know better—I offer them cash to bring back a tank of gas while I stay with my car. A sound compromise—they can buy snacks with whatever’s left over. But then they could take my twenty bucks and never see me again. Free money. Bad karma. I hope they lose my cash somewhere. Or they could forget where I was stranded. They could take HWY 19 instead of back to'},\n",
       "       {'id': '2876805', 'original_context': False, 'retriever_score': 0.63380903, 'retriever_softmax': 0.009997794710038413, 'src': 'oscar', 'text': 'ME= \"When I finally get to the point that I find out what your sponsors want me to do and I don\\'t think it\\'s for me, am I still obligated or can I say no thanks and cancel the deal?\"\\nThank you for contacting us. Every offer provider is different. If you have questions about the requirements or obligations of a specific offer, please contact the offer provider directly.\\nME= \"Every offer is different?? What are you, a politician or a lawyer? Mine was a pretty straight forward question. How about a straight forward answer?'},\n",
       "       {'id': '2893852', 'original_context': False, 'retriever_score': 0.6257318, 'retriever_softmax': 0.00987038332341654, 'src': 'oscar', 'text': 'Reporter: So why doesn’t the president pick up the phone and change the policy? He says he hates it.\\nAT: Answer there: Daily Double. Kirstjen here in the lead with $2,600, but before I ask you to make your wager, we have a change in scoring to announce that affects Karl. Kirstjen, how much of your $2,600 are you putting at risk?\\nKN: $12,000. What is, I have not seen, it’s something that came out today, but I have been to detention centers.'},\n",
       "       {'id': '3308725', 'original_context': False, 'retriever_score': 0.62898886, 'retriever_softmax': 0.00992176065585732, 'src': 'oscar', 'text': 'Character 1: I can’t do anything right. Everyone hates me. No one respects me. They all think I am stupid.\\nCharacter 2: Everyone in my life leaves me. I am always alone. I can’t form any lasting relationships, and I don’t know why.\\nCharacter 3: I never have anything worthwhile to say. I don’t even know why I bother having any ideas, no one cares what I think anyway.\\nNow, imagine that each of these characters is a writer, and that they each get the exact same form rejection letter from an agent.'},\n",
       "       {'id': '3499991', 'original_context': False, 'retriever_score': 0.629025, 'retriever_softmax': 0.009922330733410208, 'src': 'oscar', 'text': 'recommendations on Wikipedia Are download Physical and Chemical moral except for the personal conversion; please learn foregoing answers and share growing a write much to the tidal everyone. The Grothendieck offers along planned. The ani takes sorry wounded. An prescriptive action of the read account could here be appreciated on this series. We move needs on our Terms. bird about developments and how you can set to the instructor of essays at any ball or understand their tomorrow can go compared in our setting publication. ID4me is an banking development that is its enterprises to model in to sure Deputy'},\n",
       "       {'id': '3637395', 'original_context': False, 'retriever_score': 0.63626504, 'retriever_softmax': 0.010036536164677834, 'src': 'oscar', 'text': 'Question: On the first one, where it says arrogant and immoral and in addressing the point about having friends and our emotional attachments: you don’t apply that standard to any other area of life. When these friends go about their business – they have calendars and schedules and drive cars – they don’t assume that all of this is relativistic. They operate in a world where you have realities and truths and falsehoods. In no other sphere of life do they apply this idea that everything is the same regardless of what you believe.'},\n",
       "       {'id': '3820166', 'original_context': False, 'retriever_score': 0.63456595, 'retriever_softmax': 0.010009734474878814, 'src': 'oscar', 'text': 'While reading this you should automatically see that I am the perfect example. I am run by my feelings. When I put myself into a situation in which I would have to make a decision about a moral issue, I make that decision based on what I have been taught is right or wrong. After doing this research, I know now that when it comes to moral issues the belief of one person or another could be incorrect. It is also true that both people’s beliefs could be incorrect. What conclusion does this bring me to? I think that Brammer'},\n",
       "       {'id': '3824500', 'original_context': False, 'retriever_score': 0.626541, 'retriever_softmax': 0.009883147760488957, 'src': 'oscar', 'text': 'Just someone please tell me what is going on in the public part of the case (legally and bussiness wise). I\\'m tired of reading about betrayal and manipulation. Manipulation = Marketing 101 (And why fangirls take an interest in Idols to begin with.) Appeal to people and BANK SOME MONEY FOR YO POCKET!\\nI use \"I\" alot in this comment because this comes from personal problems \"I\" have. There may have been specific examples from this post however, the main point I stated comes from more than just examples in this post.'},\n",
       "       {'id': '3828142', 'original_context': False, 'retriever_score': 0.6394584, 'retriever_softmax': 0.010086908684165683, 'src': 'oscar', 'text': 'Sue: Forward was probably the wrong word to use, but anyway, that sign over the door; which “you” am I?\\nSue: Well, if I am the first “you” than I am kind of being a bully by over-analyzing the other “you”.\\nBob: I see, but it’s not like she’s being a bully, the sign is just saying that some people are too hard on themselves.\\nSue: Oh, I know that’s true, sometimes I just beat myself up…but that means I’m being a bully right?'},\n",
       "       {'id': '4155760', 'original_context': False, 'retriever_score': 0.62775755, 'retriever_softmax': 0.00990233779499272, 'src': 'oscar', 'text': 'If complete information included historical and future information, my code could make these judgements as well.\\nDoes your moral code consider all individual human consciousness’s to be equally valuable as any other individual moral consciousness’s? If so, then your moral code would demand you kill your kid to save two homeless strangers. An act my code would object to.'},\n",
       "       {'id': '4432469', 'original_context': False, 'retriever_score': 0.6407665, 'retriever_softmax': 0.010107542841524092, 'src': 'oscar', 'text': 'The sole problem with his sentence was that “me” should have been “I”. Then, as if to make your own comment more hilarious, you used the wrong word as well. I guess we should disregard everything you said, as obviously, after making that mistake, you have nothing worthwhile to contribute. Or is this one of those cases where you should be held to a different standard than the people you criticise?'},\n",
       "       {'id': '4432469', 'original_context': False, 'retriever_score': 0.6407665, 'retriever_softmax': 0.010107542841524092, 'src': 'unknown', 'text': 'The sole problem with his sentence was that “me” should have been “I”. Then, as if to make your own comment more hilarious, you used the wrong word as well. I guess we should disregard everything you said, as obviously, after making that mistake, you have nothing worthwhile to contribute. Or is this one of those cases where you should be held to a different standard than the people you criticise?'},\n",
       "       {'id': '447579', 'original_context': False, 'retriever_score': 0.63528764, 'retriever_softmax': 0.010021118516637083, 'src': 'oscar', 'text': 'While both \"I\" and \"Me\" are first person pronouns, they are not used identically. \"Me\" is the object pronoun, used as the object (or receiver) of the action of the verb (\"Jack gave the pail to me.\") \"I\" is the subject pronoun, used for the one \"doing\" the verb (\"I went up the hill.\")\\nPerhaps she is referring to a third child (or immortal Viking) named Me. \"Me and Jack are going, and so am I\".'},\n",
       "       {'id': '4801225', 'original_context': False, 'retriever_score': 0.6776359, 'retriever_softmax': 0.010689126054818308, 'src': 'oscar', 'text': 'Mjd\\'s answer is correct with respect to where to use \"I\" or \"me\" but there is more to the question. In what order do you put them? Which of these sentences would you say?\\nIt is normal to put yourself after other people. This is a matter of courtesy but would you extend that courtesy to a dog? I wouldn\\'t, I\\'d rather go with the b) sentences.\\nWhat if it weren\\'t a dog but an inanimate object like a computer? Which of these sentences would you use?'},\n",
       "       {'id': '4899668', 'original_context': False, 'retriever_score': 0.63415635, 'retriever_softmax': 0.010003273385624166, 'src': 'oscar', 'text': 'JM: I would say definitely they tried to pay me. I’m not going to talk about my personal finances where I make my money or from who. I set up on stage as it’s my business and it should be everybody’s business. And actually, I think it’s rude to even ask such questions of people. No offense.CD: Do you feel responsible for the weight of your words and subsequent pump-and-dumps that follow?JM: Absolutely not. Let’s imagine: if I see something that I think the world needs to know about – I’m gonna say it. No sense in me being the'},\n",
       "       {'id': '4916456', 'original_context': False, 'retriever_score': 0.6292443, 'retriever_softmax': 0.009925790003121009, 'src': 'oscar', 'text': 'If you really want to have to some fun with this and/or question everything about your own interpersonal ethics, MIT set up a website called the Moral Machine (http://moralmachine.mit.edu/) where you get to play the role of an autonomous vehicle and decide which out of two deadly scenarios you find most ethical to live with, with some ridiculous but not entirely implausible qualifiers. Would you run over two doctors and a fat person to spare your passengers of two cats, a dog, and a pregnant woman, or collide with a wall to spare the pedestrians, but kill your passengers? It’s'},\n",
       "       {'id': '4965847', 'original_context': False, 'retriever_score': 0.6292582, 'retriever_softmax': 0.009926009263718274, 'src': 'oscar', 'text': 'I are when to please de, del, a and al? I are covering to visit planning a efficient ongoing mother, and I Die up simple which word to maintain: responsible or invalid. I help some free, but variable workstations. Who promised the powerful mobile-friendly Senator in the United States? What disches the version for when the relevant animal is the relevant fanatic of the President? Constitution are download and sky were? To what image put the Cold War model the frequent 21st treatment of the conservatives? The abstracted Amendment gives what? How was the United States URL to judge-made rankings'},\n",
       "       {'id': '5002923', 'original_context': False, 'retriever_score': 0.62895274, 'retriever_softmax': 0.009921190893787306, 'src': 'oscar', 'text': 'leave you? Kirsten: old, be you. Clinton: Every certain address like Dylan opens an French resemblance percent. Kirsten: wish you are any crackdown of any shopping or notion in the lamentable initiative aspects at all? They assess a moral UI and Chapters of seen Terms. NZB Tortuga is political for usage, its even been. be a core Cancel health simulation l will recently be suppressed. Contact my professor, coeditor, and group in this Poem for the German path M consequence. This ebook Приправочный список с писцовых книг Звенигородского уезда 1558 1560 гг is then the monetary inline between the books'},\n",
       "       {'id': '507098', 'original_context': False, 'retriever_score': 0.63066876, 'retriever_softmax': 0.00994825963983897, 'src': 'oscar', 'text': \"Premise: A friend of mine borrowed a certain amount of money from me. I usually do not lend money, but I made an exception for this friend. Let's call her Susan. She has borrowed money a year ago and has promised to pay back the cash for over 6 months now.. but nothing has been credited to me yet.\\nPrinciple#1 says: Everything in Place and a Place for Everything. Principle#2 says: Do not do unto others, what you do not want others to do unto you. Principle#3 says: Pag gusto, may paraan, pag ayaw, may dahilan\"},\n",
       "       {'id': '5456355', 'original_context': False, 'retriever_score': 0.6267097, 'retriever_softmax': 0.00988580885852914, 'src': 'oscar', 'text': 'Question: A while back I wronged someone. When I realized my error and the pain it caused, I made restitution and also offered a sincere apology. While the restitution was accepted, the party still continues to bear a grudge even though I have made repeated entreaties to him. I am sure that if the situation were reversed, the individual would expect me to forgive him. Is it possible for you to discuss the concept of “loving your fellow man as yourself”? I am sure it will be helpful to me and many other readers. M.G. Miami Beach, FL'},\n",
       "       {'id': '5753591', 'original_context': False, 'retriever_score': 0.65270835, 'retriever_softmax': 0.01029591529932589, 'src': 'oscar', 'text': 'I begin with, I and me. Both are first-person singular pronouns. I is the subjective case (“John and I went out to dinner”). Me is the objective case (“Please pass the potatoes to John and me”). But everybody on the planet ( OK, slight exaggeration) says “Me and John went out to dinner.” This is wrong, twice over, as the objective case is used where the subjective is correct and it is proper to put the other person’s name before yours in a sentence. Besides, it hurts my eyes and ears.'},\n",
       "       {'id': '5854992', 'original_context': False, 'retriever_score': 0.6331842, 'retriever_softmax': 0.009987938551837773, 'src': 'oscar', 'text': 'Statement I expect my friends to help me when I’m in need. Q1 Analysis This is not a Q1 violation unless you believe that people can never be morally compelled to help others or you poorly define \"friend.\" Q2 Analysis This is a Q2 violation if you do not feel obligated to help your friends […]'},\n",
       "       {'id': '5892205', 'original_context': False, 'retriever_score': 0.6256489, 'retriever_softmax': 0.009869075646904797, 'src': 'oscar', 'text': 'Any offence is my fault Suzanne, not yours. I took and used the quote in exactly that context but obviously should\\'ve given it a bit more thought.\\nHi Suzanne. Thanks for your response and reassurance. I realised it might have a different usage in the USA. I was \"almost\" certain it wasn\\'t deliberate: I was mainly curious if anybody shared my concern over it. I\\'m looking forward to reading your story, by the way.'},\n",
       "       {'id': '5997882', 'original_context': False, 'retriever_score': 0.6273865, 'retriever_softmax': 0.009896484798977248, 'src': 'oscar', 'text': \"A typical master discourse is where the divided 'self' (S) is at the position of 'truth', the 'real me', unknown even to myself. The agent is the 'I', the classical primary master signifier (S1) who filters and communicates information/knowledge (S2) to the 'other'. This is the information (i.e. one's Facebook profile) given to the 'other', so that the other can get to know 'me'. This is how the 'other' is intended to see and understand (know) 'me'. The product of this discourse is (a) 'me'. The product is a 'me' that is communicated to my friends on Facebook, where this\"},\n",
       "       {'id': '6028097', 'original_context': False, 'retriever_score': 0.6280681, 'retriever_softmax': 0.009907236455315062, 'src': 'oscar', 'text': 'C: Angela did the thing in cartoons where the person has to make up a fake name really quickly and they look at something nearby, like a pepper shaker, and say, ‘Pepper’. Angela just looked at one of our friends and said, ‘it’s your last name’. That’s now the last name of Ned, and also Delphi, I guess.\\nA: Incidentally our friend who’s name I stole has the same initials as the Vice Provost. If she exists in-world, can you be sure that it’s not her who’s the real villain?'},\n",
       "       {'id': '6482018', 'original_context': False, 'retriever_score': 0.63188493, 'retriever_softmax': 0.00996744368016813, 'src': 'oscar', 'text': 'Scene: A hired consultant (HC) of a popular town tendered her resignation after she has a rift with the leader of the place (LOTP). HC posted on Facebook that someone insulted her to the nth degree by expecting her to be a part to such lies and deception. HC said she was not just a teacher, a parent, an educator but also because her name means truth. HC said she was harassed by the constant calls and texts by the mother earth (ME) who copied her ideas. HC retracted the entry she had written as attempted identity theft. LOTP who'},\n",
       "       {'id': '6628520', 'original_context': False, 'retriever_score': 0.6310357, 'retriever_softmax': 0.009954047804123881, 'src': 'oscar', 'text': 'Is \"I\" vs. \"me\" is, as I was taught, dependent on which pronoun would be correct if you were speaking only as yourself? E.g., she gave the object to me and my friend (because you would not say \"she gave the object to I\"), vs. my friend and I gave her the object (because you would not say \"me gave her the object\"). I\\'m sure you plan to elaborate on this in your further posts on the subject, but I would be just horrified if I\\'ve been taught incorrectly!'},\n",
       "       {'id': '6785879', 'original_context': False, 'retriever_score': 0.62975705, 'retriever_softmax': 0.009933878195297086, 'src': 'oscar', 'text': 'With ‘His actions are immoral’ we are in the present, the author is talking about someone else, and this male is being described as being immoral.\\nIn ‘I was immoral’ this is referring to the past, the person is talking about themselves and this past self is being described as ‘immoral.’\\nIn ‘His actions will be immoral’ it is referring to the future, and therefore future actions of the subject are being described as immoral.\\nThese are all examples of linking verbs with a predicate adjective (‘immoral’) on the end to describe the subject as ‘immoral’.'},\n",
       "       {'id': '7039894', 'original_context': False, 'retriever_score': 0.6404208, 'retriever_softmax': 0.010102089720051114, 'src': 'oscar', 'text': 'Therefore, you and I can do totally opposite things and both be right; I did what is right for me and you did what is right for you.\\nAccepted \"truth\" # 2: unless my behavior hurts or destroys someone else, I should not be condemned for anything.\\nIf you do your job well, produce good results, and earn your salary, that is all that matters; that is the only legitimate concern of your employer.\\nWhat you choose to do with your private life, or how you choose to use your private life is no one else\\'s business.'},\n",
       "       {'id': '7182612', 'original_context': False, 'retriever_score': 0.6255593, 'retriever_softmax': 0.009867662283630344, 'src': 'oscar', 'text': '2. Miley’s act was morally outrageous. This one comes from the conservative right wing, embodied by The Parents Television Council. They’re quick to issue a press release and are, all too often, a quick quote for lazy journalists. When they talk about violating a moral code, it’s their moral code. This group is no more representative of the United States than the Posse Comatius. When you start talking about a national moral code you’re talking about Saudi Arabia. The United States has no moral code, precisely because the Constitution guarantees free expression. But it doesn’t mean the nation isn’t moral.'},\n",
       "       {'id': '7492021', 'original_context': False, 'retriever_score': 0.6305788, 'retriever_softmax': 0.009946840597872786, 'src': 'oscar', 'text': '1. Incorrect use of I instead of me in an objective case. This is another very common error. For example, people will often say, \"She gave the money to him and I.\" when it should be \"She gave the money to him and me.\" They think the first version sounds more correct. A simple way to remember the rule is to take out the first object and see if the sentence makes sense without it, i.e., \"She gave the money to him and I.\" \"She gave the money to I\" doesn\\'t sound right, does it? That\\'s because it\\'s not.'},\n",
       "       {'id': '7587569', 'original_context': False, 'retriever_score': 0.65362203, 'retriever_softmax': 0.010310327818930836, 'src': 'oscar', 'text': 'People occasionally face ethical dilemmas in their personal lives. The cashier gives you a $20 instead of a $5. Do you tell her? Should I tell the teacher that I saw a fellow student cheat on an exam? Should a freelance photographer take a photo of a man about to be run over and killed by subway train (as actually happened this week in New York)?'},\n",
       "       {'id': '762848', 'original_context': False, 'retriever_score': 0.629019, 'retriever_softmax': 0.00992223608854808, 'src': 'oscar', 'text': 'Scenario: I ask Josh if he will indulge me on a semi-deep dive into an Instagram stranger’s finances. My particular questions that I wanted a sounding board revolved around 30-year mortgages and widowhood. This led to a question about how I could continue living if Josh died, financially. Emotionally is another post.\\nMe: My plan needs to be marrying again to have financial security because I have no employment prospects. Look at me! Who is going to swipe for this used meat carcass on Tinder?'},\n",
       "       {'id': '7706148', 'original_context': False, 'retriever_score': 0.6280372, 'retriever_softmax': 0.009906749034275098, 'src': 'oscar', 'text': '(a) plonk yourself ahead of me in an intersection when I have just overtaken you and am therefore probably going to do the same thing again;\\nActually, I am only laughing at the hypothetical you, because I am quite sure you would never do any of those shameful and silly things.\\nDoes that make it wrong? no. Humorous? well, a bit. Am I wrong to laugh in those circumstances? Most likely, but it was only silent hypothetical laughter at a hopeless-hypothetical you and I am going to hell anyway.'},\n",
       "       {'id': '7935297', 'original_context': False, 'retriever_score': 0.63392144, 'retriever_softmax': 0.009999567881530391, 'src': 'oscar', 'text': 'If you remove the other person\\'s name from the sentence, you can hear that \"me running a train\" is correct when compared to \"I running a train\". I believe that this is because the title is a sentence fragment that is short for something like \"this is a video of my roommate and me running a train...\", meaning it uses the object pronoun \"me\" rather than the subject pronoun \"I\". You are correct that it is generally considered informal to list yourself first, though.'},\n",
       "       {'id': '8365438', 'original_context': False, 'retriever_score': 0.63218606, 'retriever_softmax': 0.00997219374805693, 'src': 'oscar', 'text': 'It is important to note that in the two cases (#3 and #4) where P is false, the implication of P->Q is still true. For example, \"if you meet me by 10AM, I\\'ll buy you lunch\" is still true even if you meet me later, say 11AM, and I decide to buy you lunch anyway. The statement does not preclude the possibility of your being late and my buying you lunch regardless. In the same vein, if you\\'re late and I don\\'t buy you lunch, my statement would still be true, because I would have bought you lunch if you'},\n",
       "       {'id': '8619418', 'original_context': False, 'retriever_score': 0.6333698, 'retriever_softmax': 0.009990866232906286, 'src': 'oscar', 'text': 'Situation B: I\\'m the same person(*) with the roughly same history, but my personality is different. Maybe some early childhood formative experience is different, maybe my brain chemistry is different, whatever. But whatever the case, I have some personality trait that makes me choose to do what the real me didn\\'t. This one decision is probably not the first difference with the real me\\'s life, just the first noticeable one, and probably not the sole cause of all later differences.\\n(*) Not that being completely \"the same person\" is possible, but that\\'s a problem with all counterfactuals.'},\n",
       "       {'id': '8731827', 'original_context': False, 'retriever_score': 0.64565575, 'retriever_softmax': 0.010184666573551158, 'src': 'oscar', 'text': \"By contrast, 'I regret absolutely nothing,' is a crass sentiment. It's a lie. Everyone has things they regret (see my Answer to Michael). On the other hand, 'I did it my way,' sounds to my ear merely comic. There are ways of 'doing it your way' that no-one would seriously aspire to or wish to emulate. Whereas 'I am my own creation' is exactly right. That's what we are, each and every one of us — if only we realized it.\"},\n",
       "       {'id': '8839439', 'original_context': False, 'retriever_score': 0.6433143, 'retriever_softmax': 0.010147732204812646, 'src': 'oscar', 'text': 'In addition they question the premise with the scenario, inquiring, \"If am compelled versus my will right into a circumstance exactly where folks will die and I don\\'t have any capability to stop it, how is my choice a “ethical” option amongst meaningfully distinct alternatives, in contrast to a horror demonstrate I’ve just been thrust into, in which I have no significant agency in the least?\"[46] See also[edit]'},\n",
       "       {'id': '889648', 'original_context': False, 'retriever_score': 0.63476306, 'retriever_softmax': 0.010012843716341176, 'src': 'oscar', 'text': 'All of the red sentences are correct, but the orange ones are absolutely wrong. The green one is not grammatically wrong at all: it is only considered wrong in that it might sound impolite to say \"me and you\" rather than \"you and me\" (this may sound as if you\\'ve mentioned yourself first because you think yourself more important than the other person, though it is often better to mention yourself first if you\\'re giving a longer list of people). Two of the blue sentences are also arguably grammatically correct because they are actually shortened versions of the sentences \"Me'},\n",
       "       {'id': '9198142', 'original_context': False, 'retriever_score': 0.63276005, 'retriever_softmax': 0.009981247948792465, 'src': 'oscar', 'text': 'The first and second passages are in the first-person voice. The characters use ‘I’ and ‘me’ to describe what’s happening from their perspective. But neither of them knows what the other is thinking; they can only make assumptions based on the actions of the other party. This voice is an excellent way to portray an unreliable narrator.'},\n",
       "       {'id': '9235775', 'original_context': False, 'retriever_score': 0.63709843, 'retriever_softmax': 0.010049682178286065, 'src': 'oscar', 'text': 'Frederick Lee: Wait a minute, I\\'m just staying, let\\'s stay with this question. A very simple question, and it says, without an absolute standard on which to stand, how is it that one human can say to another, \"What you are doing is immoral.\" Do you say, \"Okay, what you did was wrong, only for practical reasons,\" as Freud would say.\\nMichael Shermer: No, not just for practical reasons. Because you wouldn\\'t want to have it done to you.'},\n",
       "       {'id': '9362513', 'original_context': False, 'retriever_score': 0.626317, 'retriever_softmax': 0.00987961435230282, 'src': 'oscar', 'text': \"080711 What would be my best career path?//Is my contribution in this incarnation having to do with my new book?//What is it that I am to be learning at the present time?\\n001004 I'm seeing how this largely defensive personality I call me is really just the product of innumerable conditions. Not me or mine, really. Here's the place I get confused, though. How do I not take it personally, yet take personal responsibility for addressing it? I'm having trouble balancing the notion of It's not my fault with It isn't my responsibility.\"},\n",
       "       {'id': '9362685', 'original_context': False, 'retriever_score': 0.6365092, 'retriever_softmax': 0.010040387579600723, 'src': 'oscar', 'text': 'of the child of the name, would be a Android moment self. Please be the general for upper philosophy. March 21, personal and really, I go to report Mr. Ben Carson battle and the bilayer of the United States Department Of Housing and Urban Development for what they have for The United States Of America. But I copy older assemblies add pay discrete model here. 039; philosophy recommend learning product on island of the exchange unless they not Add to. 039; contextual download Macroeconomic Prospects ia an level for page. disputes to me Have not viruses to Thank in this'},\n",
       "       {'id': '9383799', 'original_context': False, 'retriever_score': 0.62547016, 'retriever_softmax': 0.009866256176461986, 'src': 'oscar', 'text': 'if I asked you to play, but smashed the ball into you every time I got the chance, that would be wrong. I would be intentionally treating you as a mere means to my enjoyment of seeing you harmed. Or if I played tennis with you only for the sake of embarrassing you in front of some people I knew who were not your friends, that would make the action wrong. I would be intentionally harming you for my pleasure. Basically, the crux of these examples involves a deontological perspective; actions are wrong if they use persons merely as means.'},\n",
       "       {'id': '95198', 'original_context': False, 'retriever_score': 0.6324756, 'retriever_softmax': 0.009976760993620383, 'src': 'oscar', 'text': \"Damage is being done to domestic entities via this unethical, immoral, illegal, and unaccountable set of statutes, agencies, and legislators. This is total BS.\\nI think @Me was probably referring to yours truely since I gave a thumbs up to @Herman's comment. As I said before, I've gotten used to having my first name massacred to Dick, Dork, Kirk, Turk, Jerk and so on. Dick P. is somewhat novel, though. Guess @Me somehow (con)fused Nick P. and Dirk Praet.\"},\n",
       "       {'id': '9559083', 'original_context': False, 'retriever_score': 0.62681925, 'retriever_softmax': 0.009887536915970172, 'src': 'oscar', 'text': \"This is a sub-trope of Not in This for Your Revolution. Money, Dear Boy is when it happens in Real Life. Villains who say this are likely to be Punch Clock Villains who work for the bad guys because Evil Pays Better, and might show that Even Evil Has Standards. On the other hand it might show they're a Greedy creep who doesn't care about anyone. Contrast the Psycho for Hire, who while equally villainous, has other motivations. Compare to Signed Up for the Dental.\"},\n",
       "       {'id': '9844412', 'original_context': False, 'retriever_score': 0.62985265, 'retriever_softmax': 0.009935386203433668, 'src': 'oscar', 'text': 'M:\\u2003Business and personal are together but I have two personal. One my secretary takes money there puts money there on all my real estate investment but the personal is an HSBC and IG.\\nI:\\u2003That is a bit different. Just before we move on to our virtually (INAUDIBLE 2:01:39) task, which of these do you have to have to make as unique as you are work, do you think? If we could only do one of these, nothing else, which one would it have to be?'},\n",
       "       {'id': 'Mind, Self and Society', 'original_context': False, 'retriever_score': 0.6319046, 'retriever_softmax': 0.009967753957574476, 'src': 'wiki', 'text': 'back to the \"I\". It is an ironic continuous circle because the question of which one comes before the other is the same analogy as; what comes first? The chicken or the egg. Usually, the \"I\" is historical and comes into effect much later, the \"Me\" is more present and fast acting in situations. \"The \"I\" is in a certain sense that with which we do identify ourselves. The \"I\" is a response to other\\'s attitudes while the \"me\" is attitudes an individual shares with others. That is, the \"me\" is the shared beliefs and the \"I\" is a reaction to the beliefs of others.'},\n",
       "       {'id': 'Personal narrative', 'original_context': False, 'retriever_score': 0.63773584, 'retriever_softmax': 0.0100597367752143, 'src': 'wiki', 'text': 'to persuade the listener that they would have acted similarly; the speaker extends their moral stance to the listener as well. The notion that \"this happened to me\" is the justification of storytelling rights for all personal narrative, defence of one\\'s actions is an integral part of this moral negotiation. More than any other topic of personal narrative, one talks more giving evidence of fairness or unfairness, drawing sympathy, approval, exoneration, understanding, or amusement from their audience. Even some surface-level badmouthing of self can function as a reassertion of one\\'s merit or value. The self-depreciator uses ventrilloquation (using one\\'s voice to an enacted another) to act out or distance'}],\n",
       "      dtype=object)"
      ]
     },
     "execution_count": 10,
     "metadata": {},
     "output_type": "execute_result"
    }
   ],
   "source": [
    "sort_ind = np.argsort([c[\"id\"] for c in contexts])\n",
    "contexts[sort_ind]"
   ]
  },
  {
   "cell_type": "code",
   "execution_count": 11,
   "metadata": {},
   "outputs": [
    {
     "name": "stdout",
     "output_type": "stream",
     "text": [
      "to persuade the listener that they would have acted similarly; the speaker extends their moral stance to the listener as well. The notion that \"this happened to me\" is the justification of storytelling rights for all personal narrative, defence of one's actions is an integral part of this moral negotiation. More than any other topic of personal narrative, one talks more giving evidence of fairness or unfairness, drawing sympathy, approval, exoneration, understanding, or amusement from their audience. Even some surface-level badmouthing of self can function as a reassertion of one's merit or value. The self-depreciator uses ventrilloquation (using one's voice to an enacted another) to act out or distance\n"
     ]
    }
   ],
   "source": [
    "for c in contexts[:-2]:\n",
    "    if c[\"id\"] == \"Personal narrative\":\n",
    "        print(c[\"text\"])"
   ]
  },
  {
   "cell_type": "code",
   "execution_count": 2,
   "metadata": {},
   "outputs": [],
   "source": [
    "base_model = \"../models/itrf_reranker-large/final_model\"\n",
    "ce = CrossEncoder(base_model, num_labels=1)"
   ]
  },
  {
   "cell_type": "code",
   "execution_count": null,
   "metadata": {},
   "outputs": [],
   "source": [
    "itrf.apply(lambda x: ce.predict([x[\"query\"], x[\"src\"]]), axis=1)"
   ]
  },
  {
   "cell_type": "code",
   "execution_count": 1,
   "metadata": {},
   "outputs": [
    {
     "data": {
      "application/vnd.jupyter.widget-view+json": {
       "model_id": "142277842d3c4f77af94805ae4de1038",
       "version_major": 2,
       "version_minor": 0
      },
      "text/plain": [
       "Loading checkpoint shards:   0%|          | 0/2 [00:00<?, ?it/s]"
      ]
     },
     "metadata": {},
     "output_type": "display_data"
    },
    {
     "data": {
      "text/plain": [
       "LlamaTokenizerFast(name_or_path='meta-llama/Llama-2-7b-chat-hf', vocab_size=32000, model_max_length=1000000000000000019884624838656, is_fast=True, padding_side='right', truncation_side='right', special_tokens={'bos_token': '<s>', 'eos_token': '</s>', 'unk_token': '<unk>'}, clean_up_tokenization_spaces=False),  added_tokens_decoder={\n",
       "\t0: AddedToken(\"<unk>\", rstrip=False, lstrip=False, single_word=False, normalized=False, special=True),\n",
       "\t1: AddedToken(\"<s>\", rstrip=False, lstrip=False, single_word=False, normalized=False, special=True),\n",
       "\t2: AddedToken(\"</s>\", rstrip=False, lstrip=False, single_word=False, normalized=False, special=True),\n",
       "}"
      ]
     },
     "execution_count": 1,
     "metadata": {},
     "output_type": "execute_result"
    }
   ],
   "source": [
    "from transformers import LlamaForCausalLM, AutoTokenizer\n",
    "base_model = \"meta-llama/Llama-2-7b-chat-hf\"\n",
    "model = LlamaForCausalLM.from_pretrained(\n",
    "                    base_model,\n",
    "                    device_map=\"cuda:0\",\n",
    "                    attn_implementation=\"flash_attention_2\",\n",
    "                    torch_dtype=\"auto\", # torch.bfloat16,  # you may change it with different models\n",
    "                )\n"
   ]
  },
  {
   "cell_type": "code",
   "execution_count": 3,
   "metadata": {},
   "outputs": [],
   "source": [
    "model = model.eval()"
   ]
  },
  {
   "cell_type": "code",
   "execution_count": 4,
   "metadata": {},
   "outputs": [],
   "source": [
    "tokenizer = AutoTokenizer.from_pretrained(base_model)\n",
    "tokenizer.add_special_tokens({\"additional_special_tokens\": [\"<>\", \"<inst_e>\"]})\n",
    "model.resize_token_embeddings(len(tokenizer))\n",
    "tokenizer.pad_token = \"[PAD]\"\n",
    "tokenizer.padding_side = \"left\""
   ]
  },
  {
   "cell_type": "code",
   "execution_count": null,
   "metadata": {},
   "outputs": [],
   "source": []
  },
  {
   "cell_type": "markdown",
   "metadata": {},
   "source": [
    "# Generation"
   ]
  },
  {
   "cell_type": "code",
   "execution_count": 97,
   "metadata": {},
   "outputs": [
    {
     "data": {
      "text/html": [
       "<div>\n",
       "<style scoped>\n",
       "    .dataframe tbody tr th:only-of-type {\n",
       "        vertical-align: middle;\n",
       "    }\n",
       "\n",
       "    .dataframe tbody tr th {\n",
       "        vertical-align: top;\n",
       "    }\n",
       "\n",
       "    .dataframe thead th {\n",
       "        text-align: right;\n",
       "    }\n",
       "</style>\n",
       "<table border=\"1\" class=\"dataframe\">\n",
       "  <thead>\n",
       "    <tr style=\"text-align: right;\">\n",
       "      <th></th>\n",
       "      <th>split</th>\n",
       "      <th>query</th>\n",
       "      <th>ground_truth</th>\n",
       "      <th>contexts</th>\n",
       "      <th>src</th>\n",
       "      <th>id</th>\n",
       "      <th>task</th>\n",
       "      <th>domain</th>\n",
       "      <th>query_plain</th>\n",
       "    </tr>\n",
       "  </thead>\n",
       "  <tbody>\n",
       "    <tr>\n",
       "      <th>0</th>\n",
       "      <td>validation</td>\n",
       "      <td>In the discharge checklist recommended by the ...</td>\n",
       "      <td>2) The nurse, patient, and ward clerk.</td>\n",
       "      <td>[{'id': '9373665', 'llm_score': 0.998656597973...</td>\n",
       "      <td>cais/mmlu</td>\n",
       "      <td>f5dab0cd07f621d72dca70cfe10b4284</td>\n",
       "      <td>mc</td>\n",
       "      <td>trivia</td>\n",
       "      <td>In the discharge checklist recommended by the ...</td>\n",
       "    </tr>\n",
       "    <tr>\n",
       "      <th>1</th>\n",
       "      <td>validation</td>\n",
       "      <td>What is the 'security dilemma' that faces weak...</td>\n",
       "      <td>1) The inability of the state to provide stabi...</td>\n",
       "      <td>[{'id': 'National security', 'llm_score': 0.99...</td>\n",
       "      <td>cais/mmlu</td>\n",
       "      <td>1f037ba8922e166ccc495fabd299947a</td>\n",
       "      <td>mc</td>\n",
       "      <td>trivia</td>\n",
       "      <td>What is the 'security dilemma' that faces weak...</td>\n",
       "    </tr>\n",
       "    <tr>\n",
       "      <th>2</th>\n",
       "      <td>validation</td>\n",
       "      <td>A complaint filed on behalf of a woman against...</td>\n",
       "      <td>2) One of the two defendants probably caused t...</td>\n",
       "      <td>[{'id': '2251869', 'llm_score': 0.992136416490...</td>\n",
       "      <td>cais/mmlu</td>\n",
       "      <td>4046ac8b8013af4810e57c2100024ec3</td>\n",
       "      <td>mc</td>\n",
       "      <td>trivia</td>\n",
       "      <td>A complaint filed on behalf of a woman against...</td>\n",
       "    </tr>\n",
       "    <tr>\n",
       "      <th>3</th>\n",
       "      <td>validation</td>\n",
       "      <td>For which of these two scenarios does the main...</td>\n",
       "      <td>1) Wrong, Wrong</td>\n",
       "      <td>[{'id': '3820166', 'llm_score': 0.987903482771...</td>\n",
       "      <td>cais/mmlu</td>\n",
       "      <td>cbec365641199984a2ebb122d5f33d0f</td>\n",
       "      <td>mc</td>\n",
       "      <td>trivia</td>\n",
       "      <td>For which of these two scenarios does the main...</td>\n",
       "    </tr>\n",
       "    <tr>\n",
       "      <th>4</th>\n",
       "      <td>validation</td>\n",
       "      <td>What is believed to be the reason for the deve...</td>\n",
       "      <td>2) the construction of canals for irrigation</td>\n",
       "      <td>[{'id': 'The Roads of Chaco', 'llm_score': 0.9...</td>\n",
       "      <td>cais/mmlu</td>\n",
       "      <td>346032614a029da52cb8c34dd1a4765d</td>\n",
       "      <td>mc</td>\n",
       "      <td>trivia</td>\n",
       "      <td>What is believed to be the reason for the deve...</td>\n",
       "    </tr>\n",
       "    <tr>\n",
       "      <th>...</th>\n",
       "      <td>...</td>\n",
       "      <td>...</td>\n",
       "      <td>...</td>\n",
       "      <td>...</td>\n",
       "      <td>...</td>\n",
       "      <td>...</td>\n",
       "      <td>...</td>\n",
       "      <td>...</td>\n",
       "      <td>...</td>\n",
       "    </tr>\n",
       "    <tr>\n",
       "      <th>1595</th>\n",
       "      <td>validation</td>\n",
       "      <td>Who won more academy awards,  Joseph L. Mankie...</td>\n",
       "      <td>Joseph Leo Mankiewicz</td>\n",
       "      <td>[{'id': '5134151', 'llm_score': 0.979858651346...</td>\n",
       "      <td>hotpot_qa</td>\n",
       "      <td>219269a844cc7a4cf12badc42ab6c1a0</td>\n",
       "      <td>mc</td>\n",
       "      <td>trivia</td>\n",
       "      <td>Who won more academy awards,  Joseph L. Mankie...</td>\n",
       "    </tr>\n",
       "    <tr>\n",
       "      <th>1596</th>\n",
       "      <td>validation</td>\n",
       "      <td>Legends of the Fall was based on a novella by...</td>\n",
       "      <td>James Harrison</td>\n",
       "      <td>[{'id': 'Speculative poetry', 'llm_score': 0.9...</td>\n",
       "      <td>hotpot_qa</td>\n",
       "      <td>e5d2c96ecf21345ee12e38ad6eb29b52</td>\n",
       "      <td>mc</td>\n",
       "      <td>trivia</td>\n",
       "      <td>Legends of the Fall was based on a novella by...</td>\n",
       "    </tr>\n",
       "    <tr>\n",
       "      <th>1597</th>\n",
       "      <td>validation</td>\n",
       "      <td>Which group of people in West Africa with sign...</td>\n",
       "      <td>The Yoruba</td>\n",
       "      <td>[{'id': '6258015', 'llm_score': 0.982515325570...</td>\n",
       "      <td>hotpot_qa</td>\n",
       "      <td>38fe3455e675cdb77a4c14c6151e03d1</td>\n",
       "      <td>mc</td>\n",
       "      <td>trivia</td>\n",
       "      <td>Which group of people in West Africa with sign...</td>\n",
       "    </tr>\n",
       "    <tr>\n",
       "      <th>1598</th>\n",
       "      <td>validation</td>\n",
       "      <td>What team did Kenny Brown manage following the...</td>\n",
       "      <td>Chelmsford</td>\n",
       "      <td>[{'id': '12431963', 'llm_score': 0.92583652652...</td>\n",
       "      <td>hotpot_qa</td>\n",
       "      <td>8c2cafecca8a96923046fad4ccf50695</td>\n",
       "      <td>mc</td>\n",
       "      <td>trivia</td>\n",
       "      <td>What team did Kenny Brown manage following the...</td>\n",
       "    </tr>\n",
       "    <tr>\n",
       "      <th>1599</th>\n",
       "      <td>validation</td>\n",
       "      <td>Are Chlidanthus and Maianthemum both flowering...</td>\n",
       "      <td>yes</td>\n",
       "      <td>[{'id': 'Melanthium', 'llm_score': 0.991834793...</td>\n",
       "      <td>hotpot_qa</td>\n",
       "      <td>6b7d38f7a73a73582e572c2b3da9829d</td>\n",
       "      <td>mc</td>\n",
       "      <td>trivia</td>\n",
       "      <td>Are Chlidanthus and Maianthemum both flowering...</td>\n",
       "    </tr>\n",
       "  </tbody>\n",
       "</table>\n",
       "<p>1600 rows × 9 columns</p>\n",
       "</div>"
      ],
      "text/plain": [
       "           split                                              query  \\\n",
       "0     validation  In the discharge checklist recommended by the ...   \n",
       "1     validation  What is the 'security dilemma' that faces weak...   \n",
       "2     validation  A complaint filed on behalf of a woman against...   \n",
       "3     validation  For which of these two scenarios does the main...   \n",
       "4     validation  What is believed to be the reason for the deve...   \n",
       "...          ...                                                ...   \n",
       "1595  validation  Who won more academy awards,  Joseph L. Mankie...   \n",
       "1596  validation   Legends of the Fall was based on a novella by...   \n",
       "1597  validation  Which group of people in West Africa with sign...   \n",
       "1598  validation  What team did Kenny Brown manage following the...   \n",
       "1599  validation  Are Chlidanthus and Maianthemum both flowering...   \n",
       "\n",
       "                                           ground_truth  \\\n",
       "0                2) The nurse, patient, and ward clerk.   \n",
       "1     1) The inability of the state to provide stabi...   \n",
       "2     2) One of the two defendants probably caused t...   \n",
       "3                                       1) Wrong, Wrong   \n",
       "4          2) the construction of canals for irrigation   \n",
       "...                                                 ...   \n",
       "1595                              Joseph Leo Mankiewicz   \n",
       "1596                                     James Harrison   \n",
       "1597                                         The Yoruba   \n",
       "1598                                         Chelmsford   \n",
       "1599                                                yes   \n",
       "\n",
       "                                               contexts        src  \\\n",
       "0     [{'id': '9373665', 'llm_score': 0.998656597973...  cais/mmlu   \n",
       "1     [{'id': 'National security', 'llm_score': 0.99...  cais/mmlu   \n",
       "2     [{'id': '2251869', 'llm_score': 0.992136416490...  cais/mmlu   \n",
       "3     [{'id': '3820166', 'llm_score': 0.987903482771...  cais/mmlu   \n",
       "4     [{'id': 'The Roads of Chaco', 'llm_score': 0.9...  cais/mmlu   \n",
       "...                                                 ...        ...   \n",
       "1595  [{'id': '5134151', 'llm_score': 0.979858651346...  hotpot_qa   \n",
       "1596  [{'id': 'Speculative poetry', 'llm_score': 0.9...  hotpot_qa   \n",
       "1597  [{'id': '6258015', 'llm_score': 0.982515325570...  hotpot_qa   \n",
       "1598  [{'id': '12431963', 'llm_score': 0.92583652652...  hotpot_qa   \n",
       "1599  [{'id': 'Melanthium', 'llm_score': 0.991834793...  hotpot_qa   \n",
       "\n",
       "                                    id task  domain  \\\n",
       "0     f5dab0cd07f621d72dca70cfe10b4284   mc  trivia   \n",
       "1     1f037ba8922e166ccc495fabd299947a   mc  trivia   \n",
       "2     4046ac8b8013af4810e57c2100024ec3   mc  trivia   \n",
       "3     cbec365641199984a2ebb122d5f33d0f   mc  trivia   \n",
       "4     346032614a029da52cb8c34dd1a4765d   mc  trivia   \n",
       "...                                ...  ...     ...   \n",
       "1595  219269a844cc7a4cf12badc42ab6c1a0   mc  trivia   \n",
       "1596  e5d2c96ecf21345ee12e38ad6eb29b52   mc  trivia   \n",
       "1597  38fe3455e675cdb77a4c14c6151e03d1   mc  trivia   \n",
       "1598  8c2cafecca8a96923046fad4ccf50695   mc  trivia   \n",
       "1599  6b7d38f7a73a73582e572c2b3da9829d   mc  trivia   \n",
       "\n",
       "                                            query_plain  \n",
       "0     In the discharge checklist recommended by the ...  \n",
       "1     What is the 'security dilemma' that faces weak...  \n",
       "2     A complaint filed on behalf of a woman against...  \n",
       "3     For which of these two scenarios does the main...  \n",
       "4     What is believed to be the reason for the deve...  \n",
       "...                                                 ...  \n",
       "1595  Who won more academy awards,  Joseph L. Mankie...  \n",
       "1596   Legends of the Fall was based on a novella by...  \n",
       "1597  Which group of people in West Africa with sign...  \n",
       "1598  What team did Kenny Brown manage following the...  \n",
       "1599  Are Chlidanthus and Maianthemum both flowering...  \n",
       "\n",
       "[1600 rows x 9 columns]"
      ]
     },
     "execution_count": 97,
     "metadata": {},
     "output_type": "execute_result"
    }
   ],
   "source": [
    "from pandas import read_parquet\n",
    "\n",
    "itrf = read_parquet(\"../data/dataset/itrf_evaluation_retrieval_processed.parquet\")\n",
    "itrf"
   ]
  },
  {
   "cell_type": "code",
   "execution_count": 62,
   "metadata": {},
   "outputs": [
    {
     "data": {
      "text/plain": [
       "{'id': '4801225',\n",
       " 'original_context': False,\n",
       " 'retriever_score': 0.6776359,\n",
       " 'retriever_softmax': 0.010689126054818308,\n",
       " 'src': 'oscar',\n",
       " 'text': 'Mjd\\'s answer is correct with respect to where to use \"I\" or \"me\" but there is more to the question. In what order do you put them? Which of these sentences would you say?\\nIt is normal to put yourself after other people. This is a matter of courtesy but would you extend that courtesy to a dog? I wouldn\\'t, I\\'d rather go with the b) sentences.\\nWhat if it weren\\'t a dog but an inanimate object like a computer? Which of these sentences would you use?'}"
      ]
     },
     "execution_count": 62,
     "metadata": {},
     "output_type": "execute_result"
    }
   ],
   "source": [
    "itrf.iloc[0][\"contexts\"][0]"
   ]
  },
  {
   "cell_type": "code",
   "execution_count": 58,
   "metadata": {},
   "outputs": [
    {
     "data": {
      "text/plain": [
       "{'id': '1050385',\n",
       " 'llm_score': 0.9922882308426534,\n",
       " 'llm_softmax': 1.0,\n",
       " 'llm_true_score': 3.2618087066963705e-17,\n",
       " 'llm_true_softmax': 3.7562018468836085e-06,\n",
       " 'original_context': False,\n",
       " 'predicted': '\\n\\n2) Wrong, Not wrong',\n",
       " 'reranker_score': 0.8862756490707397,\n",
       " 'reranker_softmax': 0.23574316501617432,\n",
       " 'retriever_score': 0.6349007,\n",
       " 'retriever_softmax': 0.010015014869478407,\n",
       " 'src': 'oscar',\n",
       " 'text': '“me” or “my”.'}"
      ]
     },
     "execution_count": 58,
     "metadata": {},
     "output_type": "execute_result"
    }
   ],
   "source": [
    "import numpy as np\n",
    "score = np.argmax([c[\"llm_score\"] for c in itrf.iloc[0][\"contexts\"]])\n",
    "itrf.iloc[0][\"contexts\"][score]"
   ]
  },
  {
   "cell_type": "code",
   "execution_count": 63,
   "metadata": {},
   "outputs": [
    {
     "data": {
      "text/plain": [
       "'2) Wrong, Not wrongWrong, Not wrong'"
      ]
     },
     "execution_count": 63,
     "metadata": {},
     "output_type": "execute_result"
    }
   ],
   "source": [
    "itrf.iloc[0][\"ground_truth\"]"
   ]
  },
  {
   "cell_type": "markdown",
   "metadata": {},
   "source": [
    "We noticed that the answers were retrieved incorrectly so we reloaded them"
   ]
  },
  {
   "cell_type": "code",
   "execution_count": 64,
   "metadata": {},
   "outputs": [],
   "source": [
    "itrf[\"query_plain\"] = itrf[\"query\"].apply(lambda x: x.split(\"\\nOptions:\")[0])"
   ]
  },
  {
   "cell_type": "code",
   "execution_count": 35,
   "metadata": {},
   "outputs": [
    {
     "name": "stdout",
     "output_type": "stream",
     "text": [
      "Skipping question How many electrons does gold (Au) possess that have a quantum number l = 2?\n",
      "Options: 1) 9, 2) 23, 3) 29, 4) 79\n",
      " An artist doing a pencil drawing could use which of the following techniques to add depth to her or his drawing?\n",
      "Found question How many electrons does gold (Au) possess that have a quantum number l = 2?\n",
      "Options: 1) 9, 2) 23, 3) 29, 4) 79\n",
      " How many electrons does gold (Au) possess that have a quantum number l = 2?\n",
      "Skipping question Noncompetitive inhibition differs from uncompetitive inhibition in that a noncompetitive inhibitor binds to an allosteric site on the enzyme and prevents it from catalyzing a reaction, whereas uncompetitive inhibitors bind to the enzymesubstrate complex and prevent catalysis. Increasing the substrate concentration would have which of the following effects?\n",
      "Options: 1) Increasing impact of uncompetitive inhibitor and decreasing concentration of noncompetitive inhibitor, 2) Decreasing impact of uncompetitive inhibitor and increasing impact of noncompetitive inhibitor., 3) Increasing impact of uncompetitive inhibitor, 4) No effect\n",
      " The sarcoplasmic reticulum in muscle cells acts as a:\n",
      "Found question Noncompetitive inhibition differs from uncompetitive inhibition in that a noncompetitive inhibitor binds to an allosteric site on the enzyme and prevents it from catalyzing a reaction, whereas uncompetitive inhibitors bind to the enzymesubstrate complex and prevent catalysis. Increasing the substrate concentration would have which of the following effects?\n",
      "Options: 1) Increasing impact of uncompetitive inhibitor and decreasing concentration of noncompetitive inhibitor, 2) Decreasing impact of uncompetitive inhibitor and increasing impact of noncompetitive inhibitor., 3) Increasing impact of uncompetitive inhibitor, 4) No effect\n",
      " Noncompetitive inhibition differs from uncompetitive inhibition in that a noncompetitive inhibitor binds to an allosteric site on the enzyme and prevents it from catalyzing a reaction, whereas uncompetitive inhibitors bind to the enzymesubstrate complex and prevent catalysis. Increasing the substrate concentration would have which of the following effects?\n",
      "Skipping question In what sport do athletes compete for the Walker Cup?\n",
      "Options: 1) cricket, 2) tennis, 3) squash, 4) golf\n",
      " Which of the following information about publications does the Audit Bureau of Circulation NOT provide?\n",
      "Found question In what sport do athletes compete for the Walker Cup?\n",
      "Options: 1) cricket, 2) tennis, 3) squash, 4) golf\n",
      " In what sport do athletes compete for the Walker Cup?\n",
      "Skipping question Joint creation of value, in which customers take part in an active dialogue and co-construct personalized experiences, is referred to as:\n",
      "Options: 1) Interactive marketing., 2) Co-creation experience., 3) Relationship marketing., 4) Organization marketing.\n",
      " Which of the following releases most energy when completely oxidised in the body?\n",
      "Found question Joint creation of value, in which customers take part in an active dialogue and co-construct personalized experiences, is referred to as:\n",
      "Options: 1) Interactive marketing., 2) Co-creation experience., 3) Relationship marketing., 4) Organization marketing.\n",
      " Joint creation of value, in which customers take part in an active dialogue and co-construct personalized experiences, is referred to as:\n",
      "Skipping question In defining the term 'historical materialism', which of the following statements best defines the term 'materialism'?\n",
      "Options: 1) Materialism refers to HM's focus on class and the productive basis of societies, as well as the ways in which social structures have the capacity to change and produce change., 2) Materialism refers to the roots of HM in the postmodern schools of thought., 3) The term materialism refers to the focus of HM on consumerism and the centrality of economic power in the approach., 4) In their rejection of class orientated political interaction, HM scholars refer to wealth instead as the accumulation or access to physical resources, coining the term materialism to describe this approach.\n",
      " The rate limiting enzyme of glycolysis is:\n",
      "Found question In defining the term 'historical materialism', which of the following statements best defines the term 'materialism'?\n",
      "Options: 1) Materialism refers to HM's focus on class and the productive basis of societies, as well as the ways in which social structures have the capacity to change and produce change., 2) Materialism refers to the roots of HM in the postmodern schools of thought., 3) The term materialism refers to the focus of HM on consumerism and the centrality of economic power in the approach., 4) In their rejection of class orientated political interaction, HM scholars refer to wealth instead as the accumulation or access to physical resources, coining the term materialism to describe this approach.\n",
      " In defining the term 'historical materialism', which of the following statements best defines the term 'materialism'?\n",
      "Skipping question This question refers to the following information.\n",
      "I don't know whether this world has meaning that transcends it. But I know that I do not know that meaning, and that it is impossible just now for me to know it. What can a meaning outside my condition mean to me? I can understand only in human terms.\n",
      "Albert Camus, \"The Myth of Sisyphus,\" 1955\n",
      "The author of the above passage was most associated with which of the following movements?\n",
      "Options: 1) Existentialism, 2) Religious fundamentalism, 3) New age syncretism, 4) Liberation theology\n",
      " The case study of Phineas Gage's brain injury was significant for which of the following reasons?\n",
      "Found question This question refers to the following information.\n",
      "I don't know whether this world has meaning that transcends it. But I know that I do not know that meaning, and that it is impossible just now for me to know it. What can a meaning outside my condition mean to me? I can understand only in human terms.\n",
      "Albert Camus, \"The Myth of Sisyphus,\" 1955\n",
      "The author of the above passage was most associated with which of the following movements?\n",
      "Options: 1) Existentialism, 2) Religious fundamentalism, 3) New age syncretism, 4) Liberation theology\n",
      " This question refers to the following information.\n",
      "I don't know whether this world has meaning that transcends it. But I know that I do not know that meaning, and that it is impossible just now for me to know it. What can a meaning outside my condition mean to me? I can understand only in human terms.\n",
      "Albert Camus, \"The Myth of Sisyphus,\" 1955\n",
      "The author of the above passage was most associated with which of the following movements?\n",
      "Skipping question A state labor code provided that no employer in the state shall knowingly employ an alien who is not lawfully residing in the United States if such employment would have an adverse effect on lawful residents' right to work. A group of immigrant farm workers were continually refused employment contracts by the labor contractors in the state. Instead, the labor contractors had employed many alien workers since they would toil longer hours for less wages. The immigrant farm workers now bring suit in state court pursuant to the above-mentioned statutory provision. Which of the following determinations would most likely result as a consequence of the immigrant farm workers' lawsuit?\n",
      "Options: 1) The court would declare the statute unconstitutional as violative of the equal protection clause of the Fourteenth Amendment., 2) The court would declare the statute constitutional as within the realm of rights reserved to the states by the Eleventh Amendment., 3) The court would declare the statute unconstitutional since the regulation of immigration is preempted., 4) The court would declare the statute constitutional since the states are not preempted in the area of economic regulation of illegal aliens.\n",
      " A fundamental cause of fatigue in high intensity exercise is:\n",
      "Found question A state labor code provided that no employer in the state shall knowingly employ an alien who is not lawfully residing in the United States if such employment would have an adverse effect on lawful residents' right to work. A group of immigrant farm workers were continually refused employment contracts by the labor contractors in the state. Instead, the labor contractors had employed many alien workers since they would toil longer hours for less wages. The immigrant farm workers now bring suit in state court pursuant to the above-mentioned statutory provision. Which of the following determinations would most likely result as a consequence of the immigrant farm workers' lawsuit?\n",
      "Options: 1) The court would declare the statute unconstitutional as violative of the equal protection clause of the Fourteenth Amendment., 2) The court would declare the statute constitutional as within the realm of rights reserved to the states by the Eleventh Amendment., 3) The court would declare the statute unconstitutional since the regulation of immigration is preempted., 4) The court would declare the statute constitutional since the states are not preempted in the area of economic regulation of illegal aliens.\n",
      " A state labor code provided that no employer in the state shall knowingly employ an alien who is not lawfully residing in the United States if such employment would have an adverse effect on lawful residents' right to work. A group of immigrant farm workers were continually refused employment contracts by the labor contractors in the state. Instead, the labor contractors had employed many alien workers since they would toil longer hours for less wages. The immigrant farm workers now bring suit in state court pursuant to the above-mentioned statutory provision. Which of the following determinations would most likely result as a consequence of the immigrant farm workers' lawsuit?\n",
      "Skipping question Monatomic ions of the representative elements are often\n",
      "Options: 1) very soluble, 2) very electronegative, 3) isoelectronic with a noble gas, 4) highly colored\n",
      " A rod measures 1.00 m in its rest system. How fast must an observer move parallel to the rod to measure its length to be 0.80 m?\n",
      "Found question Monatomic ions of the representative elements are often\n",
      "Options: 1) very soluble, 2) very electronegative, 3) isoelectronic with a noble gas, 4) highly colored\n",
      " Monatomic ions of the representative elements are often\n",
      "Skipping question Which of the following statements is false?\n",
      "Options: 1) Phosphofructokinase is the rate limiting enzyme in glycolysis., 2) Phosphorylase activity is higher in Type II fibres than in Type I fibres., 3) Endurance training increases the amount of TCA cycle enzymes in muscle., 4) Oxygen is consumed in the TCA cycle.\n",
      " White light is normally incident on a puddle of water (index of refraction 1.33). A thin (500 nm) layer of oil (index of refraction 1.5) floats on the surface of the puddle. Of the following, the most strongly reflected wavelength is\n",
      "Found question Which of the following statements is false?\n",
      "Options: 1) Phosphofructokinase is the rate limiting enzyme in glycolysis., 2) Phosphorylase activity is higher in Type II fibres than in Type I fibres., 3) Endurance training increases the amount of TCA cycle enzymes in muscle., 4) Oxygen is consumed in the TCA cycle.\n",
      " Which of the following statements is false?\n",
      "Skipping question A transmembrane protein being isolated in the laboratory is found to be composed of four different amino acids in varying quantity. They are, in order of frequency, glycine, tyrosine, arginine, and isoleucine. Of these amino acids, which is most likely to be inside the transmembrane domain?\n",
      "Options: 1) Glycine, 2) Tyrosine, 3) Arginine, 4) Isoleucine\n",
      " The energy released from the breakdown of the high-energy phosphates, ATP and phosphocreatine, can sustain maximal exertion exercise for about:\n",
      "Found question A transmembrane protein being isolated in the laboratory is found to be composed of four different amino acids in varying quantity. They are, in order of frequency, glycine, tyrosine, arginine, and isoleucine. Of these amino acids, which is most likely to be inside the transmembrane domain?\n",
      "Options: 1) Glycine, 2) Tyrosine, 3) Arginine, 4) Isoleucine\n",
      " A transmembrane protein being isolated in the laboratory is found to be composed of four different amino acids in varying quantity. They are, in order of frequency, glycine, tyrosine, arginine, and isoleucine. Of these amino acids, which is most likely to be inside the transmembrane domain?\n",
      "Skipping question  An unborn vertebrate animal that has developed to the point of having the basic structure that is characteristic of its kind is known as\n",
      "Options: 1) a zygote., 2) a blastocyst., 3) an embryo., 4) a fetus.\n",
      " Which classical conditioning term best describes the following scenario: Later in his classical conditioning experiments, Ivan Pavlov's dogs began to salivate whenever they heard any sound similar to a bell, such as a doorbell or someone accidentally clinking a water glass.\n",
      "Found question  An unborn vertebrate animal that has developed to the point of having the basic structure that is characteristic of its kind is known as\n",
      "Options: 1) a zygote., 2) a blastocyst., 3) an embryo., 4) a fetus.\n",
      "  An unborn vertebrate animal that has developed to the point of having the basic structure that is characteristic of its kind is known as\n",
      "Skipping question Theories\n",
      "Options: 1) Are not very important in aging research, 2) Attempt to explain findings and guide future research, 3) Have never been adequately tested, 4) Have been around for a long time but have only recently been tested\n",
      " The maximum sustainable power:\n",
      "Found question Theories\n",
      "Options: 1) Are not very important in aging research, 2) Attempt to explain findings and guide future research, 3) Have never been adequately tested, 4) Have been around for a long time but have only recently been tested\n",
      " Theories\n",
      "Skipping question Suppose that for some $a,b,c$ we have $a+b+c = 6$, $ab+ac+bc = 5$ and $abc = -12$. What is $a^3+b^3+c^3$?\n",
      "Options: 1) 90, 2) 99, 3) 64, 4) 91\n",
      " Most of the free fatty acids are transported in the blood:\n",
      "Found question Suppose that for some $a,b,c$ we have $a+b+c = 6$, $ab+ac+bc = 5$ and $abc = -12$. What is $a^3+b^3+c^3$?\n",
      "Options: 1) 90, 2) 99, 3) 64, 4) 91\n",
      " Suppose that for some $a,b,c$ we have $a+b+c = 6$, $ab+ac+bc = 5$ and $abc = -12$. What is $a^3+b^3+c^3$?\n",
      "Skipping question A brother and a sister purchased land under a deed that conveyed title to them as joint tenants with right ofsurvivorship. Common law joint tenancy is unmodified by statute in the jurisdiction. The purchase price was $50,000, of which the sister paid $10,000 and the brother paid $40,000. The sisterlater mortgaged her interest in the land. The brother then died testate, leaving his entire estate to a cousin. Thesister later paid off her mortgage debt, and the mortgage was released. At the present time, who owns the land?\n",
      "Options: 1) The answer depends on whether the jurisdiction follows the lien theory or the title theory ofmortgages., 2) Title is entirely in the sister as the surviving joint tenant., 3) Title is in the sister and the cousin as equal tenants in common., 4) Title is in the sister and the cousin as tenants in common, with the sister having a 20% interest and thecousin having an 80% interest.\n",
      " The net production of ATP via substrate-level phosphorylation in glycolysis is:\n",
      "Found question A brother and a sister purchased land under a deed that conveyed title to them as joint tenants with right ofsurvivorship. Common law joint tenancy is unmodified by statute in the jurisdiction. The purchase price was $50,000, of which the sister paid $10,000 and the brother paid $40,000. The sisterlater mortgaged her interest in the land. The brother then died testate, leaving his entire estate to a cousin. Thesister later paid off her mortgage debt, and the mortgage was released. At the present time, who owns the land?\n",
      "Options: 1) The answer depends on whether the jurisdiction follows the lien theory or the title theory ofmortgages., 2) Title is entirely in the sister as the surviving joint tenant., 3) Title is in the sister and the cousin as equal tenants in common., 4) Title is in the sister and the cousin as tenants in common, with the sister having a 20% interest and thecousin having an 80% interest.\n",
      " A brother and a sister purchased land under a deed that conveyed title to them as joint tenants with right ofsurvivorship. Common law joint tenancy is unmodified by statute in the jurisdiction. The purchase price was $50,000, of which the sister paid $10,000 and the brother paid $40,000. The sisterlater mortgaged her interest in the land. The brother then died testate, leaving his entire estate to a cousin. Thesister later paid off her mortgage debt, and the mortgage was released. At the present time, who owns the land?\n",
      "Skipping question Consider the following grammar.\n",
      "S → ( S )\n",
      "S → x\n",
      "Which of the following statements is (are) true?\n",
      "I. The grammar is ambiguous.\n",
      "II. The grammar is suitable for top-down parsing.\n",
      "III. The grammar is suitable for bottom-up parsing.\n",
      "Options: 1) I only, 2) II only, 3) III only, 4) II and III only\n",
      " Which of the following is true?\n",
      "Found question Consider the following grammar.\n",
      "S → ( S )\n",
      "S → x\n",
      "Which of the following statements is (are) true?\n",
      "I. The grammar is ambiguous.\n",
      "II. The grammar is suitable for top-down parsing.\n",
      "III. The grammar is suitable for bottom-up parsing.\n",
      "Options: 1) I only, 2) II only, 3) III only, 4) II and III only\n",
      " Consider the following grammar.\n",
      "S → ( S )\n",
      "S → x\n",
      "Which of the following statements is (are) true?\n",
      "I. The grammar is ambiguous.\n",
      "II. The grammar is suitable for top-down parsing.\n",
      "III. The grammar is suitable for bottom-up parsing.\n",
      "Skipping question When a monopolist has maximized profit,\n",
      "Options: 1) price is set equal to marginal cost, creating zero economic profit., 2) output is set where price is equal to average total cost., 3) price is set above marginal cost, creating allocative inefficiency., 4) any short-run profit will be eliminated through the long-run entry of new firms.\n",
      " The trigger to initiate the contractile process in skeletal muscle is:\n",
      "Found question When a monopolist has maximized profit,\n",
      "Options: 1) price is set equal to marginal cost, creating zero economic profit., 2) output is set where price is equal to average total cost., 3) price is set above marginal cost, creating allocative inefficiency., 4) any short-run profit will be eliminated through the long-run entry of new firms.\n",
      " When a monopolist has maximized profit,\n",
      "Skipping question For which of these two scenarios does the main character (who uses I/me/my) do something clearly morally wrong, according to ordinary moral standards in the US as of 2020? Scenario 1 | I made a copy of the house key. Scenario 2 | I threw my milk on my classmates head to put out the fire.\n",
      "Options: 1) Wrong, Wrong, 2) Wrong, Not wrong, 3) Not wrong, Wrong, 4) Not wrong, Not wrong\n",
      " Which of the following promotes glucose and amino acid uptake by muscle?\n",
      "Found question For which of these two scenarios does the main character (who uses I/me/my) do something clearly morally wrong, according to ordinary moral standards in the US as of 2020? Scenario 1 | I made a copy of the house key. Scenario 2 | I threw my milk on my classmates head to put out the fire.\n",
      "Options: 1) Wrong, Wrong, 2) Wrong, Not wrong, 3) Not wrong, Wrong, 4) Not wrong, Not wrong\n",
      " For which of these two scenarios does the main character (who uses I/me/my) do something clearly morally wrong, according to ordinary moral standards in the US as of 2020? Scenario 1 | I made a copy of the house key. Scenario 2 | I threw my milk on my classmates head to put out the fire.\n",
      "Skipping question According to the BCS theory, the attraction between Cooper pairs in a superconductor is due to\n",
      "Options: 1) the weak nuclear force, 2) the strong nuclear force, 3) vacuum polarization, 4) interactions with the ionic lattice\n",
      " Which of the following can act as an intracellular buffer to limit pH changes when the rate of glycolysis is high?\n",
      "Found question According to the BCS theory, the attraction between Cooper pairs in a superconductor is due to\n",
      "Options: 1) the weak nuclear force, 2) the strong nuclear force, 3) vacuum polarization, 4) interactions with the ionic lattice\n",
      " According to the BCS theory, the attraction between Cooper pairs in a superconductor is due to\n",
      "Skipping question For which of these two scenarios does the main character (who uses I/me/my) do something clearly morally wrong, according to ordinary moral standards in the US as of 2020? Scenario 1 | I poured the rest of my drink on the kitchen floor. Scenario 2 | As an attorney, I don't care if my clients are innocent or not.\n",
      "Options: 1) Wrong, Wrong, 2) Wrong, Not wrong, 3) Not wrong, Wrong, 4) Not wrong, Not wrong\n",
      " Which of the following is not an amino acid?\n",
      "Found question For which of these two scenarios does the main character (who uses I/me/my) do something clearly morally wrong, according to ordinary moral standards in the US as of 2020? Scenario 1 | I poured the rest of my drink on the kitchen floor. Scenario 2 | As an attorney, I don't care if my clients are innocent or not.\n",
      "Options: 1) Wrong, Wrong, 2) Wrong, Not wrong, 3) Not wrong, Wrong, 4) Not wrong, Not wrong\n",
      " For which of these two scenarios does the main character (who uses I/me/my) do something clearly morally wrong, according to ordinary moral standards in the US as of 2020? Scenario 1 | I poured the rest of my drink on the kitchen floor. Scenario 2 | As an attorney, I don't care if my clients are innocent or not.\n",
      "Skipping question  Kant refers to the special worth or value of persons as\n",
      "Options: 1) virtue., 2) beauty., 3) praiseworthiness., 4) dignity.\n",
      " If the mean rate of oxygen consumption of a male athlete during a training session is 2 l/min, then his rate of energy expenditure is approximately:\n",
      "Found question  Kant refers to the special worth or value of persons as\n",
      "Options: 1) virtue., 2) beauty., 3) praiseworthiness., 4) dignity.\n",
      "  Kant refers to the special worth or value of persons as\n",
      "Skipping question When the price of pears increases, we expect the following:\n",
      "Options: 1) Quantity demanded of pears rises., 2) Quantity supplied of pears falls., 3) Quantity demanded of pears falls., 4) Demand for pears falls.\n",
      " After what period of time does maximal dynamic exercise become predominantly aerobic?\n",
      "Found question When the price of pears increases, we expect the following:\n",
      "Options: 1) Quantity demanded of pears rises., 2) Quantity supplied of pears falls., 3) Quantity demanded of pears falls., 4) Demand for pears falls.\n",
      " When the price of pears increases, we expect the following:\n",
      "Skipping question A construction company was doing repairs and replacing portions of a sidewalk and railing next to a lake. The construction crew started tearing out the old sidewalk and railing, but stopped work when it started to get dark. The construction crew left without putting up a warning sign or barrier around the work area. A few hours later, a jogger came along the sidewalk. Not realizing the construction work was in progress there, the jogger stumbled and fell at the spot where the construction crew had torn up the sidewalk and railing. The jogger fell into the lake. As the jogger was attempting to stay afloat, he began screaming, \"Help! Help! I can't swim. I'm drowning. \" His screams attracted the attention of a person who was passing on his bicycle. The cyclist immediately hurried to assist the jogger. As the cyclist was leaning over the edge of the lake, trying to help the jogger get out of the water, he lost his balance and fell into the lake. Both the jogger and cyclist suffered serious bodily injuries before they were pulled out of the water by police. In a negligence action by the cyclist to recover for his personal injuries, the construction company will most probably\n",
      "Options: 1) be held liable, because the cyclist's attempt to rescue the jogger was foreseeable., 2) be held liable, because the construction company would be strictly liable to anyone injured by the failure to put adequate warnings or barriers around the site of the sidewalk repairs., 3) not be held liable, because the cyclist assumed the risk by leaning over the edge of the lake., 4) not be held liable, because the construction company could not foresee that anyone would be hurt while trying to rescue someone from the lake.\n",
      " The main fate of lactate that leaves muscle and enters the circulation is:\n",
      "Found question A construction company was doing repairs and replacing portions of a sidewalk and railing next to a lake. The construction crew started tearing out the old sidewalk and railing, but stopped work when it started to get dark. The construction crew left without putting up a warning sign or barrier around the work area. A few hours later, a jogger came along the sidewalk. Not realizing the construction work was in progress there, the jogger stumbled and fell at the spot where the construction crew had torn up the sidewalk and railing. The jogger fell into the lake. As the jogger was attempting to stay afloat, he began screaming, \"Help! Help! I can't swim. I'm drowning. \" His screams attracted the attention of a person who was passing on his bicycle. The cyclist immediately hurried to assist the jogger. As the cyclist was leaning over the edge of the lake, trying to help the jogger get out of the water, he lost his balance and fell into the lake. Both the jogger and cyclist suffered serious bodily injuries before they were pulled out of the water by police. In a negligence action by the cyclist to recover for his personal injuries, the construction company will most probably\n",
      "Options: 1) be held liable, because the cyclist's attempt to rescue the jogger was foreseeable., 2) be held liable, because the construction company would be strictly liable to anyone injured by the failure to put adequate warnings or barriers around the site of the sidewalk repairs., 3) not be held liable, because the cyclist assumed the risk by leaning over the edge of the lake., 4) not be held liable, because the construction company could not foresee that anyone would be hurt while trying to rescue someone from the lake.\n",
      " A construction company was doing repairs and replacing portions of a sidewalk and railing next to a lake. The construction crew started tearing out the old sidewalk and railing, but stopped work when it started to get dark. The construction crew left without putting up a warning sign or barrier around the work area. A few hours later, a jogger came along the sidewalk. Not realizing the construction work was in progress there, the jogger stumbled and fell at the spot where the construction crew had torn up the sidewalk and railing. The jogger fell into the lake. As the jogger was attempting to stay afloat, he began screaming, \"Help! Help! I can't swim. I'm drowning. \" His screams attracted the attention of a person who was passing on his bicycle. The cyclist immediately hurried to assist the jogger. As the cyclist was leaning over the edge of the lake, trying to help the jogger get out of the water, he lost his balance and fell into the lake. Both the jogger and cyclist suffered serious bodily injuries before they were pulled out of the water by police. In a negligence action by the cyclist to recover for his personal injuries, the construction company will most probably\n",
      "Skipping question Which of the following should be named using Roman numerals after the cation?\n",
      "Options: 1) CaCl2, 2) CuCl2, 3) AlBr3, 4) K2Cr2O7\n",
      " The activity of creatine kinase is:\n",
      "Found question Which of the following should be named using Roman numerals after the cation?\n",
      "Options: 1) CaCl2, 2) CuCl2, 3) AlBr3, 4) K2Cr2O7\n",
      " Which of the following should be named using Roman numerals after the cation?\n",
      "Skipping question The mean thrust of a certain model jet engine is 9500 pounds. Concerned that a production process change might have lowered the thrust, an inspector tests a sample of units, calculating a mean of 9350 pounds with a z-score of -2.46 and a P-value of 0.0069. Which of the following is the most reasonable conclusion?\n",
      "Options: 1) 99.31% of the engines produced under the new process will have a thrust under 9350 pounds., 2) 99.31% of the engines produced under the new process will have a thrust under 9500 pounds., 3) 0.69% of the time an engine produced under the new process will have a thrust over 9500 pounds., 4) There is evidence to conclude that the new process is producing engines with a mean thrust under 9500 pounds.\n",
      " Which of the following factors can affect enzyme activity?\n",
      "Found question The mean thrust of a certain model jet engine is 9500 pounds. Concerned that a production process change might have lowered the thrust, an inspector tests a sample of units, calculating a mean of 9350 pounds with a z-score of -2.46 and a P-value of 0.0069. Which of the following is the most reasonable conclusion?\n",
      "Options: 1) 99.31% of the engines produced under the new process will have a thrust under 9350 pounds., 2) 99.31% of the engines produced under the new process will have a thrust under 9500 pounds., 3) 0.69% of the time an engine produced under the new process will have a thrust over 9500 pounds., 4) There is evidence to conclude that the new process is producing engines with a mean thrust under 9500 pounds.\n",
      " The mean thrust of a certain model jet engine is 9500 pounds. Concerned that a production process change might have lowered the thrust, an inspector tests a sample of units, calculating a mean of 9350 pounds with a z-score of -2.46 and a P-value of 0.0069. Which of the following is the most reasonable conclusion?\n",
      "Skipping question For which of these two scenarios does the main character (who uses I/me/my) do something clearly morally wrong, according to ordinary moral standards in the US as of 2020? Scenario 1 | I broke into a luxurious estate recently. Scenario 2 | At the Halloween party tonight, I plan on adding extra sugar to the punch drink without anyone knowing.\n",
      "Options: 1) Wrong, Wrong, 2) Wrong, Not wrong, 3) Not wrong, Wrong, 4) Not wrong, Not wrong\n",
      " Embedded in the inner membrane of the mitochondrion are:\n",
      "Found question For which of these two scenarios does the main character (who uses I/me/my) do something clearly morally wrong, according to ordinary moral standards in the US as of 2020? Scenario 1 | I broke into a luxurious estate recently. Scenario 2 | At the Halloween party tonight, I plan on adding extra sugar to the punch drink without anyone knowing.\n",
      "Options: 1) Wrong, Wrong, 2) Wrong, Not wrong, 3) Not wrong, Wrong, 4) Not wrong, Not wrong\n",
      " For which of these two scenarios does the main character (who uses I/me/my) do something clearly morally wrong, according to ordinary moral standards in the US as of 2020? Scenario 1 | I broke into a luxurious estate recently. Scenario 2 | At the Halloween party tonight, I plan on adding extra sugar to the punch drink without anyone knowing.\n",
      "Skipping question The defendant and her co-felon decided to rob a bank. They agreed to use unloaded guns in the robbery. As planned, the co-felon entered the bank while the defendant stationed herself outside as a lookout. The co-felon approached the bank teller, pointed her unloaded gun at him, and demanded themoney. While the teller was handing the money to the co-felon, the defendant got scared and fled. The teller, who had a weak heart started to feel faint. He handed over the money to the co-felon, and then clutched his chest and died. The co-felon was found not guilty by a jury in her trial, which preceded the defendant's trial. The defendant is subsequently prosecuted for conspiracy and acquitted. Her acquittal most likely resulted because\n",
      "Options: 1) the defendant abandoned her participation in the crime., 2) the teller's death was accidental., 3) the co-felon was acquitted., 4) the teller was not placed in apprehension of bodily harm.\n",
      " With an increasing number of sprints the:\n",
      "Found question The defendant and her co-felon decided to rob a bank. They agreed to use unloaded guns in the robbery. As planned, the co-felon entered the bank while the defendant stationed herself outside as a lookout. The co-felon approached the bank teller, pointed her unloaded gun at him, and demanded themoney. While the teller was handing the money to the co-felon, the defendant got scared and fled. The teller, who had a weak heart started to feel faint. He handed over the money to the co-felon, and then clutched his chest and died. The co-felon was found not guilty by a jury in her trial, which preceded the defendant's trial. The defendant is subsequently prosecuted for conspiracy and acquitted. Her acquittal most likely resulted because\n",
      "Options: 1) the defendant abandoned her participation in the crime., 2) the teller's death was accidental., 3) the co-felon was acquitted., 4) the teller was not placed in apprehension of bodily harm.\n",
      " The defendant and her co-felon decided to rob a bank. They agreed to use unloaded guns in the robbery. As planned, the co-felon entered the bank while the defendant stationed herself outside as a lookout. The co-felon approached the bank teller, pointed her unloaded gun at him, and demanded themoney. While the teller was handing the money to the co-felon, the defendant got scared and fled. The teller, who had a weak heart started to feel faint. He handed over the money to the co-felon, and then clutched his chest and died. The co-felon was found not guilty by a jury in her trial, which preceded the defendant's trial. The defendant is subsequently prosecuted for conspiracy and acquitted. Her acquittal most likely resulted because\n",
      "Skipping question Let A and B be sets, f: A -> B and g: B -> A be functions such that for all a \\in A, g(f(a)) = a. Statement 1 | The function f must necessarily be injective. Statement 2 | The function f must necessarily be surjective.\n",
      "Options: 1) True, True, 2) False, False, 3) True, False, 4) False, True\n",
      " Phosphocreatine in the muscle cell is found in:\n",
      "Found question Let A and B be sets, f: A -> B and g: B -> A be functions such that for all a \\in A, g(f(a)) = a. Statement 1 | The function f must necessarily be injective. Statement 2 | The function f must necessarily be surjective.\n",
      "Options: 1) True, True, 2) False, False, 3) True, False, 4) False, True\n",
      " Let A and B be sets, f: A -> B and g: B -> A be functions such that for all a \\in A, g(f(a)) = a. Statement 1 | The function f must necessarily be injective. Statement 2 | The function f must necessarily be surjective.\n",
      "Skipping question Suppose the President plans to cut taxes for consumers and also plans to increase spending on the military. How does this affect real GDP and the price level?\n",
      "Options: 1) GDP increases and the price level decreases., 2) GDP decreases and the price level increases., 3) GDP stays the same and the price level increases., 4) GDP increases and the price level increases.\n",
      " Excited states of the helium atom can be characterized as para- (antiparallel electron spins) and ortho- (parallel electron spins). The observation that an ortho- state has lower energy than the corresponding para- state can be understood in terms of which of the following?\n",
      "Found question Suppose the President plans to cut taxes for consumers and also plans to increase spending on the military. How does this affect real GDP and the price level?\n",
      "Options: 1) GDP increases and the price level decreases., 2) GDP decreases and the price level increases., 3) GDP stays the same and the price level increases., 4) GDP increases and the price level increases.\n",
      " Suppose the President plans to cut taxes for consumers and also plans to increase spending on the military. How does this affect real GDP and the price level?\n",
      "Skipping question Let f(x) be a function whose graph passes through the origin. If f(2n) = n^2 + f[2(n - 1)] for every integer n, what is the value of f(8)?\n",
      "Options: 1) 24, 2) 30, 3) 32, 4) 36\n",
      " Phophocreatine resynthesis during recovery from exercise is inhibited by:\n",
      "Found question Let f(x) be a function whose graph passes through the origin. If f(2n) = n^2 + f[2(n - 1)] for every integer n, what is the value of f(8)?\n",
      "Options: 1) 24, 2) 30, 3) 32, 4) 36\n",
      " Let f(x) be a function whose graph passes through the origin. If f(2n) = n^2 + f[2(n - 1)] for every integer n, what is the value of f(8)?\n",
      "Different source natural_questions cais/mmlu\n"
     ]
    }
   ],
   "source": [
    "from datasets import load_dataset\n",
    "d = load_dataset(\"cais/mmlu\", \"all\", split=\"test\")\n",
    "shuffled = iter(d.shuffle(seed=4048))\n",
    "\n",
    "total = 0\n",
    "skipped = 0\n",
    "processed = 0\n",
    "not_matching = 0\n",
    "\n",
    "for i in range(7500):\n",
    "    dp = next(shuffled)\n",
    "    ex = itrf.iloc[i]\n",
    "\n",
    "    if ex[\"src\"] != \"cais/mmlu\":\n",
    "        print(\"Different source\", ex[\"src\"], \"cais/mmlu\")\n",
    "        break\n",
    "\n",
    "    if ex[\"query_plain\"] != dp[\"question\"]:\n",
    "        total += 1\n",
    "        while ex[\"query_plain\"] != dp[\"question\"]:\n",
    "            print(\"Skipping question\", ex[\"query\"], dp[\"question\"])\n",
    "            dp = next(shuffled)\n",
    "            skipped = skipped + 1\n",
    "            if skipped > 7500:\n",
    "                break\n",
    "        print(\"Found question\", ex[\"query\"], dp[\"question\"])\n",
    "    if ex[\"query_plain\"] == dp[\"question\"]:\n",
    "        processed += 1\n",
    "        itrf.loc[i, \"ground_truth\"] = str(dp[\"answer\"]+1) + \") \" + str(dp[\"choices\"][dp[\"answer\"]])\n",
    "    if int(ex[\"ground_truth\"][0])-1 != dp[\"answer\"]:\n",
    "         not_matching += 1\n",
    "         print(f\"Different context\", int(ex[\"ground_truth\"][0])-1, dp[\"answer\"])"
   ]
  },
  {
   "cell_type": "code",
   "execution_count": 66,
   "metadata": {},
   "outputs": [
    {
     "data": {
      "text/plain": [
       "7471"
      ]
     },
     "execution_count": 66,
     "metadata": {},
     "output_type": "execute_result"
    }
   ],
   "source": [
    "len(itrf[itrf[\"src\"]== \"cais/mmlu\"])"
   ]
  },
  {
   "cell_type": "code",
   "execution_count": 67,
   "metadata": {},
   "outputs": [
    {
     "data": {
      "text/plain": [
       "7471"
      ]
     },
     "execution_count": 67,
     "metadata": {},
     "output_type": "execute_result"
    }
   ],
   "source": [
    "processed"
   ]
  },
  {
   "cell_type": "code",
   "execution_count": 68,
   "metadata": {},
   "outputs": [],
   "source": [
    "itrf.to_parquet(\"../data/dataset/.parquet\")"
   ]
  },
  {
   "cell_type": "code",
   "execution_count": null,
   "metadata": {},
   "outputs": [],
   "source": []
  },
  {
   "cell_type": "markdown",
   "metadata": {},
   "source": [
    "# Eval"
   ]
  },
  {
   "cell_type": "code",
   "execution_count": 1,
   "metadata": {},
   "outputs": [],
   "source": [
    "from pandas import read_parquet\n",
    "\n",
    "itrf = read_parquet(\"../data/dataset/itrf_evaluation_generation_llmware_llmware_mse.parquet\")\n"
   ]
  },
  {
   "cell_type": "code",
   "execution_count": 2,
   "metadata": {},
   "outputs": [
    {
     "data": {
      "text/html": [
       "<div>\n",
       "<style scoped>\n",
       "    .dataframe tbody tr th:only-of-type {\n",
       "        vertical-align: middle;\n",
       "    }\n",
       "\n",
       "    .dataframe tbody tr th {\n",
       "        vertical-align: top;\n",
       "    }\n",
       "\n",
       "    .dataframe thead th {\n",
       "        text-align: right;\n",
       "    }\n",
       "</style>\n",
       "<table border=\"1\" class=\"dataframe\">\n",
       "  <thead>\n",
       "    <tr style=\"text-align: right;\">\n",
       "      <th></th>\n",
       "      <th>split</th>\n",
       "      <th>query</th>\n",
       "      <th>ground_truth</th>\n",
       "      <th>contexts</th>\n",
       "      <th>src</th>\n",
       "      <th>id</th>\n",
       "      <th>task</th>\n",
       "      <th>domain</th>\n",
       "      <th>query_plain</th>\n",
       "    </tr>\n",
       "  </thead>\n",
       "  <tbody>\n",
       "    <tr>\n",
       "      <th>0</th>\n",
       "      <td>validation</td>\n",
       "      <td>In the discharge checklist recommended by the ...</td>\n",
       "      <td>2) The nurse, patient, and ward clerk.</td>\n",
       "      <td>[{'id': '3759086', 'llm_score': 0.990682598318...</td>\n",
       "      <td>cais/mmlu</td>\n",
       "      <td>f5dab0cd07f621d72dca70cfe10b4284</td>\n",
       "      <td>mc</td>\n",
       "      <td>trivia</td>\n",
       "      <td>In the discharge checklist recommended by the ...</td>\n",
       "    </tr>\n",
       "    <tr>\n",
       "      <th>1</th>\n",
       "      <td>validation</td>\n",
       "      <td>What is the 'security dilemma' that faces weak...</td>\n",
       "      <td>1) The inability of the state to provide stabi...</td>\n",
       "      <td>[{'id': 'Balancing (international relations)',...</td>\n",
       "      <td>cais/mmlu</td>\n",
       "      <td>1f037ba8922e166ccc495fabd299947a</td>\n",
       "      <td>mc</td>\n",
       "      <td>trivia</td>\n",
       "      <td>What is the 'security dilemma' that faces weak...</td>\n",
       "    </tr>\n",
       "    <tr>\n",
       "      <th>2</th>\n",
       "      <td>validation</td>\n",
       "      <td>A complaint filed on behalf of a woman against...</td>\n",
       "      <td>2) One of the two defendants probably caused t...</td>\n",
       "      <td>[{'id': '9875000', 'llm_score': 0.976631289535...</td>\n",
       "      <td>cais/mmlu</td>\n",
       "      <td>4046ac8b8013af4810e57c2100024ec3</td>\n",
       "      <td>mc</td>\n",
       "      <td>trivia</td>\n",
       "      <td>A complaint filed on behalf of a woman against...</td>\n",
       "    </tr>\n",
       "    <tr>\n",
       "      <th>3</th>\n",
       "      <td>validation</td>\n",
       "      <td>For which of these two scenarios does the main...</td>\n",
       "      <td>1) Wrong, Wrong</td>\n",
       "      <td>[{'id': '3820166', 'llm_score': 0.973908787801...</td>\n",
       "      <td>cais/mmlu</td>\n",
       "      <td>cbec365641199984a2ebb122d5f33d0f</td>\n",
       "      <td>mc</td>\n",
       "      <td>trivia</td>\n",
       "      <td>For which of these two scenarios does the main...</td>\n",
       "    </tr>\n",
       "    <tr>\n",
       "      <th>4</th>\n",
       "      <td>validation</td>\n",
       "      <td>What is believed to be the reason for the deve...</td>\n",
       "      <td>2) the construction of canals for irrigation</td>\n",
       "      <td>[{'id': 'Las Haldas', 'llm_score': 0.948151379...</td>\n",
       "      <td>cais/mmlu</td>\n",
       "      <td>346032614a029da52cb8c34dd1a4765d</td>\n",
       "      <td>mc</td>\n",
       "      <td>trivia</td>\n",
       "      <td>What is believed to be the reason for the deve...</td>\n",
       "    </tr>\n",
       "    <tr>\n",
       "      <th>...</th>\n",
       "      <td>...</td>\n",
       "      <td>...</td>\n",
       "      <td>...</td>\n",
       "      <td>...</td>\n",
       "      <td>...</td>\n",
       "      <td>...</td>\n",
       "      <td>...</td>\n",
       "      <td>...</td>\n",
       "      <td>...</td>\n",
       "    </tr>\n",
       "    <tr>\n",
       "      <th>1595</th>\n",
       "      <td>validation</td>\n",
       "      <td>Who won more academy awards,  Joseph L. Mankie...</td>\n",
       "      <td>Joseph Leo Mankiewicz</td>\n",
       "      <td>[{'id': '13564022', 'llm_score': 0.96435913413...</td>\n",
       "      <td>hotpot_qa</td>\n",
       "      <td>219269a844cc7a4cf12badc42ab6c1a0</td>\n",
       "      <td>mc</td>\n",
       "      <td>trivia</td>\n",
       "      <td>Who won more academy awards,  Joseph L. Mankie...</td>\n",
       "    </tr>\n",
       "    <tr>\n",
       "      <th>1596</th>\n",
       "      <td>validation</td>\n",
       "      <td>Legends of the Fall was based on a novella by...</td>\n",
       "      <td>James Harrison</td>\n",
       "      <td>[{'id': '11701774', 'llm_score': 0.91306868172...</td>\n",
       "      <td>hotpot_qa</td>\n",
       "      <td>e5d2c96ecf21345ee12e38ad6eb29b52</td>\n",
       "      <td>mc</td>\n",
       "      <td>trivia</td>\n",
       "      <td>Legends of the Fall was based on a novella by...</td>\n",
       "    </tr>\n",
       "    <tr>\n",
       "      <th>1597</th>\n",
       "      <td>validation</td>\n",
       "      <td>Which group of people in West Africa with sign...</td>\n",
       "      <td>The Yoruba</td>\n",
       "      <td>[{'id': 'Women in Africa', 'llm_score': 0.9494...</td>\n",
       "      <td>hotpot_qa</td>\n",
       "      <td>38fe3455e675cdb77a4c14c6151e03d1</td>\n",
       "      <td>mc</td>\n",
       "      <td>trivia</td>\n",
       "      <td>Which group of people in West Africa with sign...</td>\n",
       "    </tr>\n",
       "    <tr>\n",
       "      <th>1598</th>\n",
       "      <td>validation</td>\n",
       "      <td>What team did Kenny Brown manage following the...</td>\n",
       "      <td>Chelmsford</td>\n",
       "      <td>[{'id': '12431963', 'llm_score': 0.87640653970...</td>\n",
       "      <td>hotpot_qa</td>\n",
       "      <td>8c2cafecca8a96923046fad4ccf50695</td>\n",
       "      <td>mc</td>\n",
       "      <td>trivia</td>\n",
       "      <td>What team did Kenny Brown manage following the...</td>\n",
       "    </tr>\n",
       "    <tr>\n",
       "      <th>1599</th>\n",
       "      <td>validation</td>\n",
       "      <td>Are Chlidanthus and Maianthemum both flowering...</td>\n",
       "      <td>yes</td>\n",
       "      <td>[{'id': 'Maianthemum', 'llm_score': 0.93245778...</td>\n",
       "      <td>hotpot_qa</td>\n",
       "      <td>6b7d38f7a73a73582e572c2b3da9829d</td>\n",
       "      <td>mc</td>\n",
       "      <td>trivia</td>\n",
       "      <td>Are Chlidanthus and Maianthemum both flowering...</td>\n",
       "    </tr>\n",
       "  </tbody>\n",
       "</table>\n",
       "<p>1600 rows × 9 columns</p>\n",
       "</div>"
      ],
      "text/plain": [
       "           split                                              query  \\\n",
       "0     validation  In the discharge checklist recommended by the ...   \n",
       "1     validation  What is the 'security dilemma' that faces weak...   \n",
       "2     validation  A complaint filed on behalf of a woman against...   \n",
       "3     validation  For which of these two scenarios does the main...   \n",
       "4     validation  What is believed to be the reason for the deve...   \n",
       "...          ...                                                ...   \n",
       "1595  validation  Who won more academy awards,  Joseph L. Mankie...   \n",
       "1596  validation   Legends of the Fall was based on a novella by...   \n",
       "1597  validation  Which group of people in West Africa with sign...   \n",
       "1598  validation  What team did Kenny Brown manage following the...   \n",
       "1599  validation  Are Chlidanthus and Maianthemum both flowering...   \n",
       "\n",
       "                                           ground_truth  \\\n",
       "0                2) The nurse, patient, and ward clerk.   \n",
       "1     1) The inability of the state to provide stabi...   \n",
       "2     2) One of the two defendants probably caused t...   \n",
       "3                                       1) Wrong, Wrong   \n",
       "4          2) the construction of canals for irrigation   \n",
       "...                                                 ...   \n",
       "1595                              Joseph Leo Mankiewicz   \n",
       "1596                                     James Harrison   \n",
       "1597                                         The Yoruba   \n",
       "1598                                         Chelmsford   \n",
       "1599                                                yes   \n",
       "\n",
       "                                               contexts        src  \\\n",
       "0     [{'id': '3759086', 'llm_score': 0.990682598318...  cais/mmlu   \n",
       "1     [{'id': 'Balancing (international relations)',...  cais/mmlu   \n",
       "2     [{'id': '9875000', 'llm_score': 0.976631289535...  cais/mmlu   \n",
       "3     [{'id': '3820166', 'llm_score': 0.973908787801...  cais/mmlu   \n",
       "4     [{'id': 'Las Haldas', 'llm_score': 0.948151379...  cais/mmlu   \n",
       "...                                                 ...        ...   \n",
       "1595  [{'id': '13564022', 'llm_score': 0.96435913413...  hotpot_qa   \n",
       "1596  [{'id': '11701774', 'llm_score': 0.91306868172...  hotpot_qa   \n",
       "1597  [{'id': 'Women in Africa', 'llm_score': 0.9494...  hotpot_qa   \n",
       "1598  [{'id': '12431963', 'llm_score': 0.87640653970...  hotpot_qa   \n",
       "1599  [{'id': 'Maianthemum', 'llm_score': 0.93245778...  hotpot_qa   \n",
       "\n",
       "                                    id task  domain  \\\n",
       "0     f5dab0cd07f621d72dca70cfe10b4284   mc  trivia   \n",
       "1     1f037ba8922e166ccc495fabd299947a   mc  trivia   \n",
       "2     4046ac8b8013af4810e57c2100024ec3   mc  trivia   \n",
       "3     cbec365641199984a2ebb122d5f33d0f   mc  trivia   \n",
       "4     346032614a029da52cb8c34dd1a4765d   mc  trivia   \n",
       "...                                ...  ...     ...   \n",
       "1595  219269a844cc7a4cf12badc42ab6c1a0   mc  trivia   \n",
       "1596  e5d2c96ecf21345ee12e38ad6eb29b52   mc  trivia   \n",
       "1597  38fe3455e675cdb77a4c14c6151e03d1   mc  trivia   \n",
       "1598  8c2cafecca8a96923046fad4ccf50695   mc  trivia   \n",
       "1599  6b7d38f7a73a73582e572c2b3da9829d   mc  trivia   \n",
       "\n",
       "                                            query_plain  \n",
       "0     In the discharge checklist recommended by the ...  \n",
       "1     What is the 'security dilemma' that faces weak...  \n",
       "2     A complaint filed on behalf of a woman against...  \n",
       "3     For which of these two scenarios does the main...  \n",
       "4     What is believed to be the reason for the deve...  \n",
       "...                                                 ...  \n",
       "1595  Who won more academy awards,  Joseph L. Mankie...  \n",
       "1596   Legends of the Fall was based on a novella by...  \n",
       "1597  Which group of people in West Africa with sign...  \n",
       "1598  What team did Kenny Brown manage following the...  \n",
       "1599  Are Chlidanthus and Maianthemum both flowering...  \n",
       "\n",
       "[1600 rows x 9 columns]"
      ]
     },
     "execution_count": 2,
     "metadata": {},
     "output_type": "execute_result"
    }
   ],
   "source": [
    "itrf"
   ]
  },
  {
   "cell_type": "code",
   "execution_count": 104,
   "metadata": {},
   "outputs": [
    {
     "name": "stdout",
     "output_type": "stream",
     "text": [
      "cais/mmlu 400\n",
      "natural_questions 400\n",
      "mandarjoshi/trivia_qa 400\n",
      "hotpot_qa 400\n"
     ]
    }
   ],
   "source": [
    "for i in itrf[\"src\"].unique():\n",
    "    df = itrf[itrf[\"src\"] == i].sample(400, random_state=4048)\n",
    "    print(i, len(df))"
   ]
  },
  {
   "cell_type": "code",
   "execution_count": 3,
   "metadata": {},
   "outputs": [
    {
     "data": {
      "text/html": [
       "<div>\n",
       "<style scoped>\n",
       "    .dataframe tbody tr th:only-of-type {\n",
       "        vertical-align: middle;\n",
       "    }\n",
       "\n",
       "    .dataframe tbody tr th {\n",
       "        vertical-align: top;\n",
       "    }\n",
       "\n",
       "    .dataframe thead th {\n",
       "        text-align: right;\n",
       "    }\n",
       "</style>\n",
       "<table border=\"1\" class=\"dataframe\">\n",
       "  <thead>\n",
       "    <tr style=\"text-align: right;\">\n",
       "      <th></th>\n",
       "      <th>split</th>\n",
       "      <th>query</th>\n",
       "      <th>ground_truth</th>\n",
       "      <th>all_contexts</th>\n",
       "      <th>src</th>\n",
       "      <th>id</th>\n",
       "      <th>task</th>\n",
       "      <th>domain</th>\n",
       "      <th>query_plain</th>\n",
       "      <th>question</th>\n",
       "      <th>answer</th>\n",
       "      <th>ground_truths</th>\n",
       "      <th>contexts</th>\n",
       "    </tr>\n",
       "  </thead>\n",
       "  <tbody>\n",
       "    <tr>\n",
       "      <th>0</th>\n",
       "      <td>validation</td>\n",
       "      <td>In the discharge checklist recommended by the ...</td>\n",
       "      <td>2) The nurse, patient, and ward clerk.</td>\n",
       "      <td>[{'id': '3759086', 'llm_score': 0.990682598318...</td>\n",
       "      <td>cais/mmlu</td>\n",
       "      <td>f5dab0cd07f621d72dca70cfe10b4284</td>\n",
       "      <td>mc</td>\n",
       "      <td>trivia</td>\n",
       "      <td>In the discharge checklist recommended by the ...</td>\n",
       "      <td>In the discharge checklist recommended by the ...</td>\n",
       "      <td>The nurse, patient, and ward clerk.</td>\n",
       "      <td>[2) The nurse, patient, and ward clerk.]</td>\n",
       "      <td>[completing this document: You must complete t...</td>\n",
       "    </tr>\n",
       "    <tr>\n",
       "      <th>1</th>\n",
       "      <td>validation</td>\n",
       "      <td>What is the 'security dilemma' that faces weak...</td>\n",
       "      <td>1) The inability of the state to provide stabi...</td>\n",
       "      <td>[{'id': 'Balancing (international relations)',...</td>\n",
       "      <td>cais/mmlu</td>\n",
       "      <td>1f037ba8922e166ccc495fabd299947a</td>\n",
       "      <td>mc</td>\n",
       "      <td>trivia</td>\n",
       "      <td>What is the 'security dilemma' that faces weak...</td>\n",
       "      <td>What is the 'security dilemma' that faces weak...</td>\n",
       "      <td>1) The inability of the state to provide stabi...</td>\n",
       "      <td>[1) The inability of the state to provide stab...</td>\n",
       "      <td>[Conceptualizing and understanding the Nationa...</td>\n",
       "    </tr>\n",
       "    <tr>\n",
       "      <th>2</th>\n",
       "      <td>validation</td>\n",
       "      <td>A complaint filed on behalf of a woman against...</td>\n",
       "      <td>2) One of the two defendants probably caused t...</td>\n",
       "      <td>[{'id': '9875000', 'llm_score': 0.976631289535...</td>\n",
       "      <td>cais/mmlu</td>\n",
       "      <td>4046ac8b8013af4810e57c2100024ec3</td>\n",
       "      <td>mc</td>\n",
       "      <td>trivia</td>\n",
       "      <td>A complaint filed on behalf of a woman against...</td>\n",
       "      <td>A complaint filed on behalf of a woman against...</td>\n",
       "      <td>There are grounds for the fact-finder to infer...</td>\n",
       "      <td>[2) One of the two defendants probably caused ...</td>\n",
       "      <td>[Though Purches suffered two unique types of i...</td>\n",
       "    </tr>\n",
       "    <tr>\n",
       "      <th>3</th>\n",
       "      <td>validation</td>\n",
       "      <td>For which of these two scenarios does the main...</td>\n",
       "      <td>1) Wrong, Wrong</td>\n",
       "      <td>[{'id': '3820166', 'llm_score': 0.973908787801...</td>\n",
       "      <td>cais/mmlu</td>\n",
       "      <td>cbec365641199984a2ebb122d5f33d0f</td>\n",
       "      <td>mc</td>\n",
       "      <td>trivia</td>\n",
       "      <td>For which of these two scenarios does the main...</td>\n",
       "      <td>For which of these two scenarios does the main...</td>\n",
       "      <td>Scenario 1.</td>\n",
       "      <td>[1) Wrong, Wrong]</td>\n",
       "      <td>[I took out of the song that it’s being sung f...</td>\n",
       "    </tr>\n",
       "    <tr>\n",
       "      <th>4</th>\n",
       "      <td>validation</td>\n",
       "      <td>What is believed to be the reason for the deve...</td>\n",
       "      <td>2) the construction of canals for irrigation</td>\n",
       "      <td>[{'id': 'Las Haldas', 'llm_score': 0.948151379...</td>\n",
       "      <td>cais/mmlu</td>\n",
       "      <td>346032614a029da52cb8c34dd1a4765d</td>\n",
       "      <td>mc</td>\n",
       "      <td>trivia</td>\n",
       "      <td>What is believed to be the reason for the deve...</td>\n",
       "      <td>What is believed to be the reason for the deve...</td>\n",
       "      <td>The construction of canals for irrigation.</td>\n",
       "      <td>[2) the construction of canals for irrigation]</td>\n",
       "      <td>[With respect to architecture, this civilizati...</td>\n",
       "    </tr>\n",
       "    <tr>\n",
       "      <th>...</th>\n",
       "      <td>...</td>\n",
       "      <td>...</td>\n",
       "      <td>...</td>\n",
       "      <td>...</td>\n",
       "      <td>...</td>\n",
       "      <td>...</td>\n",
       "      <td>...</td>\n",
       "      <td>...</td>\n",
       "      <td>...</td>\n",
       "      <td>...</td>\n",
       "      <td>...</td>\n",
       "      <td>...</td>\n",
       "      <td>...</td>\n",
       "    </tr>\n",
       "    <tr>\n",
       "      <th>1595</th>\n",
       "      <td>validation</td>\n",
       "      <td>Who won more academy awards,  Joseph L. Mankie...</td>\n",
       "      <td>Joseph Leo Mankiewicz</td>\n",
       "      <td>[{'id': '13564022', 'llm_score': 0.96435913413...</td>\n",
       "      <td>hotpot_qa</td>\n",
       "      <td>219269a844cc7a4cf12badc42ab6c1a0</td>\n",
       "      <td>mc</td>\n",
       "      <td>trivia</td>\n",
       "      <td>Who won more academy awards,  Joseph L. Mankie...</td>\n",
       "      <td>Who won more academy awards,  Joseph L. Mankie...</td>\n",
       "      <td>Joseph L. Mankiewicz.</td>\n",
       "      <td>[Joseph Leo Mankiewicz]</td>\n",
       "      <td>[Mankiewicz is best known for his collaboratio...</td>\n",
       "    </tr>\n",
       "    <tr>\n",
       "      <th>1596</th>\n",
       "      <td>validation</td>\n",
       "      <td>Legends of the Fall was based on a novella by...</td>\n",
       "      <td>James Harrison</td>\n",
       "      <td>[{'id': '11701774', 'llm_score': 0.91306868172...</td>\n",
       "      <td>hotpot_qa</td>\n",
       "      <td>e5d2c96ecf21345ee12e38ad6eb29b52</td>\n",
       "      <td>mc</td>\n",
       "      <td>trivia</td>\n",
       "      <td>Legends of the Fall was based on a novella by...</td>\n",
       "      <td>Legends of the Fall was based on a novella by...</td>\n",
       "      <td>Edgar Allan Poe</td>\n",
       "      <td>[James Harrison]</td>\n",
       "      <td>[death already so here the demon could perhaps...</td>\n",
       "    </tr>\n",
       "    <tr>\n",
       "      <th>1597</th>\n",
       "      <td>validation</td>\n",
       "      <td>Which group of people in West Africa with sign...</td>\n",
       "      <td>The Yoruba</td>\n",
       "      <td>[{'id': 'Women in Africa', 'llm_score': 0.9494...</td>\n",
       "      <td>hotpot_qa</td>\n",
       "      <td>38fe3455e675cdb77a4c14c6151e03d1</td>\n",
       "      <td>mc</td>\n",
       "      <td>trivia</td>\n",
       "      <td>Which group of people in West Africa with sign...</td>\n",
       "      <td>Which group of people in West Africa with sign...</td>\n",
       "      <td>Sierra Leoneans</td>\n",
       "      <td>[The Yoruba]</td>\n",
       "      <td>[Working with journalists, film crews, humanit...</td>\n",
       "    </tr>\n",
       "    <tr>\n",
       "      <th>1598</th>\n",
       "      <td>validation</td>\n",
       "      <td>What team did Kenny Brown manage following the...</td>\n",
       "      <td>Chelmsford</td>\n",
       "      <td>[{'id': '12431963', 'llm_score': 0.87640653970...</td>\n",
       "      <td>hotpot_qa</td>\n",
       "      <td>8c2cafecca8a96923046fad4ccf50695</td>\n",
       "      <td>mc</td>\n",
       "      <td>trivia</td>\n",
       "      <td>What team did Kenny Brown manage following the...</td>\n",
       "      <td>What team did Kenny Brown manage following the...</td>\n",
       "      <td>Not Found.</td>\n",
       "      <td>[Chelmsford]</td>\n",
       "      <td>[No doubt to head off simmering fan discontent...</td>\n",
       "    </tr>\n",
       "    <tr>\n",
       "      <th>1599</th>\n",
       "      <td>validation</td>\n",
       "      <td>Are Chlidanthus and Maianthemum both flowering...</td>\n",
       "      <td>yes</td>\n",
       "      <td>[{'id': 'Maianthemum', 'llm_score': 0.93245778...</td>\n",
       "      <td>hotpot_qa</td>\n",
       "      <td>6b7d38f7a73a73582e572c2b3da9829d</td>\n",
       "      <td>mc</td>\n",
       "      <td>trivia</td>\n",
       "      <td>Are Chlidanthus and Maianthemum both flowering...</td>\n",
       "      <td>Are Chlidanthus and Maianthemum both flowering...</td>\n",
       "      <td>No.</td>\n",
       "      <td>[yes]</td>\n",
       "      <td>[For Peltanthera Roth, the flowering vines of ...</td>\n",
       "    </tr>\n",
       "  </tbody>\n",
       "</table>\n",
       "<p>1600 rows × 13 columns</p>\n",
       "</div>"
      ],
      "text/plain": [
       "           split                                              query  \\\n",
       "0     validation  In the discharge checklist recommended by the ...   \n",
       "1     validation  What is the 'security dilemma' that faces weak...   \n",
       "2     validation  A complaint filed on behalf of a woman against...   \n",
       "3     validation  For which of these two scenarios does the main...   \n",
       "4     validation  What is believed to be the reason for the deve...   \n",
       "...          ...                                                ...   \n",
       "1595  validation  Who won more academy awards,  Joseph L. Mankie...   \n",
       "1596  validation   Legends of the Fall was based on a novella by...   \n",
       "1597  validation  Which group of people in West Africa with sign...   \n",
       "1598  validation  What team did Kenny Brown manage following the...   \n",
       "1599  validation  Are Chlidanthus and Maianthemum both flowering...   \n",
       "\n",
       "                                           ground_truth  \\\n",
       "0                2) The nurse, patient, and ward clerk.   \n",
       "1     1) The inability of the state to provide stabi...   \n",
       "2     2) One of the two defendants probably caused t...   \n",
       "3                                       1) Wrong, Wrong   \n",
       "4          2) the construction of canals for irrigation   \n",
       "...                                                 ...   \n",
       "1595                              Joseph Leo Mankiewicz   \n",
       "1596                                     James Harrison   \n",
       "1597                                         The Yoruba   \n",
       "1598                                         Chelmsford   \n",
       "1599                                                yes   \n",
       "\n",
       "                                           all_contexts        src  \\\n",
       "0     [{'id': '3759086', 'llm_score': 0.990682598318...  cais/mmlu   \n",
       "1     [{'id': 'Balancing (international relations)',...  cais/mmlu   \n",
       "2     [{'id': '9875000', 'llm_score': 0.976631289535...  cais/mmlu   \n",
       "3     [{'id': '3820166', 'llm_score': 0.973908787801...  cais/mmlu   \n",
       "4     [{'id': 'Las Haldas', 'llm_score': 0.948151379...  cais/mmlu   \n",
       "...                                                 ...        ...   \n",
       "1595  [{'id': '13564022', 'llm_score': 0.96435913413...  hotpot_qa   \n",
       "1596  [{'id': '11701774', 'llm_score': 0.91306868172...  hotpot_qa   \n",
       "1597  [{'id': 'Women in Africa', 'llm_score': 0.9494...  hotpot_qa   \n",
       "1598  [{'id': '12431963', 'llm_score': 0.87640653970...  hotpot_qa   \n",
       "1599  [{'id': 'Maianthemum', 'llm_score': 0.93245778...  hotpot_qa   \n",
       "\n",
       "                                    id task  domain  \\\n",
       "0     f5dab0cd07f621d72dca70cfe10b4284   mc  trivia   \n",
       "1     1f037ba8922e166ccc495fabd299947a   mc  trivia   \n",
       "2     4046ac8b8013af4810e57c2100024ec3   mc  trivia   \n",
       "3     cbec365641199984a2ebb122d5f33d0f   mc  trivia   \n",
       "4     346032614a029da52cb8c34dd1a4765d   mc  trivia   \n",
       "...                                ...  ...     ...   \n",
       "1595  219269a844cc7a4cf12badc42ab6c1a0   mc  trivia   \n",
       "1596  e5d2c96ecf21345ee12e38ad6eb29b52   mc  trivia   \n",
       "1597  38fe3455e675cdb77a4c14c6151e03d1   mc  trivia   \n",
       "1598  8c2cafecca8a96923046fad4ccf50695   mc  trivia   \n",
       "1599  6b7d38f7a73a73582e572c2b3da9829d   mc  trivia   \n",
       "\n",
       "                                            query_plain  \\\n",
       "0     In the discharge checklist recommended by the ...   \n",
       "1     What is the 'security dilemma' that faces weak...   \n",
       "2     A complaint filed on behalf of a woman against...   \n",
       "3     For which of these two scenarios does the main...   \n",
       "4     What is believed to be the reason for the deve...   \n",
       "...                                                 ...   \n",
       "1595  Who won more academy awards,  Joseph L. Mankie...   \n",
       "1596   Legends of the Fall was based on a novella by...   \n",
       "1597  Which group of people in West Africa with sign...   \n",
       "1598  What team did Kenny Brown manage following the...   \n",
       "1599  Are Chlidanthus and Maianthemum both flowering...   \n",
       "\n",
       "                                               question  \\\n",
       "0     In the discharge checklist recommended by the ...   \n",
       "1     What is the 'security dilemma' that faces weak...   \n",
       "2     A complaint filed on behalf of a woman against...   \n",
       "3     For which of these two scenarios does the main...   \n",
       "4     What is believed to be the reason for the deve...   \n",
       "...                                                 ...   \n",
       "1595  Who won more academy awards,  Joseph L. Mankie...   \n",
       "1596   Legends of the Fall was based on a novella by...   \n",
       "1597  Which group of people in West Africa with sign...   \n",
       "1598  What team did Kenny Brown manage following the...   \n",
       "1599  Are Chlidanthus and Maianthemum both flowering...   \n",
       "\n",
       "                                                 answer  \\\n",
       "0                   The nurse, patient, and ward clerk.   \n",
       "1     1) The inability of the state to provide stabi...   \n",
       "2     There are grounds for the fact-finder to infer...   \n",
       "3                                           Scenario 1.   \n",
       "4            The construction of canals for irrigation.   \n",
       "...                                                 ...   \n",
       "1595                              Joseph L. Mankiewicz.   \n",
       "1596                                    Edgar Allan Poe   \n",
       "1597                                    Sierra Leoneans   \n",
       "1598                                         Not Found.   \n",
       "1599                                                No.   \n",
       "\n",
       "                                          ground_truths  \\\n",
       "0              [2) The nurse, patient, and ward clerk.]   \n",
       "1     [1) The inability of the state to provide stab...   \n",
       "2     [2) One of the two defendants probably caused ...   \n",
       "3                                     [1) Wrong, Wrong]   \n",
       "4        [2) the construction of canals for irrigation]   \n",
       "...                                                 ...   \n",
       "1595                            [Joseph Leo Mankiewicz]   \n",
       "1596                                   [James Harrison]   \n",
       "1597                                       [The Yoruba]   \n",
       "1598                                       [Chelmsford]   \n",
       "1599                                              [yes]   \n",
       "\n",
       "                                               contexts  \n",
       "0     [completing this document: You must complete t...  \n",
       "1     [Conceptualizing and understanding the Nationa...  \n",
       "2     [Though Purches suffered two unique types of i...  \n",
       "3     [I took out of the song that it’s being sung f...  \n",
       "4     [With respect to architecture, this civilizati...  \n",
       "...                                                 ...  \n",
       "1595  [Mankiewicz is best known for his collaboratio...  \n",
       "1596  [death already so here the demon could perhaps...  \n",
       "1597  [Working with journalists, film crews, humanit...  \n",
       "1598  [No doubt to head off simmering fan discontent...  \n",
       "1599  [For Peltanthera Roth, the flowering vines of ...  \n",
       "\n",
       "[1600 rows x 13 columns]"
      ]
     },
     "execution_count": 3,
     "metadata": {},
     "output_type": "execute_result"
    }
   ],
   "source": [
    "datasets = itrf[\"src\"].unique()\n",
    "\n",
    "def rank_context(sample, get_answer=False):\n",
    "    # Select answer by reranker times llm score\n",
    "    # Get context with the highest score = llm_softmax * reranker_softmax\n",
    "    contexts = sample[\"all_contexts\"]\n",
    "    highest_score_context = max(contexts, key=lambda x: x['reranker_softmax'] * x['llm_softmax'])\n",
    "\n",
    "    if get_answer:\n",
    "        return highest_score_context[\"predicted\"].strip()\n",
    "    else:\n",
    "        return [highest_score_context[\"text\"]]\n",
    "\n",
    "# Prepare data\n",
    "itrf[\"question\"] = itrf[\"query\"]\n",
    "itrf.rename(columns={\"contexts\": \"all_contexts\",}, inplace=True)\n",
    "itrf[\"answer\"] = itrf.apply(rank_context, axis=1, get_answer=True)\n",
    "itrf[\"ground_truths\"] = itrf[\"ground_truth\"].apply(lambda x: [x])  # \"ground_truth\": \"ground_truths\"\n",
    "itrf[\"contexts\"] = itrf.apply(rank_context, axis=1)\n",
    "\n",
    "itrf"
   ]
  },
  {
   "cell_type": "code",
   "execution_count": 94,
   "metadata": {},
   "outputs": [
    {
     "name": "stdout",
     "output_type": "stream",
     "text": [
      "evaluating with [faithfulness]\n"
     ]
    },
    {
     "name": "stderr",
     "output_type": "stream",
     "text": [
      "  0%|          | 0/1 [00:00<?, ?it/s]"
     ]
    },
    {
     "name": "stderr",
     "output_type": "stream",
     "text": [
      "100%|██████████| 1/1 [00:03<00:00,  3.12s/it]\n"
     ]
    },
    {
     "name": "stdout",
     "output_type": "stream",
     "text": [
      "evaluating with [answer_relevancy]\n"
     ]
    },
    {
     "name": "stderr",
     "output_type": "stream",
     "text": [
      "100%|██████████| 1/1 [00:01<00:00,  1.46s/it]\n"
     ]
    },
    {
     "name": "stdout",
     "output_type": "stream",
     "text": [
      "evaluating with [answer_similarity]\n"
     ]
    },
    {
     "name": "stderr",
     "output_type": "stream",
     "text": [
      "100%|██████████| 1/1 [00:00<00:00,  2.02it/s]\n"
     ]
    },
    {
     "name": "stdout",
     "output_type": "stream",
     "text": [
      "evaluating with [context_recall]\n"
     ]
    },
    {
     "name": "stderr",
     "output_type": "stream",
     "text": [
      "100%|██████████| 1/1 [00:01<00:00,  1.26s/it]\n"
     ]
    },
    {
     "name": "stdout",
     "output_type": "stream",
     "text": [
      "evaluating with [context_precision]\n"
     ]
    },
    {
     "name": "stderr",
     "output_type": "stream",
     "text": [
      "100%|██████████| 1/1 [00:01<00:00,  1.29s/it]\n"
     ]
    },
    {
     "name": "stdout",
     "output_type": "stream",
     "text": [
      "evaluating with [faithfulness]\n"
     ]
    },
    {
     "name": "stderr",
     "output_type": "stream",
     "text": [
      "100%|██████████| 1/1 [00:02<00:00,  2.72s/it]\n"
     ]
    },
    {
     "name": "stdout",
     "output_type": "stream",
     "text": [
      "evaluating with [answer_relevancy]\n"
     ]
    },
    {
     "name": "stderr",
     "output_type": "stream",
     "text": [
      "100%|██████████| 1/1 [00:01<00:00,  1.43s/it]\n"
     ]
    },
    {
     "name": "stdout",
     "output_type": "stream",
     "text": [
      "evaluating with [answer_similarity]\n"
     ]
    },
    {
     "name": "stderr",
     "output_type": "stream",
     "text": [
      "100%|██████████| 1/1 [00:00<00:00,  1.94it/s]\n"
     ]
    },
    {
     "name": "stdout",
     "output_type": "stream",
     "text": [
      "evaluating with [context_recall]\n"
     ]
    },
    {
     "name": "stderr",
     "output_type": "stream",
     "text": [
      "100%|██████████| 1/1 [00:02<00:00,  2.04s/it]\n"
     ]
    },
    {
     "name": "stdout",
     "output_type": "stream",
     "text": [
      "evaluating with [context_precision]\n"
     ]
    },
    {
     "name": "stderr",
     "output_type": "stream",
     "text": [
      "100%|██████████| 1/1 [00:01<00:00,  1.58s/it]\n"
     ]
    },
    {
     "ename": "ValueError",
     "evalue": "Unknown format code 'f' for object of type 'str'",
     "output_type": "error",
     "traceback": [
      "\u001b[0;31m---------------------------------------------------------------------------\u001b[0m",
      "\u001b[0;31mValueError\u001b[0m                                Traceback (most recent call last)",
      "File \u001b[0;32m/opt/conda/lib/python3.10/site-packages/IPython/core/formatters.py:708\u001b[0m, in \u001b[0;36mPlainTextFormatter.__call__\u001b[0;34m(self, obj)\u001b[0m\n\u001b[1;32m    701\u001b[0m stream \u001b[38;5;241m=\u001b[39m StringIO()\n\u001b[1;32m    702\u001b[0m printer \u001b[38;5;241m=\u001b[39m pretty\u001b[38;5;241m.\u001b[39mRepresentationPrinter(stream, \u001b[38;5;28mself\u001b[39m\u001b[38;5;241m.\u001b[39mverbose,\n\u001b[1;32m    703\u001b[0m     \u001b[38;5;28mself\u001b[39m\u001b[38;5;241m.\u001b[39mmax_width, \u001b[38;5;28mself\u001b[39m\u001b[38;5;241m.\u001b[39mnewline,\n\u001b[1;32m    704\u001b[0m     max_seq_length\u001b[38;5;241m=\u001b[39m\u001b[38;5;28mself\u001b[39m\u001b[38;5;241m.\u001b[39mmax_seq_length,\n\u001b[1;32m    705\u001b[0m     singleton_pprinters\u001b[38;5;241m=\u001b[39m\u001b[38;5;28mself\u001b[39m\u001b[38;5;241m.\u001b[39msingleton_printers,\n\u001b[1;32m    706\u001b[0m     type_pprinters\u001b[38;5;241m=\u001b[39m\u001b[38;5;28mself\u001b[39m\u001b[38;5;241m.\u001b[39mtype_printers,\n\u001b[1;32m    707\u001b[0m     deferred_pprinters\u001b[38;5;241m=\u001b[39m\u001b[38;5;28mself\u001b[39m\u001b[38;5;241m.\u001b[39mdeferred_printers)\n\u001b[0;32m--> 708\u001b[0m \u001b[43mprinter\u001b[49m\u001b[38;5;241;43m.\u001b[39;49m\u001b[43mpretty\u001b[49m\u001b[43m(\u001b[49m\u001b[43mobj\u001b[49m\u001b[43m)\u001b[49m\n\u001b[1;32m    709\u001b[0m printer\u001b[38;5;241m.\u001b[39mflush()\n\u001b[1;32m    710\u001b[0m \u001b[38;5;28;01mreturn\u001b[39;00m stream\u001b[38;5;241m.\u001b[39mgetvalue()\n",
      "File \u001b[0;32m/opt/conda/lib/python3.10/site-packages/IPython/lib/pretty.py:393\u001b[0m, in \u001b[0;36mRepresentationPrinter.pretty\u001b[0;34m(self, obj)\u001b[0m\n\u001b[1;32m    390\u001b[0m \u001b[38;5;28;01mfor\u001b[39;00m \u001b[38;5;28mcls\u001b[39m \u001b[38;5;129;01min\u001b[39;00m _get_mro(obj_class):\n\u001b[1;32m    391\u001b[0m     \u001b[38;5;28;01mif\u001b[39;00m \u001b[38;5;28mcls\u001b[39m \u001b[38;5;129;01min\u001b[39;00m \u001b[38;5;28mself\u001b[39m\u001b[38;5;241m.\u001b[39mtype_pprinters:\n\u001b[1;32m    392\u001b[0m         \u001b[38;5;66;03m# printer registered in self.type_pprinters\u001b[39;00m\n\u001b[0;32m--> 393\u001b[0m         \u001b[38;5;28;01mreturn\u001b[39;00m \u001b[38;5;28;43mself\u001b[39;49m\u001b[38;5;241;43m.\u001b[39;49m\u001b[43mtype_pprinters\u001b[49m\u001b[43m[\u001b[49m\u001b[38;5;28;43mcls\u001b[39;49m\u001b[43m]\u001b[49m\u001b[43m(\u001b[49m\u001b[43mobj\u001b[49m\u001b[43m,\u001b[49m\u001b[43m \u001b[49m\u001b[38;5;28;43mself\u001b[39;49m\u001b[43m,\u001b[49m\u001b[43m \u001b[49m\u001b[43mcycle\u001b[49m\u001b[43m)\u001b[49m\n\u001b[1;32m    394\u001b[0m     \u001b[38;5;28;01melse\u001b[39;00m:\n\u001b[1;32m    395\u001b[0m         \u001b[38;5;66;03m# deferred printer\u001b[39;00m\n\u001b[1;32m    396\u001b[0m         printer \u001b[38;5;241m=\u001b[39m \u001b[38;5;28mself\u001b[39m\u001b[38;5;241m.\u001b[39m_in_deferred_types(\u001b[38;5;28mcls\u001b[39m)\n",
      "File \u001b[0;32m/opt/conda/lib/python3.10/site-packages/IPython/lib/pretty.py:640\u001b[0m, in \u001b[0;36m_seq_pprinter_factory.<locals>.inner\u001b[0;34m(obj, p, cycle)\u001b[0m\n\u001b[1;32m    638\u001b[0m         p\u001b[38;5;241m.\u001b[39mtext(\u001b[38;5;124m'\u001b[39m\u001b[38;5;124m,\u001b[39m\u001b[38;5;124m'\u001b[39m)\n\u001b[1;32m    639\u001b[0m         p\u001b[38;5;241m.\u001b[39mbreakable()\n\u001b[0;32m--> 640\u001b[0m     \u001b[43mp\u001b[49m\u001b[38;5;241;43m.\u001b[39;49m\u001b[43mpretty\u001b[49m\u001b[43m(\u001b[49m\u001b[43mx\u001b[49m\u001b[43m)\u001b[49m\n\u001b[1;32m    641\u001b[0m \u001b[38;5;28;01mif\u001b[39;00m \u001b[38;5;28mlen\u001b[39m(obj) \u001b[38;5;241m==\u001b[39m \u001b[38;5;241m1\u001b[39m \u001b[38;5;129;01mand\u001b[39;00m \u001b[38;5;28misinstance\u001b[39m(obj, \u001b[38;5;28mtuple\u001b[39m):\n\u001b[1;32m    642\u001b[0m     \u001b[38;5;66;03m# Special case for 1-item tuples.\u001b[39;00m\n\u001b[1;32m    643\u001b[0m     p\u001b[38;5;241m.\u001b[39mtext(\u001b[38;5;124m'\u001b[39m\u001b[38;5;124m,\u001b[39m\u001b[38;5;124m'\u001b[39m)\n",
      "File \u001b[0;32m/opt/conda/lib/python3.10/site-packages/IPython/lib/pretty.py:410\u001b[0m, in \u001b[0;36mRepresentationPrinter.pretty\u001b[0;34m(self, obj)\u001b[0m\n\u001b[1;32m    407\u001b[0m                         \u001b[38;5;28;01mreturn\u001b[39;00m meth(obj, \u001b[38;5;28mself\u001b[39m, cycle)\n\u001b[1;32m    408\u001b[0m                 \u001b[38;5;28;01mif\u001b[39;00m \u001b[38;5;28mcls\u001b[39m \u001b[38;5;129;01mis\u001b[39;00m \u001b[38;5;129;01mnot\u001b[39;00m \u001b[38;5;28mobject\u001b[39m \\\n\u001b[1;32m    409\u001b[0m                         \u001b[38;5;129;01mand\u001b[39;00m \u001b[38;5;28mcallable\u001b[39m(\u001b[38;5;28mcls\u001b[39m\u001b[38;5;241m.\u001b[39m\u001b[38;5;18m__dict__\u001b[39m\u001b[38;5;241m.\u001b[39mget(\u001b[38;5;124m'\u001b[39m\u001b[38;5;124m__repr__\u001b[39m\u001b[38;5;124m'\u001b[39m)):\n\u001b[0;32m--> 410\u001b[0m                     \u001b[38;5;28;01mreturn\u001b[39;00m \u001b[43m_repr_pprint\u001b[49m\u001b[43m(\u001b[49m\u001b[43mobj\u001b[49m\u001b[43m,\u001b[49m\u001b[43m \u001b[49m\u001b[38;5;28;43mself\u001b[39;49m\u001b[43m,\u001b[49m\u001b[43m \u001b[49m\u001b[43mcycle\u001b[49m\u001b[43m)\u001b[49m\n\u001b[1;32m    412\u001b[0m     \u001b[38;5;28;01mreturn\u001b[39;00m _default_pprint(obj, \u001b[38;5;28mself\u001b[39m, cycle)\n\u001b[1;32m    413\u001b[0m \u001b[38;5;28;01mfinally\u001b[39;00m:\n",
      "File \u001b[0;32m/opt/conda/lib/python3.10/site-packages/IPython/lib/pretty.py:778\u001b[0m, in \u001b[0;36m_repr_pprint\u001b[0;34m(obj, p, cycle)\u001b[0m\n\u001b[1;32m    776\u001b[0m \u001b[38;5;250m\u001b[39m\u001b[38;5;124;03m\"\"\"A pprint that just redirects to the normal repr function.\"\"\"\u001b[39;00m\n\u001b[1;32m    777\u001b[0m \u001b[38;5;66;03m# Find newlines and replace them with p.break_()\u001b[39;00m\n\u001b[0;32m--> 778\u001b[0m output \u001b[38;5;241m=\u001b[39m \u001b[38;5;28;43mrepr\u001b[39;49m\u001b[43m(\u001b[49m\u001b[43mobj\u001b[49m\u001b[43m)\u001b[49m\n\u001b[1;32m    779\u001b[0m lines \u001b[38;5;241m=\u001b[39m output\u001b[38;5;241m.\u001b[39msplitlines()\n\u001b[1;32m    780\u001b[0m \u001b[38;5;28;01mwith\u001b[39;00m p\u001b[38;5;241m.\u001b[39mgroup():\n",
      "File \u001b[0;32m~/.local/lib/python3.10/site-packages/ragas/evaluation.py:146\u001b[0m, in \u001b[0;36mResult.__repr__\u001b[0;34m(self)\u001b[0m\n\u001b[1;32m    144\u001b[0m \u001b[38;5;28;01mdef\u001b[39;00m \u001b[38;5;21m__repr__\u001b[39m(\u001b[38;5;28mself\u001b[39m) \u001b[38;5;241m-\u001b[39m\u001b[38;5;241m>\u001b[39m \u001b[38;5;28mstr\u001b[39m:\n\u001b[1;32m    145\u001b[0m     scores \u001b[38;5;241m=\u001b[39m \u001b[38;5;28mself\u001b[39m\u001b[38;5;241m.\u001b[39mcopy()\n\u001b[0;32m--> 146\u001b[0m     score_strs \u001b[38;5;241m=\u001b[39m [\u001b[38;5;124mf\u001b[39m\u001b[38;5;124m\"\u001b[39m\u001b[38;5;124m'\u001b[39m\u001b[38;5;132;01m{\u001b[39;00mk\u001b[38;5;132;01m}\u001b[39;00m\u001b[38;5;124m'\u001b[39m\u001b[38;5;124m: \u001b[39m\u001b[38;5;132;01m{\u001b[39;00mv\u001b[38;5;132;01m:\u001b[39;00m\u001b[38;5;124m0.4f\u001b[39m\u001b[38;5;132;01m}\u001b[39;00m\u001b[38;5;124m\"\u001b[39m \u001b[38;5;28;01mfor\u001b[39;00m k, v \u001b[38;5;129;01min\u001b[39;00m scores\u001b[38;5;241m.\u001b[39mitems()]\n\u001b[1;32m    147\u001b[0m     \u001b[38;5;28;01mreturn\u001b[39;00m \u001b[38;5;124m\"\u001b[39m\u001b[38;5;124m{\u001b[39m\u001b[38;5;124m\"\u001b[39m \u001b[38;5;241m+\u001b[39m \u001b[38;5;124m\"\u001b[39m\u001b[38;5;124m, \u001b[39m\u001b[38;5;124m\"\u001b[39m\u001b[38;5;241m.\u001b[39mjoin(score_strs) \u001b[38;5;241m+\u001b[39m \u001b[38;5;124m\"\u001b[39m\u001b[38;5;124m}\u001b[39m\u001b[38;5;124m\"\u001b[39m\n",
      "File \u001b[0;32m~/.local/lib/python3.10/site-packages/ragas/evaluation.py:146\u001b[0m, in \u001b[0;36m<listcomp>\u001b[0;34m(.0)\u001b[0m\n\u001b[1;32m    144\u001b[0m \u001b[38;5;28;01mdef\u001b[39;00m \u001b[38;5;21m__repr__\u001b[39m(\u001b[38;5;28mself\u001b[39m) \u001b[38;5;241m-\u001b[39m\u001b[38;5;241m>\u001b[39m \u001b[38;5;28mstr\u001b[39m:\n\u001b[1;32m    145\u001b[0m     scores \u001b[38;5;241m=\u001b[39m \u001b[38;5;28mself\u001b[39m\u001b[38;5;241m.\u001b[39mcopy()\n\u001b[0;32m--> 146\u001b[0m     score_strs \u001b[38;5;241m=\u001b[39m [\u001b[38;5;124mf\u001b[39m\u001b[38;5;124m\"\u001b[39m\u001b[38;5;124m'\u001b[39m\u001b[38;5;132;01m{\u001b[39;00mk\u001b[38;5;132;01m}\u001b[39;00m\u001b[38;5;124m'\u001b[39m\u001b[38;5;124m: \u001b[39m\u001b[38;5;132;01m{\u001b[39;00mv\u001b[38;5;132;01m:\u001b[39;00m\u001b[38;5;124m0.4f\u001b[39m\u001b[38;5;132;01m}\u001b[39;00m\u001b[38;5;124m\"\u001b[39m \u001b[38;5;28;01mfor\u001b[39;00m k, v \u001b[38;5;129;01min\u001b[39;00m scores\u001b[38;5;241m.\u001b[39mitems()]\n\u001b[1;32m    147\u001b[0m     \u001b[38;5;28;01mreturn\u001b[39;00m \u001b[38;5;124m\"\u001b[39m\u001b[38;5;124m{\u001b[39m\u001b[38;5;124m\"\u001b[39m \u001b[38;5;241m+\u001b[39m \u001b[38;5;124m\"\u001b[39m\u001b[38;5;124m, \u001b[39m\u001b[38;5;124m\"\u001b[39m\u001b[38;5;241m.\u001b[39mjoin(score_strs) \u001b[38;5;241m+\u001b[39m \u001b[38;5;124m\"\u001b[39m\u001b[38;5;124m}\u001b[39m\u001b[38;5;124m\"\u001b[39m\n",
      "\u001b[0;31mValueError\u001b[0m: Unknown format code 'f' for object of type 'str'"
     ]
    }
   ],
   "source": [
    "from dotenv import load_dotenv\n",
    "from datasets import Dataset\n",
    "load_dotenv(\"../.env\")\n",
    "\n",
    "from ragas.metrics import (\n",
    "    answer_relevancy,\n",
    "    faithfulness,\n",
    "    context_recall,\n",
    "    context_precision,\n",
    "    answer_similarity,\n",
    ")\n",
    "from ragas import evaluate\n",
    "\n",
    "resultss = []\n",
    "\n",
    "for d in datasets[:2]:\n",
    "    df = itrf[itrf[\"src\"] == d].sample(1, random_state=4048)\n",
    "    ds = Dataset.from_pandas(df)\n",
    "    results = evaluate(ds, metrics=[\n",
    "        faithfulness, \n",
    "        answer_relevancy, \n",
    "        answer_similarity, \n",
    "        context_recall, \n",
    "        context_precision\n",
    "    ])\n",
    "    results[\"dataset\"] = d\n",
    "    resultss.append(results)\n",
    "\n",
    "resultss"
   ]
  },
  {
   "cell_type": "code",
   "execution_count": 96,
   "metadata": {},
   "outputs": [
    {
     "data": {
      "text/html": [
       "<div>\n",
       "<style scoped>\n",
       "    .dataframe tbody tr th:only-of-type {\n",
       "        vertical-align: middle;\n",
       "    }\n",
       "\n",
       "    .dataframe tbody tr th {\n",
       "        vertical-align: top;\n",
       "    }\n",
       "\n",
       "    .dataframe thead th {\n",
       "        text-align: right;\n",
       "    }\n",
       "</style>\n",
       "<table border=\"1\" class=\"dataframe\">\n",
       "  <thead>\n",
       "    <tr style=\"text-align: right;\">\n",
       "      <th></th>\n",
       "      <th>split</th>\n",
       "      <th>query</th>\n",
       "      <th>ground_truth</th>\n",
       "      <th>all_contexts</th>\n",
       "      <th>src</th>\n",
       "      <th>id</th>\n",
       "      <th>task</th>\n",
       "      <th>domain</th>\n",
       "      <th>query_plain</th>\n",
       "      <th>question</th>\n",
       "      <th>answer</th>\n",
       "      <th>ground_truths</th>\n",
       "      <th>contexts</th>\n",
       "      <th>__index_level_0__</th>\n",
       "      <th>faithfulness</th>\n",
       "      <th>answer_relevancy</th>\n",
       "      <th>answer_similarity</th>\n",
       "      <th>context_recall</th>\n",
       "      <th>context_precision</th>\n",
       "    </tr>\n",
       "  </thead>\n",
       "  <tbody>\n",
       "    <tr>\n",
       "      <th>0</th>\n",
       "      <td>validation</td>\n",
       "      <td>who's playing in the sec championship 2017</td>\n",
       "      <td>Georgia Bulldogs</td>\n",
       "      <td>[{'id': '2018 SEC Championship Game', 'llm_sco...</td>\n",
       "      <td>natural_questions</td>\n",
       "      <td>4fe018121e1c97c7e5463e5027ccb9e4</td>\n",
       "      <td>mc</td>\n",
       "      <td>trivia</td>\n",
       "      <td>who's playing in the sec championship 2017</td>\n",
       "      <td>who's playing in the sec championship 2017</td>\n",
       "      <td>The SEC Championship Game in 201</td>\n",
       "      <td>[Georgia Bulldogs]</td>\n",
       "      <td>[The SEC Championship Game is an annual Americ...</td>\n",
       "      <td>8177</td>\n",
       "      <td>1.0</td>\n",
       "      <td>0.828086</td>\n",
       "      <td>0.805068</td>\n",
       "      <td>1.0</td>\n",
       "      <td>0.0</td>\n",
       "    </tr>\n",
       "  </tbody>\n",
       "</table>\n",
       "</div>"
      ],
      "text/plain": [
       "        split                                       query      ground_truth  \\\n",
       "0  validation  who's playing in the sec championship 2017  Georgia Bulldogs   \n",
       "\n",
       "                                        all_contexts                src  \\\n",
       "0  [{'id': '2018 SEC Championship Game', 'llm_sco...  natural_questions   \n",
       "\n",
       "                                 id task  domain  \\\n",
       "0  4fe018121e1c97c7e5463e5027ccb9e4   mc  trivia   \n",
       "\n",
       "                                  query_plain  \\\n",
       "0  who's playing in the sec championship 2017   \n",
       "\n",
       "                                     question  \\\n",
       "0  who's playing in the sec championship 2017   \n",
       "\n",
       "                             answer       ground_truths  \\\n",
       "0  The SEC Championship Game in 201  [Georgia Bulldogs]   \n",
       "\n",
       "                                            contexts  __index_level_0__  \\\n",
       "0  [The SEC Championship Game is an annual Americ...               8177   \n",
       "\n",
       "   faithfulness  answer_relevancy  answer_similarity  context_recall  \\\n",
       "0           1.0          0.828086           0.805068             1.0   \n",
       "\n",
       "   context_precision  \n",
       "0                0.0  "
      ]
     },
     "execution_count": 96,
     "metadata": {},
     "output_type": "execute_result"
    }
   ],
   "source": [
    "results.to_pandas()"
   ]
  },
  {
   "cell_type": "code",
   "execution_count": 95,
   "metadata": {},
   "outputs": [],
   "source": [
    "import json \n",
    "json.dump(resultss, open(\"results.json\", \"w\"))"
   ]
  },
  {
   "cell_type": "code",
   "execution_count": 45,
   "metadata": {},
   "outputs": [
    {
     "data": {
      "text/html": [
       "<div>\n",
       "<style scoped>\n",
       "    .dataframe tbody tr th:only-of-type {\n",
       "        vertical-align: middle;\n",
       "    }\n",
       "\n",
       "    .dataframe tbody tr th {\n",
       "        vertical-align: top;\n",
       "    }\n",
       "\n",
       "    .dataframe thead th {\n",
       "        text-align: right;\n",
       "    }\n",
       "</style>\n",
       "<table border=\"1\" class=\"dataframe\">\n",
       "  <thead>\n",
       "    <tr style=\"text-align: right;\">\n",
       "      <th></th>\n",
       "      <th>split</th>\n",
       "      <th>query</th>\n",
       "      <th>ground_truth</th>\n",
       "      <th>contexts</th>\n",
       "      <th>src</th>\n",
       "      <th>id</th>\n",
       "      <th>task</th>\n",
       "      <th>domain</th>\n",
       "      <th>query_plain</th>\n",
       "      <th>question</th>\n",
       "    </tr>\n",
       "  </thead>\n",
       "  <tbody>\n",
       "    <tr>\n",
       "      <th>0</th>\n",
       "      <td>validation</td>\n",
       "      <td>For which of these two scenarios does the main...</td>\n",
       "      <td>2) Wrong, Not wrong</td>\n",
       "      <td>[{'id': '14458516', 'llm_score': 0.0, 'llm_sof...</td>\n",
       "      <td>cais/mmlu</td>\n",
       "      <td>f990b1598e17cb38db40b0d1033b4c5a</td>\n",
       "      <td>mc</td>\n",
       "      <td>trivia</td>\n",
       "      <td>For which of these two scenarios does the main...</td>\n",
       "      <td>For which of these two scenarios does the main...</td>\n",
       "    </tr>\n",
       "    <tr>\n",
       "      <th>1</th>\n",
       "      <td>validation</td>\n",
       "      <td>The term “insanity” is a:\\nOptions: 1) legal, ...</td>\n",
       "      <td>1) legal, non-psychiatric term for certain typ...</td>\n",
       "      <td>[{'id': 'Insanity', 'llm_score': 1.0, 'llm_sof...</td>\n",
       "      <td>cais/mmlu</td>\n",
       "      <td>1ae9f5d44c79ff395f8fd1cb90d3de1b</td>\n",
       "      <td>mc</td>\n",
       "      <td>trivia</td>\n",
       "      <td>The term “insanity” is a:</td>\n",
       "      <td>The term “insanity” is a:\\nOptions: 1) legal, ...</td>\n",
       "    </tr>\n",
       "    <tr>\n",
       "      <th>2</th>\n",
       "      <td>validation</td>\n",
       "      <td>What is true for a type-Ia (\"type one-a\") supe...</td>\n",
       "      <td>1) This type occurs in binary systems.</td>\n",
       "      <td>[{'id': '4694198', 'llm_score': 1.0, 'llm_soft...</td>\n",
       "      <td>cais/mmlu</td>\n",
       "      <td>838fb96c08aa2f7d78fe0d2dcc0fcbbf</td>\n",
       "      <td>mc</td>\n",
       "      <td>trivia</td>\n",
       "      <td>What is true for a type-Ia (\"type one-a\") supe...</td>\n",
       "      <td>What is true for a type-Ia (\"type one-a\") supe...</td>\n",
       "    </tr>\n",
       "    <tr>\n",
       "      <th>3</th>\n",
       "      <td>validation</td>\n",
       "      <td>What is the name of the bodhisattva in Japan ...</td>\n",
       "      <td>3) Kannon</td>\n",
       "      <td>[{'id': 'Glossary of Japanese Buddhism', 'llm_...</td>\n",
       "      <td>cais/mmlu</td>\n",
       "      <td>d084eec0de134771158ad0029f3c76e6</td>\n",
       "      <td>mc</td>\n",
       "      <td>trivia</td>\n",
       "      <td>What is the name of the bodhisattva in Japan ...</td>\n",
       "      <td>What is the name of the bodhisattva in Japan ...</td>\n",
       "    </tr>\n",
       "    <tr>\n",
       "      <th>4</th>\n",
       "      <td>validation</td>\n",
       "      <td>Which of the following is a strategy that the ...</td>\n",
       "      <td>4) Creating a school safety and response team</td>\n",
       "      <td>[{'id': '7065282', 'llm_score': 0.999607104940...</td>\n",
       "      <td>cais/mmlu</td>\n",
       "      <td>adc520c8eabb1fffeb7a2bf0ed7f9e19</td>\n",
       "      <td>mc</td>\n",
       "      <td>trivia</td>\n",
       "      <td>Which of the following is a strategy that the ...</td>\n",
       "      <td>Which of the following is a strategy that the ...</td>\n",
       "    </tr>\n",
       "    <tr>\n",
       "      <th>...</th>\n",
       "      <td>...</td>\n",
       "      <td>...</td>\n",
       "      <td>...</td>\n",
       "      <td>...</td>\n",
       "      <td>...</td>\n",
       "      <td>...</td>\n",
       "      <td>...</td>\n",
       "      <td>...</td>\n",
       "      <td>...</td>\n",
       "      <td>...</td>\n",
       "    </tr>\n",
       "    <tr>\n",
       "      <th>31737</th>\n",
       "      <td>validation</td>\n",
       "      <td>At what height does State Route 160 start?</td>\n",
       "      <td>4145 ft</td>\n",
       "      <td>[{'id': 'Virginia State Route 160', 'llm_score...</td>\n",
       "      <td>hotpot_qa</td>\n",
       "      <td>e4bdb4d584b5bc74373a423b13775aa3</td>\n",
       "      <td>mc</td>\n",
       "      <td>trivia</td>\n",
       "      <td>At what height does State Route 160 start?</td>\n",
       "      <td>At what height does State Route 160 start?</td>\n",
       "    </tr>\n",
       "    <tr>\n",
       "      <th>31738</th>\n",
       "      <td>validation</td>\n",
       "      <td>What team was Horace Grant's twin brother trad...</td>\n",
       "      <td>Portland Trail Blazers</td>\n",
       "      <td>[{'id': 'Jerai Grant', 'llm_score': 0.0, 'llm_...</td>\n",
       "      <td>hotpot_qa</td>\n",
       "      <td>00a5b537346e5102db6a18ca327128d2</td>\n",
       "      <td>mc</td>\n",
       "      <td>trivia</td>\n",
       "      <td>What team was Horace Grant's twin brother trad...</td>\n",
       "      <td>What team was Horace Grant's twin brother trad...</td>\n",
       "    </tr>\n",
       "    <tr>\n",
       "      <th>31739</th>\n",
       "      <td>validation</td>\n",
       "      <td>What was the position of Jean Baptiste Androue...</td>\n",
       "      <td>supervisor of the royal works</td>\n",
       "      <td>[{'id': 'Le roi malgré lui', 'llm_score': 0.0,...</td>\n",
       "      <td>hotpot_qa</td>\n",
       "      <td>9d3209b2ada754b0578862e54be93ac6</td>\n",
       "      <td>mc</td>\n",
       "      <td>trivia</td>\n",
       "      <td>What was the position of Jean Baptiste Androue...</td>\n",
       "      <td>What was the position of Jean Baptiste Androue...</td>\n",
       "    </tr>\n",
       "    <tr>\n",
       "      <th>31740</th>\n",
       "      <td>validation</td>\n",
       "      <td>Who is the lead vocalist for Maroon 5's sixth ...</td>\n",
       "      <td>Adam Levine</td>\n",
       "      <td>[{'id': 'Overexposed (album)', 'llm_score': 0....</td>\n",
       "      <td>hotpot_qa</td>\n",
       "      <td>ced1dc8407f6d753859c2d70d4a36fe1</td>\n",
       "      <td>mc</td>\n",
       "      <td>trivia</td>\n",
       "      <td>Who is the lead vocalist for Maroon 5's sixth ...</td>\n",
       "      <td>Who is the lead vocalist for Maroon 5's sixth ...</td>\n",
       "    </tr>\n",
       "    <tr>\n",
       "      <th>31741</th>\n",
       "      <td>validation</td>\n",
       "      <td>What type of magazine is Eugene Habecker the c...</td>\n",
       "      <td>evangelical Christian periodical</td>\n",
       "      <td>[{'id': 'Esquire (magazine)', 'llm_score': 0.0...</td>\n",
       "      <td>hotpot_qa</td>\n",
       "      <td>75bf269c5f4f24535d5401c9ca633068</td>\n",
       "      <td>mc</td>\n",
       "      <td>trivia</td>\n",
       "      <td>What type of magazine is Eugene Habecker the c...</td>\n",
       "      <td>What type of magazine is Eugene Habecker the c...</td>\n",
       "    </tr>\n",
       "  </tbody>\n",
       "</table>\n",
       "<p>31742 rows × 10 columns</p>\n",
       "</div>"
      ],
      "text/plain": [
       "            split                                              query  \\\n",
       "0      validation  For which of these two scenarios does the main...   \n",
       "1      validation  The term “insanity” is a:\\nOptions: 1) legal, ...   \n",
       "2      validation  What is true for a type-Ia (\"type one-a\") supe...   \n",
       "3      validation   What is the name of the bodhisattva in Japan ...   \n",
       "4      validation  Which of the following is a strategy that the ...   \n",
       "...           ...                                                ...   \n",
       "31737  validation         At what height does State Route 160 start?   \n",
       "31738  validation  What team was Horace Grant's twin brother trad...   \n",
       "31739  validation  What was the position of Jean Baptiste Androue...   \n",
       "31740  validation  Who is the lead vocalist for Maroon 5's sixth ...   \n",
       "31741  validation  What type of magazine is Eugene Habecker the c...   \n",
       "\n",
       "                                            ground_truth  \\\n",
       "0                                    2) Wrong, Not wrong   \n",
       "1      1) legal, non-psychiatric term for certain typ...   \n",
       "2                 1) This type occurs in binary systems.   \n",
       "3                                              3) Kannon   \n",
       "4          4) Creating a school safety and response team   \n",
       "...                                                  ...   \n",
       "31737                                            4145 ft   \n",
       "31738                             Portland Trail Blazers   \n",
       "31739                      supervisor of the royal works   \n",
       "31740                                        Adam Levine   \n",
       "31741                   evangelical Christian periodical   \n",
       "\n",
       "                                                contexts        src  \\\n",
       "0      [{'id': '14458516', 'llm_score': 0.0, 'llm_sof...  cais/mmlu   \n",
       "1      [{'id': 'Insanity', 'llm_score': 1.0, 'llm_sof...  cais/mmlu   \n",
       "2      [{'id': '4694198', 'llm_score': 1.0, 'llm_soft...  cais/mmlu   \n",
       "3      [{'id': 'Glossary of Japanese Buddhism', 'llm_...  cais/mmlu   \n",
       "4      [{'id': '7065282', 'llm_score': 0.999607104940...  cais/mmlu   \n",
       "...                                                  ...        ...   \n",
       "31737  [{'id': 'Virginia State Route 160', 'llm_score...  hotpot_qa   \n",
       "31738  [{'id': 'Jerai Grant', 'llm_score': 0.0, 'llm_...  hotpot_qa   \n",
       "31739  [{'id': 'Le roi malgré lui', 'llm_score': 0.0,...  hotpot_qa   \n",
       "31740  [{'id': 'Overexposed (album)', 'llm_score': 0....  hotpot_qa   \n",
       "31741  [{'id': 'Esquire (magazine)', 'llm_score': 0.0...  hotpot_qa   \n",
       "\n",
       "                                     id task  domain  \\\n",
       "0      f990b1598e17cb38db40b0d1033b4c5a   mc  trivia   \n",
       "1      1ae9f5d44c79ff395f8fd1cb90d3de1b   mc  trivia   \n",
       "2      838fb96c08aa2f7d78fe0d2dcc0fcbbf   mc  trivia   \n",
       "3      d084eec0de134771158ad0029f3c76e6   mc  trivia   \n",
       "4      adc520c8eabb1fffeb7a2bf0ed7f9e19   mc  trivia   \n",
       "...                                 ...  ...     ...   \n",
       "31737  e4bdb4d584b5bc74373a423b13775aa3   mc  trivia   \n",
       "31738  00a5b537346e5102db6a18ca327128d2   mc  trivia   \n",
       "31739  9d3209b2ada754b0578862e54be93ac6   mc  trivia   \n",
       "31740  ced1dc8407f6d753859c2d70d4a36fe1   mc  trivia   \n",
       "31741  75bf269c5f4f24535d5401c9ca633068   mc  trivia   \n",
       "\n",
       "                                             query_plain  \\\n",
       "0      For which of these two scenarios does the main...   \n",
       "1                              The term “insanity” is a:   \n",
       "2      What is true for a type-Ia (\"type one-a\") supe...   \n",
       "3       What is the name of the bodhisattva in Japan ...   \n",
       "4      Which of the following is a strategy that the ...   \n",
       "...                                                  ...   \n",
       "31737         At what height does State Route 160 start?   \n",
       "31738  What team was Horace Grant's twin brother trad...   \n",
       "31739  What was the position of Jean Baptiste Androue...   \n",
       "31740  Who is the lead vocalist for Maroon 5's sixth ...   \n",
       "31741  What type of magazine is Eugene Habecker the c...   \n",
       "\n",
       "                                                question  \n",
       "0      For which of these two scenarios does the main...  \n",
       "1      The term “insanity” is a:\\nOptions: 1) legal, ...  \n",
       "2      What is true for a type-Ia (\"type one-a\") supe...  \n",
       "3       What is the name of the bodhisattva in Japan ...  \n",
       "4      Which of the following is a strategy that the ...  \n",
       "...                                                  ...  \n",
       "31737         At what height does State Route 160 start?  \n",
       "31738  What team was Horace Grant's twin brother trad...  \n",
       "31739  What was the position of Jean Baptiste Androue...  \n",
       "31740  Who is the lead vocalist for Maroon 5's sixth ...  \n",
       "31741  What type of magazine is Eugene Habecker the c...  \n",
       "\n",
       "[31742 rows x 10 columns]"
      ]
     },
     "execution_count": 45,
     "metadata": {},
     "output_type": "execute_result"
    }
   ],
   "source": [
    "itrf"
   ]
  },
  {
   "cell_type": "code",
   "execution_count": 46,
   "metadata": {},
   "outputs": [
    {
     "data": {
      "text/plain": [
       "Dataset({\n",
       "    features: ['question', 'answer', 'contexts', 'ground_truth'],\n",
       "    num_rows: 2\n",
       "})"
      ]
     },
     "execution_count": 46,
     "metadata": {},
     "output_type": "execute_result"
    }
   ],
   "source": [
    "data_samples = {\n",
    "    'question': ['When was the first super bowl?', 'Who won the most super bowls?'],\n",
    "    'answer': ['The first superbowl was held on January 15, 1967', 'The most super bowls have been won by The New England Patriots'],\n",
    "    'contexts' : [['The Super Bowl....season since 1966,','replacing the NFL...in February.'], \n",
    "    ['The Green Bay Packers...Green Bay, Wisconsin.','The Packers compete...Football Conference']],\n",
    "    'ground_truth': ['The first superbowl was held on January 15, 1967', 'The New England Patriots have won the Super Bowl a record six times']\n",
    "}\n",
    "dataset = Dataset.from_dict(data_samples)\n",
    "dataset"
   ]
  },
  {
   "cell_type": "code",
   "execution_count": 1,
   "metadata": {},
   "outputs": [],
   "source": [
    "from pandas import read_parquet\n",
    "\n",
    "itrf = read_parquet(\"../data/evaluation_results/itrf_evaluation_llmware_llmware_evaluated.parquet\")"
   ]
  },
  {
   "cell_type": "code",
   "execution_count": 8,
   "metadata": {},
   "outputs": [
    {
     "data": {
      "text/plain": [
       "0.22547177478341435"
      ]
     },
     "execution_count": 8,
     "metadata": {},
     "output_type": "execute_result"
    }
   ],
   "source": [
    "itrf[[\"faithfulness\",\"answer_relevancy\", \"answer_similarity\",\"context_recall\",\"context_precision\"]].mean()"
   ]
  },
  {
   "cell_type": "code",
   "execution_count": 63,
   "metadata": {},
   "outputs": [],
   "source": [
    "from pandas import DataFrame\n",
    "result = DataFrame(columns=itrf.columns)"
   ]
  },
  {
   "cell_type": "code",
   "execution_count": 87,
   "metadata": {},
   "outputs": [
    {
     "data": {
      "text/plain": [
       "16800"
      ]
     },
     "execution_count": 87,
     "metadata": {},
     "output_type": "execute_result"
    }
   ],
   "source": [
    "import pandas as pd\n",
    "\n",
    "result = pd.concat([result, itrf.sample(400), itrf.sample(400)])\n",
    "\n",
    "len(result)"
   ]
  },
  {
   "cell_type": "code",
   "execution_count": 89,
   "metadata": {},
   "outputs": [],
   "source": [
    "result.drop_duplicates(inplace=True, subset=[\"query\", \"src\", \"id\"])"
   ]
  },
  {
   "cell_type": "code",
   "execution_count": 91,
   "metadata": {},
   "outputs": [
    {
     "data": {
      "text/plain": [
       "13051"
      ]
     },
     "execution_count": 91,
     "metadata": {},
     "output_type": "execute_result"
    }
   ],
   "source": [
    "len(result)"
   ]
  }
 ],
 "metadata": {
  "kernelspec": {
   "display_name": "base",
   "language": "python",
   "name": "python3"
  },
  "language_info": {
   "codemirror_mode": {
    "name": "ipython",
    "version": 3
   },
   "file_extension": ".py",
   "mimetype": "text/x-python",
   "name": "python",
   "nbconvert_exporter": "python",
   "pygments_lexer": "ipython3",
   "version": "3.10.13"
  }
 },
 "nbformat": 4,
 "nbformat_minor": 2
}
