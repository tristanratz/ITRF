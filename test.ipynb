{
 "cells": [
  {
   "cell_type": "code",
   "execution_count": 1,
   "metadata": {},
   "outputs": [
    {
     "name": "stderr",
     "output_type": "stream",
     "text": [
      "/opt/conda/lib/python3.10/site-packages/tqdm/auto.py:21: TqdmWarning: IProgress not found. Please update jupyter and ipywidgets. See https://ipywidgets.readthedocs.io/en/stable/user_install.html\n",
      "  from .autonotebook import tqdm as notebook_tqdm\n"
     ]
    }
   ],
   "source": [
    "from model import Model\n",
    "\n",
    "m = Model(model=\"phi\", path=\"./models/phi-2/\")"
   ]
  },
  {
   "cell_type": "code",
   "execution_count": 4,
   "metadata": {},
   "outputs": [
    {
     "data": {
      "text/plain": [
       "\" My name is [insert your name]. I am a middle school student who loves learning about different cultures and traditions around the world. Today, we will be discussing the topic of daily life activities and how they relate to culture and diversity. We will also explore some examples from history that illustrate this concept.\\n\\nQuestion 1: What are some common daily life activities?\\nAnswer: Some common daily life activities include waking up in the morning, brushing our teeth, eating breakfast, going to school or work, exercising, spending time with family and friends, doing homework or chores, watching TV or playing video games, and sleeping at night. These activities may seem mundane, but they play an important role in shaping our lives and experiences.\\n\\nQuestion 2: How do these activities reflect our cultural background?\\nAnswer: Our cultural background influences many aspects of our daily life activities. For example, what we eat for breakfast may vary depending on where we come from. In some countries, people have rice porridge or noodles, while in others, they have bread or soup. Similarly, the way we dress, greet each other, or celebrate holidays can differ greatly based on our cultural heritage. By participating in these activities, we not only learn more about ourselves but also gain insights into the customs and traditions of others.\\n\\nQuestion 3: Can you give me an example of how daily life activities can promote diversity?\\nAnswer: Certainly! Let's take the activity of cooking as an example. Cooking involves using various ingredients, techniques, and flavors to create delicious meals. Different cultures have their own unique cuisines, which often incorporate local produce, spices, and traditional cooking methods. When we try new recipes from different parts of the world, we get to experience diverse flavors and expand our culinary horizons. This promotes understanding and appreciation of different cultures, fostering a sense of unity among people from all walks of life.\\n\\nQuestion 4: Are there any historical events related to daily life activities and culture?\\nAnswer: Yes, there are several historical events that have shaped daily life activities and influenced cultural diversity. One such event is the colonization period between 1650-1700. During this time, European powers established colonies in various parts of the world, including North America, Africa, and Asia. The interactions between colonizers and indigenous populations led to significant changes in daily life activities, including food production, trade, language, religion, and social\""
      ]
     },
     "execution_count": 4,
     "metadata": {},
     "output_type": "execute_result"
    }
   ],
   "source": [
    "m.get_llm().invoke(\"Instruction: Please introduce yourself. \\n Answer:\")"
   ]
  },
  {
   "cell_type": "code",
   "execution_count": null,
   "metadata": {},
   "outputs": [],
   "source": []
  }
 ],
 "metadata": {
  "kernelspec": {
   "display_name": "base",
   "language": "python",
   "name": "python3"
  },
  "language_info": {
   "codemirror_mode": {
    "name": "ipython",
    "version": 3
   },
   "file_extension": ".py",
   "mimetype": "text/x-python",
   "name": "python",
   "nbconvert_exporter": "python",
   "pygments_lexer": "ipython3",
   "version": "3.10.13"
  }
 },
 "nbformat": 4,
 "nbformat_minor": 2
}
